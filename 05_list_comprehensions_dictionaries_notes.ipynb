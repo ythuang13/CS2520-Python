{
 "cells": [
  {
   "cell_type": "markdown",
   "metadata": {},
   "source": [
    "## List comprehensions\n",
    "\n",
    "Let's say we have the following task. We are given a list of words:"
   ]
  },
  {
   "cell_type": "code",
   "execution_count": null,
   "metadata": {},
   "outputs": [],
   "source": [
    "words = [\"sky\", \"water\", \"air\", \"nature\", \"forest\", \"ice\"]"
   ]
  },
  {
   "cell_type": "markdown",
   "metadata": {},
   "source": [
    "We want to create a list where we will collect the length of the words from `words`. Using what we have learned about Python so far,a solution could look like the one below."
   ]
  },
  {
   "cell_type": "code",
   "execution_count": null,
   "metadata": {},
   "outputs": [],
   "source": [
    "lengths = []\n",
    "\n"
   ]
  },
  {
   "cell_type": "markdown",
   "metadata": {},
   "source": [
    "How does this code work? We\n",
    "\n",
    "- Instantiate an empty list.\n",
    "- Loop over an iterable or range of elements.\n",
    "- Compute the length for each element and append it to the end of the list.\n"
   ]
  },
  {
   "cell_type": "markdown",
   "metadata": {},
   "source": [
    "### Basics of list comprehensions\n",
    "\n",
    "**List comprehensions** are a second, elegant way of dynamically constructic lists using a single line of code.\n",
    "Style wise, this approach is considered more \"Pythonic\",a llowing you to focus of the logic behind the new list and worry less about the way it is constructed.\n",
    "\n",
    "In the example above, we used the following code:\n",
    "\n",
    "    new_list = []\n",
    "    for item in some_iterable:\n",
    "      new_list.append(function(item))\n",
    "      \n",
    "Now, rather than creating an empty list and adding each element to the end, we can do:\n",
    "\n",
    "    \n",
    "    new_list = [expression for item in some_iterable]\n",
    "    \n",
    "This allows us to simply define the list and its contents at the same time."
   ]
  },
  {
   "cell_type": "code",
   "execution_count": null,
   "metadata": {},
   "outputs": [],
   "source": [
    "lengths = [len(word) for word in words]"
   ]
  },
  {
   "cell_type": "markdown",
   "metadata": {},
   "source": [
    "Every list comprehension in Python includes three elements:\n",
    "\n",
    "- the *expression* is the item itself, a call to a method, or any other valid expression that returns a value. In the example above, the expression `len(w)` gets you the length of each item.\n",
    "- the *item* is the object or value in the list or iterable. In the example above, the member value is `w`.\n",
    "- *some_iterable* is a list, set, sequence, generator, or any other object that can return its elements one at a time. In the example above, the iterable is the list `words`.\n",
    "\n",
    "Note the the requirements on how the expression is defined are very flexible.\n",
    "For instance, we can create a new list where every single word from the old list would be reversed."
   ]
  },
  {
   "cell_type": "code",
   "execution_count": null,
   "metadata": {},
   "outputs": [],
   "source": []
  },
  {
   "cell_type": "markdown",
   "metadata": {},
   "source": [
    "Or maybe you want to create a list where all letters in `words` are masked:"
   ]
  },
  {
   "cell_type": "code",
   "execution_count": null,
   "metadata": {},
   "outputs": [],
   "source": []
  },
  {
   "cell_type": "markdown",
   "metadata": {},
   "source": [
    "And, of course, it is possible to map all values of the variable `w` to something that does not depend on `w` at all:"
   ]
  },
  {
   "cell_type": "code",
   "execution_count": null,
   "metadata": {},
   "outputs": [],
   "source": []
  },
  {
   "cell_type": "markdown",
   "metadata": {},
   "source": [
    "**Practice 1:** create a list containing the last letter of every word in `words`."
   ]
  },
  {
   "cell_type": "code",
   "execution_count": null,
   "metadata": {},
   "outputs": [],
   "source": []
  },
  {
   "cell_type": "markdown",
   "metadata": {},
   "source": [
    "**Practice 2:** You are given two lists: `words` and `new_indices`."
   ]
  },
  {
   "cell_type": "code",
   "execution_count": 1,
   "metadata": {},
   "outputs": [],
   "source": [
    "words = [\"sky\", \"water\", \"air\", \"nature\", \"forest\", \"ice\"]\n",
    "new_indices = [3, 0, 5, 1, 2, 4]"
   ]
  },
  {
   "cell_type": "markdown",
   "metadata": {},
   "source": [
    "Write a list comprehension that would yield the following list:\n",
    "\n",
    "    ['nature', 'sky', 'ice', 'water', 'air', 'forest']"
   ]
  },
  {
   "cell_type": "code",
   "execution_count": 2,
   "metadata": {},
   "outputs": [
    {
     "data": {
      "text/plain": [
       "['nature', 'sky', 'ice', 'water', 'air', 'forest']"
      ]
     },
     "execution_count": 2,
     "metadata": {},
     "output_type": "execute_result"
    }
   ],
   "source": [
    "[words[i] for i in new_indices]"
   ]
  },
  {
   "cell_type": "markdown",
   "metadata": {},
   "source": [
    "As mentioned, list comprehensions are also **more declarative** than loops, which means they’re easier to read and understand.\n",
    "Loops need you to focus on how the list is created. You have to manually create an empty list, loop over the elements, and add each of them to the end of the list. With a list comprehension in Python, you can instead focus on what you want to go in the list and trust that Python will take care of how the list construction takes place.\n",
    "\n",
    "To read more about the advantages of this technique, you can check out [this blog posts and references therein](https://towardsdatascience.com/python-basics-list-comprehensions-631278f22c40)."
   ]
  },
  {
   "cell_type": "markdown",
   "metadata": {},
   "source": [
    "### Adding conditions to list comprehensions\n",
    "\n",
    "So far the list comprehensions we wrote were using the following logic:\n",
    "  \n",
    "  1. consider an item from some iterable;\n",
    "  2. based on the value of item, create some new item;\n",
    "  3. add this new item to a new list.\n",
    "  \n",
    "However, comprehensions would be less useful if we couldn't add *conditionals* to the way the build lists.\n",
    "Consider now the following two lists: `swadesh` and `words`."
   ]
  },
  {
   "cell_type": "code",
   "execution_count": null,
   "metadata": {},
   "outputs": [],
   "source": [
    "swadesh = [\"fish\", \"bird\", \"dog\", \"house\", \"tree\", \"seed\"]\n",
    "words = [\"bird\", \"laptop\", \"puppy\", \"house\", \"seed\", \"Python\"]"
   ]
  },
  {
   "cell_type": "markdown",
   "metadata": {},
   "source": [
    "The task is to make a copy of `words` that will contain only the words that are also included in the Swadesh list."
   ]
  },
  {
   "cell_type": "code",
   "execution_count": null,
   "metadata": {},
   "outputs": [],
   "source": [
    "# Standard implementation Using Loops\n",
    "\n"
   ]
  },
  {
   "cell_type": "markdown",
   "metadata": {},
   "source": [
    "It is also possible to do it using a list comprehension. The syntax will be the following:\n",
    "\n",
    "    new_list = [expression for item in some_iterable if condition]"
   ]
  },
  {
   "cell_type": "code",
   "execution_count": null,
   "metadata": {
    "scrolled": true
   },
   "outputs": [],
   "source": []
  },
  {
   "cell_type": "markdown",
   "metadata": {},
   "source": [
    "As with loops, conditionals are important as they allow us to filter out unwanted values."
   ]
  },
  {
   "cell_type": "markdown",
   "metadata": {},
   "source": [
    "**Practice.** Make a copy of the list `swadesh` that will only contain words that end with a vowel. If it helps, write the standard for loop first, and then write a version with a list comprehension."
   ]
  },
  {
   "cell_type": "code",
   "execution_count": 3,
   "metadata": {},
   "outputs": [
    {
     "data": {
      "text/plain": [
       "['house', 'tree']"
      ]
     },
     "execution_count": 3,
     "metadata": {},
     "output_type": "execute_result"
    }
   ],
   "source": [
    "swadesh = [\"fish\", \"bird\", \"dog\", \"house\", \"tree\", \"seed\"]\n",
    "\n",
    "# your code\n",
    "[w for w in swadesh if w[-1] in \"aeiou\"]"
   ]
  },
  {
   "cell_type": "markdown",
   "metadata": {},
   "source": [
    "### More complicated list comprehensions \n",
    "\n",
    "It is also possible to add `else` and a second `for` loop in list comprehensions. However, more \"overloaded\" the list comprehension is, less readable it is. \n",
    "\n",
    "My general advice would be not to use a list comprehension if you are see that it looks very scary and unreadable. :)\n",
    "\n",
    "However, consider the following examples of list comprehensions and their \"unfolded\" versions.\n",
    "\n",
    "**Example 1.** Make a copy of the list `words`. Leave the words unmasked if those words are included in the `swadesh` list, otherwise mask them as \"UNK\"."
   ]
  },
  {
   "cell_type": "code",
   "execution_count": 7,
   "metadata": {},
   "outputs": [],
   "source": [
    "swadesh = [\"fish\", \"bird\", \"dog\", \"house\", \"tree\", \"seed\"]\n",
    "words = [\"bird\", \"laptop\", \"puppy\", \"house\", \"seed\", \"Python\"]"
   ]
  },
  {
   "cell_type": "markdown",
   "metadata": {},
   "source": [
    "**Solution 1**: No list comprehension:"
   ]
  },
  {
   "cell_type": "code",
   "execution_count": null,
   "metadata": {},
   "outputs": [],
   "source": [
    "words_1 = []\n",
    "for w in words:\n",
    "    if w in swadesh:\n",
    "        words_1.append(w)\n",
    "    else:\n",
    "        words_1.append(\"UNK\")\n",
    "print(words_1)"
   ]
  },
  {
   "cell_type": "markdown",
   "metadata": {},
   "source": [
    "**Solution 2**: With a list comprehension:"
   ]
  },
  {
   "cell_type": "code",
   "execution_count": 10,
   "metadata": {},
   "outputs": [
    {
     "data": {
      "text/plain": [
       "['bird', 'UNK', 'UNK', 'house', 'seed', 'UNK']"
      ]
     },
     "execution_count": 10,
     "metadata": {},
     "output_type": "execute_result"
    }
   ],
   "source": [
    "[w if w in swadesh else \"UNK\" for w in words]"
   ]
  },
  {
   "cell_type": "markdown",
   "metadata": {},
   "source": [
    "In this case, the nested list comprehensions solution is arguably still more readable than the one using nested loop.s"
   ]
  },
  {
   "cell_type": "markdown",
   "metadata": {},
   "source": [
    "**Example 2.** Imagine we want to create a list of letters all letters from `words` while preserving their order."
   ]
  },
  {
   "cell_type": "code",
   "execution_count": null,
   "metadata": {},
   "outputs": [],
   "source": []
  },
  {
   "cell_type": "markdown",
   "metadata": {},
   "source": [
    "It is also possible to do using a list comprehension:"
   ]
  },
  {
   "cell_type": "code",
   "execution_count": 12,
   "metadata": {},
   "outputs": [
    {
     "data": {
      "text/plain": [
       "['b',\n",
       " 'i',\n",
       " 'r',\n",
       " 'd',\n",
       " 'l',\n",
       " 'a',\n",
       " 'p',\n",
       " 't',\n",
       " 'o',\n",
       " 'p',\n",
       " 'p',\n",
       " 'u',\n",
       " 'p',\n",
       " 'p',\n",
       " 'y',\n",
       " 'h',\n",
       " 'o',\n",
       " 'u',\n",
       " 's',\n",
       " 'e',\n",
       " 's',\n",
       " 'e',\n",
       " 'e',\n",
       " 'd',\n",
       " 'P',\n",
       " 'y',\n",
       " 't',\n",
       " 'h',\n",
       " 'o',\n",
       " 'n']"
      ]
     },
     "execution_count": 12,
     "metadata": {},
     "output_type": "execute_result"
    }
   ],
   "source": [
    "[l for w in words for l in w]"
   ]
  },
  {
   "cell_type": "markdown",
   "metadata": {},
   "source": [
    "Bonus way to get the same output:"
   ]
  },
  {
   "cell_type": "code",
   "execution_count": 14,
   "metadata": {
    "scrolled": true
   },
   "outputs": [
    {
     "data": {
      "text/plain": [
       "['b',\n",
       " 'i',\n",
       " 'r',\n",
       " 'd',\n",
       " 'l',\n",
       " 'a',\n",
       " 'p',\n",
       " 't',\n",
       " 'o',\n",
       " 'p',\n",
       " 'p',\n",
       " 'u',\n",
       " 'p',\n",
       " 'p',\n",
       " 'y',\n",
       " 'h',\n",
       " 'o',\n",
       " 'u',\n",
       " 's',\n",
       " 'e',\n",
       " 's',\n",
       " 'e',\n",
       " 'e',\n",
       " 'd',\n",
       " 'P',\n",
       " 'y',\n",
       " 't',\n",
       " 'h',\n",
       " 'o',\n",
       " 'n']"
      ]
     },
     "execution_count": 14,
     "metadata": {},
     "output_type": "execute_result"
    }
   ],
   "source": [
    "list(\"\".join(words))"
   ]
  },
  {
   "cell_type": "code",
   "execution_count": 15,
   "metadata": {},
   "outputs": [
    {
     "data": {
      "text/plain": [
       "[400, 900, 3600, 2025, 9801]"
      ]
     },
     "execution_count": 15,
     "metadata": {},
     "output_type": "execute_result"
    }
   ],
   "source": [
    "numbers = [2,7,14,20,56,30,60,45,99]\n",
    "\n",
    "[n ** 2 for n in numbers if (n % 3 == 0 or n % 5 == 0) and n ** 2 > 50]"
   ]
  },
  {
   "cell_type": "markdown",
   "metadata": {},
   "source": [
    "## Dictionaries\n",
    "\n",
    "Ok, let's not take a (short) break from loops, and talk about an useful new data structure.\n",
    "\n",
    "Studying objects like strings and lists, we have learned to uniquely identify an item within an object _by its index_. However, in order to be able to access something by index, objects need to be ordered.\n",
    "\n",
    "When working with complex data though, it is sometimes useful to create objects that are not intrinsically ordered.\n",
    "However, we would still need to be able to uniquely refer to elements within such objects.\n",
    "A **Dictionary** is an unordered data type (`dict`) that associates every _value_ with its _key_.\n",
    "\n",
    "    dictionary = {key_1:value_1, key_2:value_2, ..., key_n:value_n}\n",
    "    \n",
    "Thus, we can uniquely identify elements within a dictionary (the values)  by their name (by key_).\n",
    "    \n",
    "### Requirements for keys and values\n",
    "\n",
    "-  The **keys** must be unique (of course, because they are used _instead_ of indices). The data type of the key must be _immutable_. **Immutable** objects cannot be modified directly after they are created. Remember how difficult it is to modify a string and how easy it is to modify a list? Strings are _immutable objects_, and lists are _mutable_.\n",
    "\n",
    "**Question** Why do yu think it is important to use *Immutable** objects as keys?\n",
    "\n",
    "- The **values** can be anything, and they can be repeated as well."
   ]
  },
  {
   "cell_type": "code",
   "execution_count": null,
   "metadata": {},
   "outputs": [],
   "source": [
    "int_keys = {37: \"hello\", 9: \"world\"}\n",
    "float_keys = {48.2: \"hello\", 3.0: \"world\"}\n",
    "string_keys = {\"hello\": \"world\", \"goodbye\": \"earth\"}\n",
    "bool_keys = {True: \"hello\", False: \"world\"}"
   ]
  },
  {
   "cell_type": "markdown",
   "metadata": {},
   "source": [
    "Lists are mutable, and therefore they cannot be used as keys. Note the error Python gives you: ` unhashable ` types are mutable (the can be changed once instantiated)."
   ]
  },
  {
   "cell_type": "code",
   "execution_count": 2,
   "metadata": {},
   "outputs": [
    {
     "ename": "TypeError",
     "evalue": "unhashable type: 'list'",
     "output_type": "error",
     "traceback": [
      "\u001b[0;31m----------------------------------------------------------------------\u001b[0m",
      "\u001b[0;31mTypeError\u001b[0m                            Traceback (most recent call last)",
      "\u001b[0;32m<ipython-input-2-120b23818804>\u001b[0m in \u001b[0;36m<module>\u001b[0;34m\u001b[0m\n\u001b[0;32m----> 1\u001b[0;31m \u001b[0mlist_keys\u001b[0m \u001b[0;34m=\u001b[0m \u001b[0;34m{\u001b[0m\u001b[0;34m[\u001b[0m\u001b[0;36m1\u001b[0m\u001b[0;34m,\u001b[0m \u001b[0;36m2\u001b[0m\u001b[0;34m]\u001b[0m\u001b[0;34m:\u001b[0m \u001b[0;34m\"Hello\"\u001b[0m\u001b[0;34m}\u001b[0m\u001b[0;34m\u001b[0m\u001b[0;34m\u001b[0m\u001b[0m\n\u001b[0m",
      "\u001b[0;31mTypeError\u001b[0m: unhashable type: 'list'"
     ]
    }
   ],
   "source": [
    "list_keys = {[1, 2]: \"Hello\"}"
   ]
  },
  {
   "cell_type": "markdown",
   "metadata": {},
   "source": [
    "But they can be easily used as values."
   ]
  },
  {
   "cell_type": "code",
   "execution_count": 1,
   "metadata": {},
   "outputs": [],
   "source": [
    "list_val = {\"list1\": [1, 2]}"
   ]
  },
  {
   "cell_type": "markdown",
   "metadata": {},
   "source": [
    "As we learned earlier, keys must be _unique_. If several different dictionary items are defined with the same key, only the item that was mentioned the last will be included in the dictionary.\n",
    "\n",
    "**Warning** This means that if you instatiate a dictionary with duplicate keys, Python will not raise an error. But your code will not work as expected."
   ]
  },
  {
   "cell_type": "code",
   "execution_count": 3,
   "metadata": {},
   "outputs": [
    {
     "name": "stdout",
     "output_type": "stream",
     "text": [
      "{42: 'again', 0: 'world'}\n"
     ]
    }
   ],
   "source": [
    "int_keys = {42: \"hello\", 0: \"world\", 42: \"again\"}\n",
    "print(int_keys)"
   ]
  },
  {
   "cell_type": "markdown",
   "metadata": {},
   "source": [
    "**Question:** what is the maximal size of a dictionary where all the keys are of the type `bool`?"
   ]
  },
  {
   "cell_type": "markdown",
   "metadata": {},
   "source": [
    "**A Case Study: A Dictionary with ISO 639 language codes**\n",
    "\n",
    "Consider the following dictionary with some of the [ISO 639](https://en.wikipedia.org/wiki/List_of_ISO_639-1_codes) codes of languages."
   ]
  },
  {
   "cell_type": "code",
   "execution_count": null,
   "metadata": {},
   "outputs": [],
   "source": [
    "iso_639 = {'ny': ['Chichewa', 'Chewa', 'Nyanja'], \n",
    "           'zh': ['Chinese'], \n",
    "           'cs': ['Czech'], \n",
    "           'da': ['Danish'], \n",
    "           'dv': ['Divehi', 'Maldivian']}"
   ]
  },
  {
   "cell_type": "markdown",
   "metadata": {},
   "source": [
    "Values can be accessed by keys in the same way as we were accessing them by indices before:"
   ]
  },
  {
   "cell_type": "code",
   "execution_count": null,
   "metadata": {},
   "outputs": [],
   "source": [
    "print(\"The value of \\\"ny\\\" is\", iso_639[\"ny\"])\n",
    "print(\"The value of \\\"da\\\" is\", iso_639[\"da\"])"
   ]
  },
  {
   "cell_type": "markdown",
   "metadata": {},
   "source": [
    "**Question.** How to access the string \"Chewa\"?"
   ]
  },
  {
   "cell_type": "code",
   "execution_count": null,
   "metadata": {},
   "outputs": [],
   "source": []
  },
  {
   "cell_type": "markdown",
   "metadata": {},
   "source": [
    "Adding a new item to the dictionary is extremely easy.\n",
    "    \n",
    "    dictionary[new_key] = new_value"
   ]
  },
  {
   "cell_type": "code",
   "execution_count": 4,
   "metadata": {},
   "outputs": [
    {
     "ename": "NameError",
     "evalue": "name 'iso_639' is not defined",
     "output_type": "error",
     "traceback": [
      "\u001b[0;31m----------------------------------------------------------------------\u001b[0m",
      "\u001b[0;31mNameError\u001b[0m                            Traceback (most recent call last)",
      "\u001b[0;32m<ipython-input-4-f34a208be404>\u001b[0m in \u001b[0;36m<module>\u001b[0;34m\u001b[0m\n\u001b[0;32m----> 1\u001b[0;31m \u001b[0miso_639\u001b[0m\u001b[0;34m[\u001b[0m\u001b[0;34m\"ru\"\u001b[0m\u001b[0;34m]\u001b[0m \u001b[0;34m=\u001b[0m \u001b[0;34m[\u001b[0m\u001b[0;34m\"Russian\"\u001b[0m\u001b[0;34m]\u001b[0m\u001b[0;34m\u001b[0m\u001b[0;34m\u001b[0m\u001b[0m\n\u001b[0m\u001b[1;32m      2\u001b[0m \u001b[0mprint\u001b[0m\u001b[0;34m(\u001b[0m\u001b[0miso_639\u001b[0m\u001b[0;34m)\u001b[0m\u001b[0;34m\u001b[0m\u001b[0;34m\u001b[0m\u001b[0m\n",
      "\u001b[0;31mNameError\u001b[0m: name 'iso_639' is not defined"
     ]
    }
   ],
   "source": [
    "iso_639[\"ru\"] = [\"Russian\"]\n",
    "print(iso_639)"
   ]
  },
  {
   "cell_type": "markdown",
   "metadata": {},
   "source": [
    "### Iterating over dictionaries\n",
    "\n",
    "Dictionaries can be iterated over. But the thing to be beware of is that iterating over the dictionary actually **iterates over the keys**."
   ]
  },
  {
   "cell_type": "code",
   "execution_count": null,
   "metadata": {},
   "outputs": [],
   "source": [
    "for language in iso_639:\n",
    "    print(language, end=\" \")"
   ]
  },
  {
   "cell_type": "markdown",
   "metadata": {},
   "source": [
    "**Practice.** Modify the for loop above so that it produces the following output:\n",
    "\n",
    "    ny -> ['Chichewa', 'Chewa', 'Nyanja']\n",
    "    zh -> ['Chinese']\n",
    "    cs -> ['Czech']\n",
    "    da -> ['Danish']\n",
    "    dv -> ['Divehi', 'Maldivian']\n",
    "    ru -> ['Russian']"
   ]
  },
  {
   "cell_type": "code",
   "execution_count": null,
   "metadata": {},
   "outputs": [],
   "source": [
    "#write your code here"
   ]
  },
  {
   "cell_type": "markdown",
   "metadata": {},
   "source": [
    "One way to iterate over the `key:value` pairs is to apply `.items()` method to the dictionary.\n",
    "That method extracts each `key:value` pair as a single element, by turning them into a _tuple_. (Remember `zip` and `enumerate`? Tuples are basically _immutable_ versions of lists.)"
   ]
  },
  {
   "cell_type": "code",
   "execution_count": null,
   "metadata": {},
   "outputs": [],
   "source": []
  },
  {
   "cell_type": "markdown",
   "metadata": {},
   "source": [
    "### Methods defined for dictionaries\n",
    "\n",
    "As for lists and strings, there are many useful methods associated to dictionaries.\n",
    "This section of the notebooks exemplifies a few important ones.\n",
    "\n",
    "  * method `.keys()` returns a collection of keys;\n",
    "  * method `.values()` returns a collection of values;\n",
    "  * method `.clear()` removes all items from a dictionary;\n",
    "  * operator `del` deletes an item by its key.\n",
    "  \n",
    "Click on [this link](https://www.programiz.com/python-programming/methods/dictionary) if you want to learn more.\n",
    "Consider now the following dictionary:"
   ]
  },
  {
   "cell_type": "code",
   "execution_count": null,
   "metadata": {},
   "outputs": [],
   "source": [
    "zip_codes = {\"Stony Brook\": [11733, 11790, 11794],\n",
    "             \"Port Jefferson\": [11777],\n",
    "             \"Lake Grove\": [11755, 11790]\n",
    "            }"
   ]
  },
  {
   "cell_type": "markdown",
   "metadata": {},
   "source": [
    "First of all, it is possible to separate a dictionary into independent collections of keys and list of values.\n",
    "The method `.keys()` returns a collection of keys from a dictionary, and it can easily be typecasted into a list."
   ]
  },
  {
   "cell_type": "code",
   "execution_count": null,
   "metadata": {},
   "outputs": [],
   "source": [
    "print(\"Keys:            \",) #your code)\n",
    "print(\"Keys (as a list):\",) #your code)"
   ]
  },
  {
   "cell_type": "markdown",
   "metadata": {},
   "source": [
    "The method `.values()` returns a collection of values, and it also can easily be typecasted into a list."
   ]
  },
  {
   "cell_type": "code",
   "execution_count": null,
   "metadata": {},
   "outputs": [],
   "source": [
    "print(\"Values:            \", #your code)\n",
    "print(\"Values (as a list):\", #your code)"
   ]
  },
  {
   "cell_type": "markdown",
   "metadata": {},
   "source": [
    "**Practice 1.** Create a list of keys in `zip_codes` using a list comprehension."
   ]
  },
  {
   "cell_type": "code",
   "execution_count": null,
   "metadata": {},
   "outputs": [],
   "source": []
  },
  {
   "cell_type": "markdown",
   "metadata": {},
   "source": [
    "**Practice 2.** Now create a list of values in `zip_codes` using a list comprehension."
   ]
  },
  {
   "cell_type": "code",
   "execution_count": null,
   "metadata": {},
   "outputs": [],
   "source": []
  },
  {
   "cell_type": "markdown",
   "metadata": {},
   "source": [
    "Similarly to lists, the operator `del` removes an item from a dictionary.\n",
    "\n",
    "When we were looking at the list methods, we saw the `del` deletes an item by its index. Dictionary items do not have indices, but they have keys, so `del` deletes an object from a dictionary _by key_."
   ]
  },
  {
   "cell_type": "code",
   "execution_count": null,
   "metadata": {},
   "outputs": [],
   "source": [
    "del zip_codes[\"Stony Brook\"]\n",
    "print(zip_codes)"
   ]
  },
  {
   "cell_type": "markdown",
   "metadata": {},
   "source": [
    "Finally, `.clear()` completely wipes the dictionary:"
   ]
  },
  {
   "cell_type": "code",
   "execution_count": null,
   "metadata": {
    "scrolled": true
   },
   "outputs": [],
   "source": [
    "zip_codes.clear()\n",
    "print(zip_codes)"
   ]
  },
  {
   "cell_type": "markdown",
   "metadata": {},
   "source": [
    "**Example.** Let's look at a practicl example of how to use dictionaries. We are given lists `fruits` and `prices`."
   ]
  },
  {
   "cell_type": "code",
   "execution_count": 1,
   "metadata": {},
   "outputs": [],
   "source": [
    "fruits = [\"banana\", \"apple\", \"apple\", \"peach\", \"kiwi\", \"kiwi\", \"kiwi\"]\n",
    "prices = [\"$1.20\", \"$0.87\", \"$0.48\", \"$2.9\", \"$0.93\", \"$1.48\", \"$1.05\"]"
   ]
  },
  {
   "cell_type": "markdown",
   "metadata": {},
   "source": [
    "It means that the only observed price of a banana is $\\$1.20$. In different stores, apples cost $\\$0.87$ and $\\$0.48$, and so on. We want to create a dictionary that will store all the prices in the following way:\n",
    "\n",
    "    {'banana': ['$1.20'], 'apple': ['$0.87', '$0.48'], 'peach': ['$2.9'], 'kiwi': ['$0.93', '$1.48', '$1.05']}"
   ]
  },
  {
   "cell_type": "code",
   "execution_count": 4,
   "metadata": {},
   "outputs": [
    {
     "name": "stdout",
     "output_type": "stream",
     "text": [
      "{'banana': ['$1.20'], 'apple': ['$0.87', '$0.48'], 'peach': ['$2.9'], 'kiwi': ['$0.93', '$1.48', '$1.05']}\n"
     ]
    }
   ],
   "source": [
    "fruit_prices = {}\n",
    "for i in range(len(fruits)):\n",
    "    if fruits[i] not in fruit_prices:\n",
    "        fruit_prices[fruits[i]] = [prices[i]]\n",
    "    else:\n",
    "        fruit_prices[fruits[i]].append(prices[i])\n",
    "\n",
    "print(fruit_prices)"
   ]
  },
  {
   "cell_type": "markdown",
   "metadata": {},
   "source": [
    "**Practice.** An easy way to calculate a sum of all numbers before a certain integer (excluding that integer) is the following one:"
   ]
  },
  {
   "cell_type": "code",
   "execution_count": null,
   "metadata": {},
   "outputs": [],
   "source": [
    "a = 8\n",
    "print(\"1 + 2 + 3 + 4 + 5 + 6 + 7 =\", sum(range(a)))\n",
    "\n",
    "b = 16\n",
    "print(\"1 + 2 + 3 + ... + 14 + 15 =\", sum(range(b)))"
   ]
  },
  {
   "cell_type": "markdown",
   "metadata": {},
   "source": [
    "Create a dictionary where keys will be natural numbers from $1$ to $10$. For every key $n$, its value is the sum of all numbers from $0$ up to $n-1$.\n",
    "\n",
    "    sums = {1: 0, 2: 1, 3: 3, 4: 6, 5: 10, 6: 15, 7: 21, 8: 28, 9: 36, 10: 45}"
   ]
  },
  {
   "cell_type": "code",
   "execution_count": 8,
   "metadata": {},
   "outputs": [
    {
     "name": "stdout",
     "output_type": "stream",
     "text": [
      "{1: 0, 2: 1, 3: 3, 4: 6, 5: 10, 6: 15, 7: 21, 8: 28, 9: 36, 10: 45}\n"
     ]
    }
   ],
   "source": [
    "sums = {k: sum(range(k)) for k in range(1, 11)}\n",
    "sums = {k: k*(k-1)//2 for k in range(1, 11)}\n",
    "print(sums)"
   ]
  },
  {
   "cell_type": "markdown",
   "metadata": {},
   "source": [
    "## (Optional!) Advanced section: `map`\n",
    "\n",
    "`map` is a third way to create lists, similalry to loops and list comprehensions.\n",
    "The idea is to \"map\" every single item of a given iterable to a new value. \n",
    "    \n",
    "    new_iterable = map(expression, old_iterable)\n",
    "    \n",
    "The parameter `expression` represents any function such as `len`, `sum`, `range`, or others. `map` creates a _map_ object that can be easily converted to a list. (You can also use your own customized functions, as we will learn in a few weeks!)"
   ]
  },
  {
   "cell_type": "code",
   "execution_count": null,
   "metadata": {},
   "outputs": [],
   "source": [
    "lengths = map(len, words)\n",
    "print(\"Map object:\", lengths)\n",
    "print(\"Map object:\", list(lengths))"
   ]
  },
  {
   "cell_type": "code",
   "execution_count": 15,
   "metadata": {},
   "outputs": [
    {
     "name": "stdout",
     "output_type": "stream",
     "text": [
      "[3, 5, 7, 9, 11]\n"
     ]
    }
   ],
   "source": [
    "numbers = range(1, 6)\n",
    "new_numbers = list(map(lambda x: x*2 + 1, numbers))\n",
    "print(new_numbers)"
   ]
  },
  {
   "cell_type": "markdown",
   "metadata": {},
   "source": [
    "**A very advanced question:** You are given the `initial_range`."
   ]
  },
  {
   "cell_type": "code",
   "execution_count": 9,
   "metadata": {},
   "outputs": [
    {
     "name": "stdout",
     "output_type": "stream",
     "text": [
      "[0, 1, 2, 3, 4, 5, 6, 7, 8, 9, 10, 11]\n"
     ]
    }
   ],
   "source": [
    "initial_range = list(range(12))\n",
    "print(initial_range)"
   ]
  },
  {
   "cell_type": "markdown",
   "metadata": {},
   "source": [
    "Find a way to create the following list (the shape of the representation doesn't matter):\n",
    "\n",
    "        [[],\n",
    "         [0],\n",
    "         [0, 1],\n",
    "         [0, 1, 2],\n",
    "         [0, 1, 2, 3],\n",
    "         [0, 1, 2, 3, 4],\n",
    "         [0, 1, 2, 3, 4, 5],\n",
    "         [0, 1, 2, 3, 4, 5, 6],\n",
    "         [0, 1, 2, 3, 4, 5, 6, 7],\n",
    "         [0, 1, 2, 3, 4, 5, 6, 7, 8],\n",
    "         [0, 1, 2, 3, 4, 5, 6, 7, 8, 9],\n",
    "         [0, 1, 2, 3, 4, 5, 6, 7, 8, 9, 10]]\n",
    "         \n",
    "You might need to use `map` twice!"
   ]
  },
  {
   "cell_type": "code",
   "execution_count": 13,
   "metadata": {},
   "outputs": [
    {
     "name": "stdout",
     "output_type": "stream",
     "text": [
      "[[], [0], [0, 1], [0, 1, 2], [0, 1, 2, 3], [0, 1, 2, 3, 4], [0, 1, 2, 3, 4, 5], [0, 1, 2, 3, 4, 5, 6], [0, 1, 2, 3, 4, 5, 6, 7], [0, 1, 2, 3, 4, 5, 6, 7, 8], [0, 1, 2, 3, 4, 5, 6, 7, 8, 9], [0, 1, 2, 3, 4, 5, 6, 7, 8, 9, 10]]\n"
     ]
    }
   ],
   "source": [
    "stairs = map(list, map(range, initial_range))\n",
    "print(list(stairs))"
   ]
  }
 ],
 "metadata": {
  "kernelspec": {
   "display_name": "Python 3",
   "language": "python",
   "name": "python3"
  },
  "language_info": {
   "codemirror_mode": {
    "name": "ipython",
    "version": 3
   },
   "file_extension": ".py",
   "mimetype": "text/x-python",
   "name": "python",
   "nbconvert_exporter": "python",
   "pygments_lexer": "ipython3",
   "version": "3.11.1"
  },
  "vscode": {
   "interpreter": {
    "hash": "aee8b7b246df8f9039afb4144a1f6fd8d2ca17a180786b69acc140d282b71a49"
   }
  }
 },
 "nbformat": 4,
 "nbformat_minor": 2
}
