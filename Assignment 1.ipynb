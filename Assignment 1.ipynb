{
 "cells": [
  {
   "cell_type": "markdown",
   "metadata": {},
   "source": [
    "# Homework 1\n",
    "\n",
    "**Due on Thursday, Febrary 9, 2.00pm**\n",
    "\n",
    "Your submission will be a pdf of your Jupyter notebook which would have already ran"
   ]
  },
  {
   "cell_type": "markdown",
   "metadata": {},
   "source": [
    "**Problem 1.** You are given the following paragraph."
   ]
  },
  {
   "cell_type": "code",
   "execution_count": 1,
   "metadata": {},
   "outputs": [],
   "source": [
    "text = \"A glance around her studio reveals some of the complexity. The place is packed chockablock \" \\\n",
    "       \"with clusters of objects grouped by type: alarm clocks (maybe two dozen), antique books, model \" \\\n",
    "       \"clipper ships, African masks, birdcages, globes, painted wood watermelon slices, the Mexican \" \\\n",
    "       \"healing charms known as milagros and so-called mammy dolls piled on a chair.\"\n",
    "\n"
   ]
  },
  {
   "cell_type": "markdown",
   "metadata": {},
   "source": [
    "Write a code that will ask the user to enter a word. Then check if this word is contained in the text given above."
   ]
  },
  {
   "cell_type": "code",
   "execution_count": 2,
   "metadata": {},
   "outputs": [
    {
     "name": "stdout",
     "output_type": "stream",
     "text": [
      "The word glance is in the text.\n"
     ]
    }
   ],
   "source": [
    "user_input = input(\"Enter a word to check if it's in the text: \")\n",
    "if user_input in text:\n",
    "       print(f\"The word {user_input} is in the text.\")\n",
    "else:\n",
    "       print(f\"The word {user_input} is not in the text.\")"
   ]
  },
  {
   "cell_type": "markdown",
   "metadata": {},
   "source": [
    "**Problem 2.** Write a condition that checks if the word \"banana\" is present in the user input. Make sure that it works independently of the capitalization!"
   ]
  },
  {
   "cell_type": "code",
   "execution_count": 3,
   "metadata": {},
   "outputs": [
    {
     "name": "stdout",
     "output_type": "stream",
     "text": [
      "banana is in user input.\n"
     ]
    }
   ],
   "source": [
    "user_input: str = input(\"Enter user input: \")\n",
    "if \"banana\" in user_input.lower():\n",
    "    print(\"banana is in user input.\")\n",
    "else:\n",
    "    print(\"banana is not in user input\")"
   ]
  },
  {
   "cell_type": "markdown",
   "metadata": {},
   "source": [
    "**Problem 3.** Ask the user for the year in which they were born, and print the age of the user. (Assume that the user's birthday is always January 1 so that the calculation is simple.)\n",
    "\n",
    "_Hint:_ the `int` function might be useful here."
   ]
  },
  {
   "cell_type": "code",
   "execution_count": 4,
   "metadata": {},
   "outputs": [
    {
     "name": "stdout",
     "output_type": "stream",
     "text": [
      "Your age is 25\n"
     ]
    }
   ],
   "source": [
    "year_input = int(input(\"Enter your year of birth (YYYY): \"))\n",
    "print(f\"Your age is {2023 - year_input}\")"
   ]
  },
  {
   "cell_type": "markdown",
   "metadata": {},
   "source": [
    "**Problem 4.** With string concatenation you can also play a round of *Mad Libs*.\n",
    "If you aren't familiar with the game, here's how it works: you have a predetermined text where certain words have been replaced by their part of speech, for example *verb*, *noun*, *adjective*.\n",
    "For each gap, you ask a friend to say a word of that part of speech.\n",
    "You then put those words in the gap and read out the text aloud.\n",
    "Ideally, hilarity ensues.\n",
    "\n",
    "Here's an example adapted from the very first Mad Libs book:\n",
    "\n",
    "~~~\n",
    "\"[exclamation]! He said [adverb] as he jumped into his convertible\n",
    "[noun] and drove off with his [adjective] friend.\"\n",
    "\n",
    "\"Ron! He said better as he jumped into his convertible\n",
    "Tesla and drove off with his irritating friend.\"\n",
    "~~~\n",
    "\n",
    "Write a program that allows the user to play a single round of Mad Libs with the computer (e.g. like the round above)."
   ]
  },
  {
   "cell_type": "code",
   "execution_count": 5,
   "metadata": {},
   "outputs": [
    {
     "name": "stdout",
     "output_type": "stream",
     "text": [
      "Ron! He said better as he jumped into his convertible Tesla and drove off with his irritating friend\n"
     ]
    }
   ],
   "source": [
    "mad_lib_list = [\"excalamation\", \"adverb\", \"noun\", \"adjective\"]\n",
    "mad_lib_result = []\n",
    "\n",
    "# input\n",
    "for word in mad_lib_list:\n",
    "    user_input = input(\"Enter a\" + (\"n\" if word[0] in \"aeiou\" else \"\") + f\" {word}\")\n",
    "    mad_lib_result.append(user_input)\n",
    "\n",
    "# output\n",
    "print(f\"{mad_lib_result[0]}! He said {mad_lib_result[1]} \" \\\n",
    "    + f\"as he jumped into his convertible {mad_lib_result[2]} \" \\\n",
    "    + f\"and drove off with his {mad_lib_result[3]} friend\")\n"
   ]
  },
  {
   "cell_type": "markdown",
   "metadata": {},
   "source": [
    "**Problem 5.** Ask the user to define what is the minimal number of characters for a word to be considered long. Ask for another input, in this case, a word. Afterwards, write a boolean expression that checks if the word provided by a user is long or not."
   ]
  },
  {
   "cell_type": "code",
   "execution_count": 6,
   "metadata": {},
   "outputs": [
    {
     "name": "stdout",
     "output_type": "stream",
     "text": [
      "Your word Pizza is considered not long (<6)\n"
     ]
    }
   ],
   "source": [
    "len_input = input(\"Enter a minimal number of characters for a word to be considered long: \")\n",
    "min_len = int(len_input)\n",
    "\n",
    "word_input = input(\"Enter a word\")\n",
    "\n",
    "if len(word_input) > min_len:\n",
    "    print(f\"Your word {word_input} is considered long (>={min_len})\")\n",
    "else:\n",
    "    print(f\"Your word {word_input} is considered not long (<{min_len})\")\n"
   ]
  },
  {
   "cell_type": "markdown",
   "metadata": {},
   "source": [
    "**Peoblem 6 (4 points).**\n",
    "You might have heard of *Dungeons & Dragons*, a pen-and-paper roleplaying game where the player creates their own fantasy character and then plays this character in a series of adventures.\n",
    "There are different types of characters to choose from, but they must satisfy certain requirements.\n",
    "\n",
    "_Alignment_ places the character's ethics and morals along two axes: lawful-neutral-chaotic, and good-neutral-evil. Here is a selection of alignments of the characters:\n",
    "\n",
    "- _Paladin:_ lawful-good\n",
    "- _Antipaladin:_ chaotic-evil\n",
    "- _Monk:_ any combination with lawful\n",
    "- _Rogue:_ any combination that's not lawful\n",
    "- _Druid:_ must not be lawful-good or chaotic-good\n",
    "- _Fighter:_ anything goes\n",
    "\n",
    "Ask the user for their preferred position on these two axes, and print on the screen possible characters for the user. The list should not contain any duplicates.\n",
    "If the user enters a choice that does not exist, tell them so and assume `neutral` instead.\n",
    "Here is an example of user choices and the resulting alignment!\n",
    "\n",
    "    Choose one from lawful-neutral-chaotic: chaotic\n",
    "    Choose one from good-neutral-evil: good\n",
    "    \n",
    "    You are chaotic-good. You can be:\n",
    "    - rogue\n",
    "    - fighter\n",
    "    \n",
    " **Hint.** Before you start coding, take a piece of paper and think of how you would structure the program:\n",
    " \n",
    " - how many choice points will the user have?\n",
    " - will some choices depend exclusively on others?\n",
    " - how would you nest then then?\n",
    " \n",
    "Drawing the flow of options and possibilities down can also help!"
   ]
  },
  {
   "cell_type": "code",
   "execution_count": 7,
   "metadata": {},
   "outputs": [
    {
     "name": "stdout",
     "output_type": "stream",
     "text": [
      "You are chaotic-good. You can be:\n",
      "- rogue\n",
      "- fighter\n"
     ]
    }
   ],
   "source": [
    "# declaration\n",
    "ethic_moral = \"\"\n",
    "possible_characters = []\n",
    "\n",
    "# input\n",
    "ethic_input = input(\"Choose one from lawful-neutral-chaotic: \")\n",
    "moral_input = input(\"Choose one from good-neutral-evil: \")\n",
    "\n",
    "# validation\n",
    "if ethic_input not in [\"lawful\", \"neutral\", \"chaotic\"]:\n",
    "    ethic_input = \"neutral\"\n",
    "if moral_input not in [\"good\", \"neutral\", \"evil\"]:\n",
    "    moral_input = \"neutral\"\n",
    "ethic_moral = ethic_input + \"-\" + moral_input\n",
    "\n",
    "# process\n",
    "# Paladin: lawful-good\n",
    "if ethic_input == \"lawful\" and moral_input == \"good\":\n",
    "    possible_characters.append(\"paladin\")\n",
    "# Antipaladin: chaotic-evil\n",
    "if ethic_input == \"chaotic\" and moral_input == \"evil\":\n",
    "    possible_characters.append(\"antipaladin\")\n",
    "# Monk: any combination with lawful\n",
    "if ethic_input == \"lawful\":\n",
    "    possible_characters.append(\"monk\")\n",
    "# Rogue: any combination that's not lawful\n",
    "if ethic_input != \"lawful\":\n",
    "    possible_characters.append(\"rogue\")\n",
    "# Druid: must not be lawful-good or chaotic-good\n",
    "if not (ethic_input in [\"lawful\", \"chaotic\"] and moral_input == \"good\"):\n",
    "    possible_characters.append(\"druid\")\n",
    "# Fighter: anything goes\n",
    "possible_characters.append(\"fighter\")\n",
    "\n",
    "# output\n",
    "print(f\"You are {ethic_moral}. You can be:\")\n",
    "for character in possible_characters:\n",
    "    print(f\"- {character}\")"
   ]
  },
  {
   "cell_type": "markdown",
   "metadata": {},
   "source": [
    "**Problem 7 (3 points).** You are given the following list of words whose reversals are words as well. There are [more](https://www.buzzfeed.com/kellyoakes/words-that-mean-something-different-backwards) of those, but let's assume for this exercise that the list is comprehensive and contains all possible words on this kind."
   ]
  },
  {
   "cell_type": "code",
   "execution_count": 8,
   "metadata": {},
   "outputs": [
    {
     "name": "stdout",
     "output_type": "stream",
     "text": [
      "This word remains a word when revesed!\n",
      "The reversal of that word: war\n"
     ]
    }
   ],
   "source": [
    "reversal_words = [\"desserts\", \"stressed\", \"live\", \"evil\", \"knits\", \"stink\", \"sports\", \"strops\",\n",
    "                 \"regal\", \"lager\", \"pupils\", \"slipup\", \"raw\", \"war\", \"pals\", \"slap\"]\n",
    "word_input = input(\"The input word: \")\n",
    "reversed_word = word_input[::-1]\n",
    "if reversed_word in reversal_words:\n",
    "    print(\"This word remains a word when revesed!\")\n",
    "    print(f\"The reversal of that word: {reversed_word}\")\n",
    "else:\n",
    "    print(f\"The word {word_input} is not reversible!\")"
   ]
  },
  {
   "cell_type": "markdown",
   "metadata": {},
   "source": [
    "Remember, that if you ran the previous cell wher the variable `reversal_words` was defined, you can refer to that list later in the notebook"
   ]
  },
  {
   "cell_type": "markdown",
   "metadata": {},
   "source": [
    "Implement a routine with the following behavior:\n",
    "\n",
    "    The input word: knits\n",
    "\n",
    "    This word remains a word when reversed!\n",
    "    The reversaal of that word: stink"
   ]
  },
  {
   "cell_type": "markdown",
   "metadata": {},
   "source": [
    "**Problem 8 (3 points).** Leap and non-leap years.\n",
    "\n",
    "    A year is leap year if it is divisible by 4 unless it is a century year (i.e. ends with 00). A century year is only leap when it is divisible by 400.\n",
    "    \n",
    "For this exercise, it would be convenient to use the modulo division operator `%`:"
   ]
  },
  {
   "cell_type": "code",
   "execution_count": 9,
   "metadata": {},
   "outputs": [
    {
     "name": "stdout",
     "output_type": "stream",
     "text": [
      "107 % 25 = 7\n",
      "13 % 2 = 1\n"
     ]
    }
   ],
   "source": [
    "print(\"107 % 25 =\", 107 % 25)\n",
    "print(\"13 % 2 =\", 13 % 2)"
   ]
  },
  {
   "cell_type": "markdown",
   "metadata": {},
   "source": [
    "Write a code that tells you if the year provided by a user is a leap year or not.\n"
   ]
  },
  {
   "cell_type": "code",
   "execution_count": 10,
   "metadata": {},
   "outputs": [
    {
     "name": "stdout",
     "output_type": "stream",
     "text": [
      "2100 is a non-leap year\n"
     ]
    }
   ],
   "source": [
    "year_input = int(input(\"Enter a year(YYYY): \"))\n",
    "\n",
    "if year_input % 400 == 0:\n",
    "    print(f\"{year_input} is a century leap year\")\n",
    "elif year_input % 4 == 0 and year_input % 100 != 0:\n",
    "    print(f\"{year_input} is a leap year\")\n",
    "else:\n",
    "    print(f\"{year_input} is a non-leap year\")"
   ]
  }
 ],
 "metadata": {
  "kernelspec": {
   "display_name": "Python 3 (ipykernel)",
   "language": "python",
   "name": "python3"
  },
  "language_info": {
   "codemirror_mode": {
    "name": "ipython",
    "version": 3
   },
   "file_extension": ".py",
   "mimetype": "text/x-python",
   "name": "python",
   "nbconvert_exporter": "python",
   "pygments_lexer": "ipython3",
   "version": "3.11.1"
  },
  "vscode": {
   "interpreter": {
    "hash": "aee8b7b246df8f9039afb4144a1f6fd8d2ca17a180786b69acc140d282b71a49"
   }
  }
 },
 "nbformat": 4,
 "nbformat_minor": 2
}
