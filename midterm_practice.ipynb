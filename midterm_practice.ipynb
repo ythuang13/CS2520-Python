{
 "cells": [
  {
   "attachments": {},
   "cell_type": "markdown",
   "metadata": {},
   "source": [
    "1. Write a program that prints out all the event numbers from 1 to 20 using a loop"
   ]
  },
  {
   "cell_type": "code",
   "execution_count": 4,
   "metadata": {},
   "outputs": [
    {
     "name": "stdout",
     "output_type": "stream",
     "text": [
      "2\n",
      "4\n",
      "6\n",
      "8\n",
      "10\n",
      "12\n",
      "14\n",
      "16\n",
      "18\n",
      "20\n"
     ]
    }
   ],
   "source": [
    "for n in range(1, 21):\n",
    "    if n % 2 == 0:\n",
    "        print(n)"
   ]
  },
  {
   "attachments": {},
   "cell_type": "markdown",
   "metadata": {},
   "source": [
    "2. Write a program that asks the user to enter their age. If their age is greater than or equal to 18, the program should print \"You are an adult.\" Otherwise, it should print \"You are not an adult yet.\""
   ]
  },
  {
   "cell_type": "code",
   "execution_count": 5,
   "metadata": {},
   "outputs": [
    {
     "name": "stdout",
     "output_type": "stream",
     "text": [
      "You are an adult\n"
     ]
    }
   ],
   "source": [
    "age_input = int(input(\"Enter your age: \"))\n",
    "if age_input >= 18:\n",
    "    print(\"You are an adult.\")\n",
    "else:\n",
    "    print(\"You are not an adult yet.\")"
   ]
  },
  {
   "attachments": {},
   "cell_type": "markdown",
   "metadata": {},
   "source": [
    "3. Write a program that uses a while loop to print out the first 10 numbers of the\n",
    "Fibonacci sequence. The Fibonacci sequence starts with 0 and 1, and each subsequent\n",
    "number is the sum of the previous two (i.e., 0, 1, 1, 2, 3, 5, 8, 13, 21, 34)."
   ]
  },
  {
   "cell_type": "code",
   "execution_count": 7,
   "metadata": {},
   "outputs": [
    {
     "name": "stdout",
     "output_type": "stream",
     "text": [
      "0\n",
      "1\n",
      "1\n",
      "2\n",
      "3\n",
      "5\n",
      "8\n",
      "13\n",
      "21\n",
      "34\n"
     ]
    }
   ],
   "source": [
    "num1 = 0\n",
    "num2 = 1\n",
    "for i in range(10):\n",
    "    print(num1)\n",
    "    num1, num2 = num2, num1 + num2\n"
   ]
  },
  {
   "attachments": {},
   "cell_type": "markdown",
   "metadata": {},
   "source": [
    "4. Write a function called \"greet_user\" that takes one parameter, \"name,\" and prints a\n",
    "personalized greeting to the user. For example, if the parameter is \"John,\" the\n",
    "function should print \"Hello, John!\""
   ]
  },
  {
   "cell_type": "code",
   "execution_count": 8,
   "metadata": {},
   "outputs": [
    {
     "name": "stdout",
     "output_type": "stream",
     "text": [
      "Hello, Watson!\n"
     ]
    }
   ],
   "source": [
    "def greet_user(name):\n",
    "    print(f\"Hello, {name}!\")\n",
    "\n",
    "greet_user(\"Watson\")"
   ]
  },
  {
   "attachments": {},
   "cell_type": "markdown",
   "metadata": {},
   "source": [
    "5. Write a program that asks the user to enter a number between 1 and 10. Then, the\n",
    "program should use a for loop to print out the multiplication table for that number.\n",
    "For example, if the user enters 5, the program should print:  \n",
    "1 x 5 = 5  \n",
    "2 x 5 = 10  \n",
    "3 x 5 = 15  \n",
    "4 x 5 = 20  \n",
    "5 x 5 = 25  \n",
    "6 x 5 = 30  \n",
    "7 x 5 = 35  \n",
    "8 x 5 = 40  \n",
    "9 x 5 = 45  \n",
    "10 x 5 = 50  "
   ]
  },
  {
   "cell_type": "code",
   "execution_count": 10,
   "metadata": {},
   "outputs": [
    {
     "name": "stdout",
     "output_type": "stream",
     "text": [
      "1 x 5 = 5\n",
      "2 x 5 = 10\n",
      "3 x 5 = 15\n",
      "4 x 5 = 20\n",
      "5 x 5 = 25\n",
      "6 x 5 = 30\n",
      "7 x 5 = 35\n",
      "8 x 5 = 40\n",
      "9 x 5 = 45\n",
      "10 x 5 = 50\n"
     ]
    }
   ],
   "source": [
    "num_input = int(input(\"Enter a number between 1 and 10: \"))\n",
    "for i in range(1, 11):\n",
    "    print(f\"{i} x {num_input} = {i * num_input}\")"
   ]
  },
  {
   "attachments": {},
   "cell_type": "markdown",
   "metadata": {},
   "source": [
    "6. Write a program that asks the user to enter a number. If the number is positive,\n",
    "the program should print \"The number is positive.\" If the number is negative, the\n",
    "program should print \"The number is negative.\" If the number is zero, the program\n",
    "should print \"The number is zero.\""
   ]
  },
  {
   "cell_type": "code",
   "execution_count": null,
   "metadata": {},
   "outputs": [],
   "source": [
    "num_input = int(input(\"Enter a number: \"))\n",
    "if num_input > 0:\n",
    "    print(\"The number is positive\")\n",
    "elif num_input < 0:\n",
    "    print(\"The number is negative\")\n",
    "else:\n",
    "    print(\"The number is zero\")"
   ]
  },
  {
   "attachments": {},
   "cell_type": "markdown",
   "metadata": {},
   "source": [
    "7. Write a program that asks the user to enter their name and age. Then, the program\n",
    "should print a message that says \"Hello, [name]! You are [age] years old.\""
   ]
  },
  {
   "cell_type": "code",
   "execution_count": 11,
   "metadata": {},
   "outputs": [
    {
     "name": "stdout",
     "output_type": "stream",
     "text": [
      "Hello, Sherlock! You are 44 years old.\n"
     ]
    }
   ],
   "source": [
    "name_input = input(\"Enter your name: \")\n",
    "age_input = input(\"Enter your age\")\n",
    "print(f\"Hello, {name_input}! You are {age_input} years old.\")"
   ]
  },
  {
   "attachments": {},
   "cell_type": "markdown",
   "metadata": {},
   "source": [
    "8. Write a function called \"calculate_average\" that takes a list of numbers as a\n",
    "parameter and returns the average of those numbers. For example, if the parameter is\n",
    "[1, 2, 3, 4, 5], the function should return 3."
   ]
  },
  {
   "cell_type": "code",
   "execution_count": 12,
   "metadata": {},
   "outputs": [
    {
     "name": "stdout",
     "output_type": "stream",
     "text": [
      "3.0\n"
     ]
    }
   ],
   "source": [
    "def calculate_average(data):\n",
    "    return sum(data) / len(data)\n",
    "\n",
    "print(calculate_average([1,2,3,4,5]))"
   ]
  },
  {
   "attachments": {},
   "cell_type": "markdown",
   "metadata": {},
   "source": [
    "9. Write a program that uses a while loop to print out the first 10 perfect squares. A\n",
    "perfect square is a number that is the square of an integer (i.e., 1, 4, 9, 16, 25,\n",
    "36, 49, 64, 81, 100)."
   ]
  },
  {
   "cell_type": "code",
   "execution_count": 15,
   "metadata": {},
   "outputs": [
    {
     "name": "stdout",
     "output_type": "stream",
     "text": [
      "1\n",
      "4\n",
      "9\n",
      "16\n",
      "25\n",
      "36\n",
      "49\n",
      "64\n",
      "81\n",
      "100\n"
     ]
    }
   ],
   "source": [
    "count = 1\n",
    "while count < 11:\n",
    "    print(count * count)\n",
    "    count += 1"
   ]
  },
  {
   "attachments": {},
   "cell_type": "markdown",
   "metadata": {},
   "source": [
    "10. Write a function called \"calculate_factorial\" that takes one parameter, \"n,\" and\n",
    "returns the factorial of n. The factorial of a number is the product of all the\n",
    "integers from 1 to that number. For example, if the parameter is 5, the function\n",
    "should return 120 (which is 1 x 2 x 3 x 4 x 5)."
   ]
  },
  {
   "cell_type": "code",
   "execution_count": 18,
   "metadata": {},
   "outputs": [
    {
     "data": {
      "text/plain": [
       "120"
      ]
     },
     "execution_count": 18,
     "metadata": {},
     "output_type": "execute_result"
    }
   ],
   "source": [
    "def calculate_factorial(n):\n",
    "    total = 1\n",
    "    for i in range(1, n + 1):\n",
    "        total *= i\n",
    "    return total\n",
    "\n",
    "calculate_factorial(5)"
   ]
  },
  {
   "attachments": {},
   "cell_type": "markdown",
   "metadata": {},
   "source": [
    "11. Write a program that asks the user to enter a sentence. Then, the program should\n",
    "count how many vowels (a, e, i, o, u) are in the sentence and print the result."
   ]
  },
  {
   "cell_type": "code",
   "execution_count": 21,
   "metadata": {},
   "outputs": [
    {
     "name": "stdout",
     "output_type": "stream",
     "text": [
      "6\n"
     ]
    }
   ],
   "source": [
    "vowels = \"aeiou\"\n",
    "sentence_input = input(\"Enter a sentence: \")\n",
    "counter = 0\n",
    "for c in sentence_input.lower():\n",
    "    if c in vowels:\n",
    "        counter += 1\n",
    "print(counter)"
   ]
  },
  {
   "attachments": {},
   "cell_type": "markdown",
   "metadata": {},
   "source": [
    "12. Write a program that uses a for loop to print out the numbers from 1 to 100.\n",
    "However, for multiples of three, the program should print \"Fizz\" instead of the\n",
    "number. For multiples of five, the program should print \"Buzz\". For numbers that are\n",
    "multiples of both three and five, the program should print \"FizzBuzz\"."
   ]
  },
  {
   "cell_type": "code",
   "execution_count": 29,
   "metadata": {},
   "outputs": [
    {
     "name": "stdout",
     "output_type": "stream",
     "text": [
      "1 \n",
      "2 \n",
      "3 Fizz\n",
      "4 \n",
      "5 Buzz\n",
      "6 Fizz\n",
      "7 \n",
      "8 \n",
      "9 Fizz\n",
      "10 Buzz\n",
      "11 \n",
      "12 Fizz\n",
      "13 \n",
      "14 \n",
      "15 FizzBuzz\n",
      "16 \n",
      "17 \n",
      "18 Fizz\n",
      "19 \n",
      "20 Buzz\n",
      "21 Fizz\n",
      "22 \n",
      "23 \n",
      "24 Fizz\n",
      "25 Buzz\n",
      "26 \n",
      "27 Fizz\n",
      "28 \n",
      "29 \n",
      "30 FizzBuzz\n",
      "31 \n",
      "32 \n",
      "33 Fizz\n",
      "34 \n",
      "35 Buzz\n",
      "36 Fizz\n",
      "37 \n",
      "38 \n",
      "39 Fizz\n",
      "40 Buzz\n",
      "41 \n",
      "42 Fizz\n",
      "43 \n",
      "44 \n",
      "45 FizzBuzz\n",
      "46 \n",
      "47 \n",
      "48 Fizz\n",
      "49 \n",
      "50 Buzz\n",
      "51 Fizz\n",
      "52 \n",
      "53 \n",
      "54 Fizz\n",
      "55 Buzz\n",
      "56 \n",
      "57 Fizz\n",
      "58 \n",
      "59 \n",
      "60 FizzBuzz\n",
      "61 \n",
      "62 \n",
      "63 Fizz\n",
      "64 \n",
      "65 Buzz\n",
      "66 Fizz\n",
      "67 \n",
      "68 \n",
      "69 Fizz\n",
      "70 Buzz\n",
      "71 \n",
      "72 Fizz\n",
      "73 \n",
      "74 \n",
      "75 FizzBuzz\n",
      "76 \n",
      "77 \n",
      "78 Fizz\n",
      "79 \n",
      "80 Buzz\n",
      "81 Fizz\n",
      "82 \n",
      "83 \n",
      "84 Fizz\n",
      "85 Buzz\n",
      "86 \n",
      "87 Fizz\n",
      "88 \n",
      "89 \n",
      "90 FizzBuzz\n",
      "91 \n",
      "92 \n",
      "93 Fizz\n",
      "94 \n",
      "95 Buzz\n",
      "96 Fizz\n",
      "97 \n",
      "98 \n",
      "99 Fizz\n",
      "100 Buzz\n"
     ]
    }
   ],
   "source": [
    "for num in range(1, 101):\n",
    "    text = \"\"\n",
    "    if num % 3 == 0:\n",
    "        text += \"Fizz\"\n",
    "    if num % 5 == 0:\n",
    "        text += \"Buzz\"\n",
    "    print(num, text)"
   ]
  },
  {
   "attachments": {},
   "cell_type": "markdown",
   "metadata": {},
   "source": [
    "13. Write a function called \"is_prime\" that takes one parameter, \"n,\" and returns True\n",
    "if n is prime (i.e., has no factors other than 1 and itself) and False otherwise."
   ]
  },
  {
   "cell_type": "code",
   "execution_count": 24,
   "metadata": {},
   "outputs": [
    {
     "name": "stdout",
     "output_type": "stream",
     "text": [
      "True\n",
      "True\n",
      "False\n"
     ]
    }
   ],
   "source": [
    "def is_prime(n):\n",
    "    prime_flag = True\n",
    "    for i in range(2, n):\n",
    "        if n % i == 0:\n",
    "            prime_flag = False\n",
    "            break\n",
    "    return prime_flag\n",
    "\n",
    "print(is_prime(2))\n",
    "print(is_prime(7))\n",
    "print(is_prime(8))"
   ]
  },
  {
   "attachments": {},
   "cell_type": "markdown",
   "metadata": {},
   "source": [
    "14. Write a program that asks the user to enter a word. Then, the program should check\n",
    "whether the word is a palindrome (i.e., reads the same backwards as forwards) and\n",
    "print the result."
   ]
  },
  {
   "cell_type": "code",
   "execution_count": 30,
   "metadata": {},
   "outputs": [
    {
     "name": "stdout",
     "output_type": "stream",
     "text": [
      "tenet is a palindrome\n"
     ]
    }
   ],
   "source": [
    "word_input = input(\"Enter a word to check if it's palindrome: \")\n",
    "if word_input == word_input[::-1]:\n",
    "    print(f\"{word_input} is a palindrome\")\n",
    "else:\n",
    "    print(f\"{word_input} is not a palindrome\")"
   ]
  },
  {
   "attachments": {},
   "cell_type": "markdown",
   "metadata": {},
   "source": [
    "15. Write a program that uses a while loop to simulate a game of \"guess the number\".\n",
    "The program should generate a random number between 1 and 100, and then ask the user\n",
    "to guess the number. If the user's guess is too high, the program should print \"Too\n",
    "high! Guess again.\" If the user's guess is too low, the program should print \"Too low!\n",
    "Guess again.\" If the user guesses the number correctly, the program should print\n",
    "\"Congratulations! You guessed the number!\""
   ]
  },
  {
   "cell_type": "code",
   "execution_count": 31,
   "metadata": {},
   "outputs": [
    {
     "name": "stdout",
     "output_type": "stream",
     "text": [
      "Too high! Guess again.\n",
      "Too low! Guess again.\n",
      "Too low! Guess again.\n",
      "Too high! Guess again.\n",
      "Too low! Guess again.\n",
      "Too low! Guess again.\n",
      "Congratulations! You guessed the number!\n"
     ]
    }
   ],
   "source": [
    "import random\n",
    "random_number = random.randint(1, 100)\n",
    "done = False\n",
    "\n",
    "while not done:\n",
    "    num_input = int(input(\"guess the number: \"))\n",
    "    if num_input > random_number:\n",
    "        print(\"Too high! Guess again.\")\n",
    "    elif num_input < random_number:\n",
    "        print(\"Too low! Guess again.\")\n",
    "    else:\n",
    "        print(\"Congratulations! You guessed the number!\")\n",
    "        done = True\n"
   ]
  },
  {
   "attachments": {},
   "cell_type": "markdown",
   "metadata": {},
   "source": [
    "16. Given an array of ints, return True if the array is length 1 or more, and the\n",
    "first element and the last element are equal.\n",
    "same_first_last([1, 2, 3]) → False  \n",
    "same_first_last([1, 2, 3, 1]) → True  \n",
    "same_first_last([1, 2, 1]) → True  "
   ]
  },
  {
   "cell_type": "code",
   "execution_count": 32,
   "metadata": {},
   "outputs": [
    {
     "name": "stdout",
     "output_type": "stream",
     "text": [
      "False\n",
      "True\n",
      "True\n"
     ]
    }
   ],
   "source": [
    "def same_first_last(data):\n",
    "    return len(data) >= 1 and data[0] == data[-1]\n",
    "\n",
    "print(same_first_last([1, 2, 3]))\n",
    "print(same_first_last([1, 2, 3, 1]))\n",
    "print(same_first_last([1, 2, 1]))\n"
   ]
  },
  {
   "attachments": {},
   "cell_type": "markdown",
   "metadata": {},
   "source": [
    "17. The number 6 is a truly great number. Given two int values, a and b, return True\n",
    "if either one is 6. Or if their sum or difference is 6. Note: the function abs(num)\n",
    "computes the absolute value of a number.  \n",
    "love6(6, 4) → True  \n",
    "love6(4, 5) → False  \n",
    "love6(1, 5) → True  "
   ]
  },
  {
   "cell_type": "code",
   "execution_count": 33,
   "metadata": {},
   "outputs": [
    {
     "name": "stdout",
     "output_type": "stream",
     "text": [
      "True\n",
      "False\n",
      "True\n"
     ]
    }
   ],
   "source": [
    "def love6(num1, num2):\n",
    "    return num1 == 6 or num2 == 6 or num1 + num2 == 6 or abs(num1 - num2) == 6\n",
    "\n",
    "print(love6(6, 4))\n",
    "print(love6(4, 5))\n",
    "print(love6(1, 5))"
   ]
  },
  {
   "attachments": {},
   "cell_type": "markdown",
   "metadata": {},
   "source": [
    "18. Return the number of times that the string \"code\" appears anywhere in the given\n",
    "string, except we'll accept any letter for the 'd', so \"cope\" and \"cooe\" count.  \n",
    "count_code('aaacodebbb') → 1  \n",
    "count_code('codexxcode') → 2  \n",
    "count_code('cozexxcope') → 2  "
   ]
  },
  {
   "cell_type": "code",
   "execution_count": 36,
   "metadata": {},
   "outputs": [
    {
     "name": "stdout",
     "output_type": "stream",
     "text": [
      "1\n",
      "2\n",
      "2\n"
     ]
    }
   ],
   "source": [
    "def count_code(s):\n",
    "    counter = 0\n",
    "    for i in range(len(s) - 3):\n",
    "        if s[i:i+2] + s[i + 3] == \"coe\":\n",
    "            counter += 1\n",
    "    \n",
    "    return counter\n",
    "\n",
    "print(count_code('aaacodebbb'))\n",
    "print(count_code('codexxcode'))\n",
    "print(count_code('cozexxcope'))"
   ]
  },
  {
   "attachments": {},
   "cell_type": "markdown",
   "metadata": {},
   "source": [
    "19. Return the sum of the numbers in the array, except ignore sections of numbers\n",
    "starting with a 6 and extending to the next 7 (every 6 will be followed by at least\n",
    "one 7). Return 0 for no numbers.  \n",
    "sum67([1, 2, 2]) → 5  \n",
    "sum67([1, 2, 2, 6, 99, 99, 7]) → 5  \n",
    "sum67([1, 1, 6, 7, 2]) → 4  "
   ]
  },
  {
   "cell_type": "code",
   "execution_count": 3,
   "metadata": {},
   "outputs": [
    {
     "name": "stdout",
     "output_type": "stream",
     "text": [
      "5\n",
      "5\n",
      "11\n"
     ]
    }
   ],
   "source": [
    "def sum67(lst):\n",
    "    total = 0\n",
    "    in_67_flag = False\n",
    "    for n in lst:\n",
    "        if n == 6:\n",
    "            in_67_flag = True\n",
    "        elif n == 7 and in_67_flag:\n",
    "            in_67_flag = False\n",
    "        elif not in_67_flag:\n",
    "            total += n\n",
    "    \n",
    "    return total\n",
    "\n",
    "print(sum67([1,2,2]))\n",
    "print(sum67([1,2,2,6,99,99,7]))\n",
    "print(sum67([1,1,7,6,7,2]))"
   ]
  },
  {
   "attachments": {},
   "cell_type": "markdown",
   "metadata": {},
   "source": [
    "20. The web is built with HTML strings like \"\\<i>Yay\\</i>\" which draws Yay as italic\n",
    "text. In this example, the \"i\" tag makes \\<i> and \\</i> which surround the word \"Yay\".\n",
    "Given tag and word strings, create the HTML string with tags around the word, e.g.\n",
    "\"\\<i>Yay\\</i>\".  \n",
    "make_tags('i', 'Yay') → '\\<i>Yay\\</i>'  \n",
    "make_tags('i', 'Hello') → '\\<i>Hello\\</i>'  \n",
    "make_tags('cite', 'Yay') → '\\<cite>Yay\\</cite>'  "
   ]
  },
  {
   "cell_type": "code",
   "execution_count": 40,
   "metadata": {},
   "outputs": [
    {
     "name": "stdout",
     "output_type": "stream",
     "text": [
      "<i>Yay</i>\n",
      "<i>Hello</i>\n",
      "<cite>Yay</cite>\n"
     ]
    }
   ],
   "source": [
    "def make_tags(tag, str):\n",
    "    return f\"<{tag}>{str}</{tag}>\"\n",
    "\n",
    "print(make_tags('i', 'Yay'))\n",
    "print(make_tags('i', 'Hello'))\n",
    "print(make_tags('cite', 'Yay'))"
   ]
  },
  {
   "attachments": {},
   "cell_type": "markdown",
   "metadata": {},
   "source": [
    "21. Given three ints, a b c, return True if one of b or c is \"close\" (differing from a\n",
    "by at most 1), while the other is \"far\", differing from both other values by 2 or\n",
    "more. Note: abs(num) computes the absolute value of a number.  \n",
    "close_far(1, 2, 10) → True  \n",
    "close_far(1, 2, 3) → False  \n",
    "close_far(4, 1, 3) → True  "
   ]
  },
  {
   "cell_type": "code",
   "execution_count": 1,
   "metadata": {},
   "outputs": [
    {
     "name": "stdout",
     "output_type": "stream",
     "text": [
      "True\n",
      "False\n",
      "True\n"
     ]
    }
   ],
   "source": [
    "def close_far(a, b, c):\n",
    "    ab_diff = abs(b - a)\n",
    "    ac_diff = abs(c - a)\n",
    "    bc_diff = abs(b - c)\n",
    "    return (ab_diff <= 1 and ac_diff >= 2 and bc_diff >= 2) \\\n",
    "        or (ac_diff <= 1 and ab_diff >= 2 and bc_diff >= 2)\n",
    "\n",
    "print(close_far(1, 2, 10))\n",
    "print(close_far(1, 2, 3))\n",
    "print(close_far(4, 1, 3))"
   ]
  }
 ],
 "metadata": {
  "kernelspec": {
   "display_name": "Python 3",
   "language": "python",
   "name": "python3"
  },
  "language_info": {
   "codemirror_mode": {
    "name": "ipython",
    "version": 3
   },
   "file_extension": ".py",
   "mimetype": "text/x-python",
   "name": "python",
   "nbconvert_exporter": "python",
   "pygments_lexer": "ipython3",
   "version": "3.11.1"
  },
  "orig_nbformat": 4
 },
 "nbformat": 4,
 "nbformat_minor": 2
}
