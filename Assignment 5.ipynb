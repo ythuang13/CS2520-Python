{
 "cells": [
  {
   "cell_type": "markdown",
   "metadata": {},
   "source": [
    "# Homework 5\n"
   ]
  },
  {
   "cell_type": "markdown",
   "metadata": {},
   "source": [
    "**Problem 1.** In this notebook, we discussed a function `bigramize` extracting bigrams from a given string. Its code is repeated below."
   ]
  },
  {
   "cell_type": "code",
   "execution_count": 1,
   "metadata": {},
   "outputs": [],
   "source": [
    "def bigramize(string):\n",
    "    \"\"\" Creates a list of bigrams from the input string. \"\"\"\n",
    "    \n",
    "    bigrams = []\n",
    "    for i in range(len(string) - 1):\n",
    "        bigram = string[i:i+2]\n",
    "        if bigram not in bigrams:\n",
    "            bigrams.append(bigram)\n",
    "    return bigrams"
   ]
  },
  {
   "cell_type": "markdown",
   "metadata": {},
   "source": [
    "Define a more generalized version of this function, `ngramize`. It should take two arguments: `string` and `n`, where `string` is the string that needs to be $n$-gramized, and `n` is the size of the $n$-grams.\n",
    "\n",
    "    Function call: ngramize(\"banana\", 4)\n",
    "    Output:        ['bana', 'anan', 'nana']\n",
    "    \n",
    "    Function call: ngramize(\"linguistics\", 7)\n",
    "    Output:        ['linguis', 'inguist', 'nguisti', 'guistic', 'uistics']\n",
    "    \n",
    "**Hint** Remember that you already HAVE the code that extends bigrams to n-grams. You just need to adjust it into a function.    "
   ]
  },
  {
   "cell_type": "code",
   "execution_count": 2,
   "metadata": {},
   "outputs": [
    {
     "name": "stdout",
     "output_type": "stream",
     "text": [
      "['bana', 'anan', 'nana']\n",
      "['linguis', 'inguist', 'nguisti', 'guistic', 'uistics']\n"
     ]
    }
   ],
   "source": [
    "def ngramize(string, n):\n",
    "    \"\"\" Creates a list of ngram from the input string and integer n \"\"\"\n",
    "    \n",
    "    ngrams = []\n",
    "    for i in range(len(string) - n + 1):\n",
    "        ngram = string[i:i+n]\n",
    "        if ngram not in ngrams:\n",
    "            ngrams.append(ngram)\n",
    "    return ngrams\n",
    "\n",
    "print(ngramize(\"banana\", 4))\n",
    "print(ngramize(\"linguistics\", 7))"
   ]
  },
  {
   "cell_type": "markdown",
   "metadata": {},
   "source": [
    "**Problem 2. (4 points)**  Define a function `perfect_number` that returns True if the input integer is perfect, and False otherwise.\n",
    "\n",
    "> In number theory, a **perfect number** is a positive integer that is equal to the sum of its positive divisors excluding the number itself. $1$ is not a perfect number."
   ]
  },
  {
   "cell_type": "code",
   "execution_count": 3,
   "metadata": {},
   "outputs": [],
   "source": [
    "def perfect_number(num: int) -> bool:\n",
    "    \"\"\"return if num is perfect number or not\"\"\"\n",
    "    divisors = [i for i in range(1, num) if num % i == 0]\n",
    "    return sum(divisors) == num"
   ]
  },
  {
   "cell_type": "markdown",
   "metadata": {},
   "source": [
    "Test the `perfect_number` function. You can use the following values:\n",
    "\n",
    "    number  expected return        explanation\n",
    "    6       True                   1 + 2 + 3 == 6\n",
    "    9       False                  1 + 3 != 9\n",
    "    12      False                  1 + 2 + 3 + 4 + 6 != 12\n",
    "    28      True                   1 + 2 + 4 + 7 + 14 == 28"
   ]
  },
  {
   "cell_type": "code",
   "execution_count": 4,
   "metadata": {},
   "outputs": [
    {
     "name": "stdout",
     "output_type": "stream",
     "text": [
      "6: True\n",
      "9: False\n",
      "12: False\n",
      "28: True\n"
     ]
    }
   ],
   "source": [
    "for num in [6, 9, 12, 28]:\n",
    "    print(f\"{num}: {perfect_number(num)}\")"
   ]
  },
  {
   "cell_type": "markdown",
   "metadata": {},
   "source": [
    "**Problem 3. (4 points)** Define a function `first_perfect_numbers` that takes an integer `n` as input, and generates a list of first `n` perfect numbers. In the body of this function, make use of the function `perfect_number` defined above. (don't copy paste the code! Use the function call!)\n",
    "\n",
    "    Function call:   first_perfect_numbers(4)\n",
    "    Function output: [6, 28, 496, 8128]\n",
    "\n",
    "**Warning:** there are _huge_ gaps in-between perfect numbers, so when you test it you might want to avoid calculating more than $4$ of the first perfect numbers due to the increased memory consumption."
   ]
  },
  {
   "cell_type": "code",
   "execution_count": 5,
   "metadata": {},
   "outputs": [
    {
     "data": {
      "text/plain": [
       "[6, 28, 496, 8128]"
      ]
     },
     "execution_count": 5,
     "metadata": {},
     "output_type": "execute_result"
    }
   ],
   "source": [
    "def first_perfect_numbers(n: int) -> list[int]:\n",
    "    \"\"\"generate a list of first n perfect numbers\"\"\"\n",
    "    result = []\n",
    "    counter = 0\n",
    "    i = 1\n",
    "    while counter < n:\n",
    "        if perfect_number(i):\n",
    "            counter += 1\n",
    "            result.append(i)\n",
    "        i += 1\n",
    "    \n",
    "    return result\n",
    "\n",
    "first_perfect_numbers(4)"
   ]
  }
 ],
 "metadata": {
  "kernelspec": {
   "display_name": "Python 3 (ipykernel)",
   "language": "python",
   "name": "python3"
  },
  "language_info": {
   "codemirror_mode": {
    "name": "ipython",
    "version": 3
   },
   "file_extension": ".py",
   "mimetype": "text/x-python",
   "name": "python",
   "nbconvert_exporter": "python",
   "pygments_lexer": "ipython3",
   "version": "3.11.1"
  },
  "vscode": {
   "interpreter": {
    "hash": "b0fa6594d8f4cbf19f97940f81e996739fb7646882a419484c72d19e05852a7e"
   }
  }
 },
 "nbformat": 4,
 "nbformat_minor": 2
}
