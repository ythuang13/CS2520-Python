{
 "cells": [
  {
   "cell_type": "markdown",
   "metadata": {},
   "source": [
    "# Homework 3\n",
    "\n",
    "**Due on Thursday, Febrary 28, 2.00pm**\n",
    "\n",
    "Your submission will be a pdf of your Jupyter notebook which would have already ran"
   ]
  },
  {
   "cell_type": "markdown",
   "metadata": {},
   "source": [
    "**Problem 1.** Below you will find several codes that build lists. Rewrite these codes using list comprehensions.\n",
    "\n",
    "**Subproblem A.** No list comprehension:"
   ]
  },
  {
   "cell_type": "code",
   "execution_count": 8,
   "metadata": {},
   "outputs": [
    {
     "name": "stdout",
     "output_type": "stream",
     "text": [
      "['UNK', 'UNK', 'UNK', 'UNK']\n"
     ]
    }
   ],
   "source": [
    "words = [\"apple\", \"banana\", \"kiwi\", \"orange\"]\n",
    "masked_words = []\n",
    "\n",
    "for w in words:\n",
    "    masked_words.append(\"UNK\")\n",
    "    \n",
    "print(masked_words)"
   ]
  },
  {
   "cell_type": "markdown",
   "metadata": {},
   "source": [
    "List comprehension:"
   ]
  },
  {
   "cell_type": "code",
   "execution_count": 9,
   "metadata": {},
   "outputs": [
    {
     "name": "stdout",
     "output_type": "stream",
     "text": [
      "['UNK', 'UNK', 'UNK', 'UNK']\n"
     ]
    }
   ],
   "source": [
    "# your code\n",
    "masked_words = [\"UNK\" for _ in words]\n",
    "print(masked_words)"
   ]
  },
  {
   "cell_type": "markdown",
   "metadata": {},
   "source": [
    "**Subproblem B.** No list comprehension:"
   ]
  },
  {
   "cell_type": "code",
   "execution_count": 10,
   "metadata": {},
   "outputs": [
    {
     "name": "stdout",
     "output_type": "stream",
     "text": [
      "['Mary', 'Noam']\n"
     ]
    }
   ],
   "source": [
    "names = [\"andrew\", \"Mary\", \"jimmy\", \"Noam\"]\n",
    "title_names = []\n",
    "\n",
    "for name in names:\n",
    "    if name.istitle():\n",
    "        title_names.append(name)\n",
    "        \n",
    "print(title_names)"
   ]
  },
  {
   "cell_type": "markdown",
   "metadata": {},
   "source": [
    "List comprehension:"
   ]
  },
  {
   "cell_type": "code",
   "execution_count": 11,
   "metadata": {},
   "outputs": [
    {
     "name": "stdout",
     "output_type": "stream",
     "text": [
      "['Mary', 'Noam']\n"
     ]
    }
   ],
   "source": [
    "# your code\n",
    "title_names = [name for name in names if name.istitle()]\n",
    "print(title_names)"
   ]
  },
  {
   "cell_type": "markdown",
   "metadata": {},
   "source": [
    "**Subproblem C.** No list comprehension:"
   ]
  },
  {
   "cell_type": "code",
   "execution_count": 12,
   "metadata": {},
   "outputs": [
    {
     "name": "stdout",
     "output_type": "stream",
     "text": [
      "[0, 2, 4, 6, 8, 10, 12, 14, 16, 18, 20, 22, 24, 26, 28]\n"
     ]
    }
   ],
   "source": [
    "numbers = range(30)\n",
    "even = []\n",
    "\n",
    "for i in numbers:\n",
    "    if i % 2 == 0:\n",
    "        even.append(i)\n",
    "        \n",
    "print(even)"
   ]
  },
  {
   "cell_type": "markdown",
   "metadata": {},
   "source": [
    "List comprenension:"
   ]
  },
  {
   "cell_type": "code",
   "execution_count": 13,
   "metadata": {},
   "outputs": [
    {
     "name": "stdout",
     "output_type": "stream",
     "text": [
      "[0, 2, 4, 6, 8, 10, 12, 14, 16, 18, 20, 22, 24, 26, 28]\n"
     ]
    }
   ],
   "source": [
    "# your code\n",
    "even = [num for num in range(30) if num % 2 == 0]\n",
    "print(even)"
   ]
  },
  {
   "cell_type": "markdown",
   "metadata": {},
   "source": [
    "**Problem 2** You are given the following lists: `text` and `words`."
   ]
  },
  {
   "cell_type": "code",
   "execution_count": 14,
   "metadata": {},
   "outputs": [],
   "source": [
    "text = ['a', 'infinity', 'reflection', 'with', 'like', 'big', 'briefly', 'into', 'children', 'which', \n",
    "        'fruit', 'picking', 'there', 'try', 'little', 'around', 'appearances', 'appeared', 'all', \n",
    "        'crossed', 'basis', 'improbability', 'their', 'discworld', 'black', 'to', 'death', 'future', \n",
    "        'only', 'my', 'robe', 'things', 'for', 'it', 'existed', 'said', 'sake', 'sometimes', 'right', \n",
    "        'way', 'that', 'country', 'chessboard', 'quoth', 'well', 'domestic', 'skull', 'wonderful', \n",
    "        'hooded', 'or', 'empty', 'bottom', 'mirror', 'himself', 'rather', 'over', 'every', 'triangle', \n",
    "        'roses', 'border', 'orbiting', 'was', 'from', 'show', 'be', 'pecked', 'bones', 'just', 'universe', \n",
    "        'me', 'triangular', 'gets', 'worth', 'have', 'climbed', 'service', 'fluttered', 'top', 'but', \n",
    "        'grey', 'claws', 'at', 'rats', 'creep', 'own', 'pattern', 'point', 'white', 'than', 'dark', \n",
    "        'therefore', 'frame', 'this', 'not', 'the', 'could', 'mind', 'turtle', 'scrabble', 'better', \n",
    "        'industries', 'looked', 'an', 'cherubs', 'life', 'anything', 'more', 'small', 'and', 'of', 'his', \n",
    "        'on', 'skulls', 'elephants', 'in', 'thoughts', 'seen', 'nearest', 'expectantly', 'other', 'side', \n",
    "        'shape', 'total', 'so', 'world', 'look', 'sun']\n",
    "\n",
    "words = [\"shape\", \"linguistics\", \"every\", \"even\", \"world\", \"chessboard\", \"water\", \"sake\"]"
   ]
  },
  {
   "cell_type": "markdown",
   "metadata": {},
   "source": [
    "Create a dicionary where words from the list `words` are the keys, and their values are `True` or `False` depending on these words being present in `text` or not. Expected output:\n",
    "    \n",
    "    {'shape': True, 'lingusitics': False, 'every': True, 'even': False, 'world': True, \n",
    "     'chessboard': True, 'water': False, 'sake': True}"
   ]
  },
  {
   "cell_type": "code",
   "execution_count": 15,
   "metadata": {},
   "outputs": [
    {
     "name": "stdout",
     "output_type": "stream",
     "text": [
      "{'shape': True, 'linguistics': False, 'every': True, 'even': False, 'world': True, 'chessboard': True, 'water': False, 'sake': True}\n"
     ]
    }
   ],
   "source": [
    "present = {x:x in text for x in words}\n",
    "print(present)"
   ]
  },
  {
   "cell_type": "markdown",
   "metadata": {},
   "source": [
    "**Problem 3** You are given the following list of numbers:"
   ]
  },
  {
   "cell_type": "code",
   "execution_count": 16,
   "metadata": {},
   "outputs": [],
   "source": [
    "numbers = [1, 2, 3, 4, 5]"
   ]
  },
  {
   "cell_type": "markdown",
   "metadata": {},
   "source": [
    "Find a way to get the following output:\n",
    "\n",
    "    [2.0, 1.5, 1.3333333333333333, 1.25]\n",
    "    \n",
    "Notice, that $2 / 1 = 2$, $3 / 2 = 1.5$, and so on. Use a list comprehension."
   ]
  },
  {
   "cell_type": "code",
   "execution_count": 17,
   "metadata": {},
   "outputs": [
    {
     "name": "stdout",
     "output_type": "stream",
     "text": [
      "[2.0, 1.5, 1.3333333333333333, 1.25]\n"
     ]
    }
   ],
   "source": [
    "result = [x/y for x, y in zip(numbers[1:], numbers[:-1])]\n",
    "print(result)"
   ]
  },
  {
   "cell_type": "markdown",
   "metadata": {},
   "source": [
    "**Problem 4** Given a list of dictionaries representing people, where each dictionary contains the person's name, age, and gender, create a dictionary that maps each gender to a list of tuples representing pairs of people who are the same age.\n",
    "\n",
    "Here's an example input list:"
   ]
  },
  {
   "cell_type": "code",
   "execution_count": 18,
   "metadata": {},
   "outputs": [
    {
     "name": "stdout",
     "output_type": "stream",
     "text": [
      "female\n",
      "[\n",
      "((30, 'Alice'), (30, 'Eve'))\n",
      "]\n",
      "male\n",
      "[\n",
      "((25, 'Bob'), (25, 'David'))\n",
      "((30, 'Charlie'), (30, 'Alice'))\n",
      "((30, 'Charlie'), (30, 'Eve'))\n",
      "]\n"
     ]
    }
   ],
   "source": [
    "people = [    {'name': 'Alice', 'age': 30, 'gender': 'female'},    {'name': 'Bob', 'age': 25, 'gender': 'male'},    {'name': 'Charlie', 'age': 30, 'gender': 'male'},    {'name': 'David', 'age': 25, 'gender': 'male'},    {'name': 'Eve', 'age': 30, 'gender': 'female'}]\n",
    "\n",
    "result = {}\n",
    "result[\"female\"] = []\n",
    "result[\"male\"] = []\n",
    "used = []\n",
    "\n",
    "for person_index, person in enumerate(people):\n",
    "    if person_index in used:\n",
    "        break\n",
    "\n",
    "    name = person[\"name\"]\n",
    "    age = person[\"age\"]\n",
    "    gender = person[\"gender\"]\n",
    "    found_flag = False # True if found a person of same gender and age\n",
    "\n",
    "    match_age_list = []\n",
    "    for other_person_index, other_person in enumerate(people):\n",
    "        if person_index != other_person_index:\n",
    "            other_name = other_person[\"name\"]\n",
    "            other_age = other_person[\"age\"]\n",
    "            other_gender = other_person[\"gender\"]\n",
    "            if age == other_age and gender == other_gender \\\n",
    "                    and person_index not in used and other_person_index not in used:\n",
    "                match_age_list.append(((age, name), (other_age, other_name)))\n",
    "                used.append(person_index)\n",
    "                used.append(other_person_index)\n",
    "                found_flag = True\n",
    "                break\n",
    "        \n",
    "    if not found_flag:\n",
    "        # person didn't find someone of same gender and age\n",
    "        # so just match anyone with same age\n",
    "        for other_person_index, other_person in enumerate(people):\n",
    "            other_name = other_person[\"name\"]\n",
    "            other_age = other_person[\"age\"]\n",
    "            other_gender = other_person[\"gender\"]\n",
    "            if age == other_age and person_index != other_person_index:\n",
    "                match_age_list.append(((age, name), (other_age, other_name)))\n",
    "\n",
    "    \n",
    "    result[gender] += match_age_list\n",
    "\n",
    "for k, v in result.items():\n",
    "    print(k)\n",
    "    print(\"[\")\n",
    "    for p in v:\n",
    "        print(p)\n",
    "    print(\"]\")"
   ]
  },
  {
   "cell_type": "markdown",
   "metadata": {},
   "source": [
    "The output dictionary should look like this:"
   ]
  },
  {
   "cell_type": "code",
   "execution_count": 19,
   "metadata": {},
   "outputs": [
    {
     "data": {
      "text/plain": [
       "{'female': [((30, 'Alice'), (30, 'Eve'))],\n",
       " 'male': [((25, 'Bob'), (25, 'David')),\n",
       "  ((30, 'Charlie'), (30, 'Alice')),\n",
       "  ((30, 'Charlie'), (30, 'Eve'))]}"
      ]
     },
     "execution_count": 19,
     "metadata": {},
     "output_type": "execute_result"
    }
   ],
   "source": [
    "{\n",
    "    'female': [\n",
    "        ((30, 'Alice'), (30, 'Eve'))\n",
    "    ],\n",
    "    'male': [\n",
    "        ((25, 'Bob'), (25, 'David')),\n",
    "        ((30, 'Charlie'), (30, 'Alice')),\n",
    "        ((30, 'Charlie'), (30, 'Eve'))\n",
    "    ]\n",
    "}\n"
   ]
  },
  {
   "cell_type": "markdown",
   "metadata": {},
   "source": []
  }
 ],
 "metadata": {
  "kernelspec": {
   "display_name": "Python 3 (ipykernel)",
   "language": "python",
   "name": "python3"
  },
  "language_info": {
   "codemirror_mode": {
    "name": "ipython",
    "version": 3
   },
   "file_extension": ".py",
   "mimetype": "text/x-python",
   "name": "python",
   "nbconvert_exporter": "python",
   "pygments_lexer": "ipython3",
   "version": "3.11.1"
  },
  "vscode": {
   "interpreter": {
    "hash": "aee8b7b246df8f9039afb4144a1f6fd8d2ca17a180786b69acc140d282b71a49"
   }
  }
 },
 "nbformat": 4,
 "nbformat_minor": 2
}
