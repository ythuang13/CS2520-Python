{
 "cells": [
  {
   "cell_type": "markdown",
   "metadata": {},
   "source": [
    "**Practice.** Print all prime numbers in-between $2$ and $10$. A number is _prime_ if it cannot be divided by anything apart from $1$ and that number by itself. Additionally, [$1$ is not a prime number](https://primes.utm.edu/notes/faq/one.html)!\n",
    "\n",
    "_Hint:_  You might want to implement a flag:assume that a number is prime, check if it can be divided by anything apart from $1$ or the number by itself, and if it can, change the assumption."
   ]
  },
  {
   "cell_type": "code",
   "execution_count": 1,
   "metadata": {},
   "outputs": [
    {
     "name": "stdout",
     "output_type": "stream",
     "text": [
      "2\n",
      "3\n",
      "5\n",
      "7\n"
     ]
    }
   ],
   "source": [
    "for num in range(2, 11):\n",
    "    prime_flag = True\n",
    "    for i in range(2, num):\n",
    "        if num % i == 0:\n",
    "            prime_flag = False\n",
    "    if prime_flag:\n",
    "        print(num)"
   ]
  },
  {
   "attachments": {},
   "cell_type": "markdown",
   "metadata": {},
   "source": [
    "\n",
    "## `break` statement\n",
    "\n",
    "The keyword `break` breaks the loop in which it is used. The code below will stop executing the loop in case `condition` is true.\n",
    "\n",
    "    for item in list:\n",
    "        if condition:\n",
    "            break\n",
    "        # if the condition is true the loop stops\n",
    "        #so any othe code in the loop won't be executed for any other element in list"
   ]
  },
  {
   "cell_type": "code",
   "execution_count": 2,
   "metadata": {},
   "outputs": [
    {
     "name": "stdout",
     "output_type": "stream",
     "text": [
      "1\n",
      "3\n",
      "5\n",
      "7\n"
     ]
    }
   ],
   "source": [
    "numbers = [1, 3, 5, 7, 8, 9, 11]\n",
    "for number in numbers:\n",
    "    if number % 2 == 0:\n",
    "        break\n",
    "    else:\n",
    "        print(number)"
   ]
  },
  {
   "cell_type": "markdown",
   "metadata": {},
   "source": [
    "The code above is also slightly redundant: if `break` is executed, we break out of the loop. Therefore, we can safely assume that if we are still in the loop, the condition in `if` was not true."
   ]
  },
  {
   "cell_type": "code",
   "execution_count": 3,
   "metadata": {},
   "outputs": [
    {
     "name": "stdout",
     "output_type": "stream",
     "text": [
      "1\n",
      "3\n",
      "5\n",
      "7\n"
     ]
    }
   ],
   "source": [
    "numbers = [1, 3, 5, 7, 8, 9, 11]\n",
    "for number in numbers:\n",
    "    if number % 2 == 0:\n",
    "        break\n",
    "    print(number)"
   ]
  },
  {
   "cell_type": "markdown",
   "metadata": {},
   "source": [
    "However, assume that we have several nested `for`-loops. The statement `break` only breaks  the loop where it is used.\n",
    "\n",
    "    for item_1 in list_1:\n",
    "        for item_2 in list_2:\n",
    "            if condition:\n",
    "                break\n",
    "            # this code won't be available for the current and for the rest \n",
    "            # of items in list_2 if the condition is true\n",
    "                \n",
    "The code above will break out of the loop iterating the `list_2`, however, it will not affect in any other way the external loop.\n",
    "\n",
    "**Example.** Assume that we have a dictionary and a list of sentences. We want to save sentences in a separate list only if there is a word in that sentence that cannot be found in the dictionary. In other words, we want to save sentences that contain \"unknown\" words."
   ]
  },
  {
   "cell_type": "code",
   "execution_count": 7,
   "metadata": {},
   "outputs": [
    {
     "name": "stdout",
     "output_type": "stream",
     "text": [
      "['Bill drinks covfefe and tea', 'John is a solopreneur and a blogger']\n"
     ]
    }
   ],
   "source": [
    "dictionary = [\"Mary\", \"Bill\", \"John\", \"likes\", \"drinks\", \"swimming\", \"skiing\", \"is\", \"a\", \"and\", \"blogger\"]\n",
    "sentences = [\"Mary likes skiing\", \"Bill drinks covfefe and tea\", \"John likes swimming\", \n",
    "             \"John is a solopreneur and a blogger\"]\n",
    "\n",
    "new_sentences = []\n",
    "\n",
    "for sentence in sentences:\n",
    "    for word in sentence.split():\n",
    "        if word not in dictionary:\n",
    "            new_sentences.append(sentence)\n",
    "            break\n",
    "\n",
    "print(new_sentences)"
   ]
  },
  {
   "cell_type": "markdown",
   "metadata": {},
   "source": [
    "As soon as the unknown word was detected in the sentence, we added that sentence in the new list: there is not reason to spend time/memory and to scan that sentence further!\n",
    "\n",
    "**Practice.** Rewrite the code printing all prime numbers from $2$ to $10$ in a more efficient way by using the `break` statement."
   ]
  },
  {
   "cell_type": "code",
   "execution_count": null,
   "metadata": {},
   "outputs": [],
   "source": [
    "for num in range(2, 11):\n",
    "    prime_flag = True\n",
    "    for i in range(2, num):\n",
    "        if num % i == 0:\n",
    "            prime_flag = False\n",
    "            break\n",
    "    if prime_flag:\n",
    "        print(num)"
   ]
  },
  {
   "cell_type": "markdown",
   "metadata": {},
   "source": [
    "**Practice.** You are given a list of adjectives describing weather. Loop over every adjective and ask the user if it describes today's weather. If the user answers \"yes\", react somehow and stop there.\n",
    "\n",
    "Example output 1:\n",
    "\n",
    "    Is it sunny today? nope\n",
    "    Is it rainy today? no\n",
    "    Is it cloudy today? no\n",
    "    Is it dry today? no\n",
    "    Is it foggy today? yes\n",
    "    Got it!\n",
    "    \n",
    "Example output 2:\n",
    "\n",
    "    Is it sunny today? nope\n",
    "    Is it rainy today? yes\n",
    "    Got it!"
   ]
  },
  {
   "cell_type": "code",
   "execution_count": 8,
   "metadata": {},
   "outputs": [
    {
     "name": "stdout",
     "output_type": "stream",
     "text": [
      "Got it!\n"
     ]
    }
   ],
   "source": [
    "weather = [\"sunny\", \"rainy\", \"cloudy\", \"dry\", \"foggy\", \"clear\", \"freezing\"]\n",
    "\n",
    "for w in weather:\n",
    "    user_input = input(f\"Is it {w} today? \")\n",
    "    if user_input == \"yes\":\n",
    "        print(\"Got it!\")\n",
    "        break\n"
   ]
  },
  {
   "cell_type": "markdown",
   "metadata": {},
   "source": [
    "## `continue` statement\n",
    "\n",
    "The `continue` statement skips the rest of the code in the iteration where it is executed.\n",
    "\n",
    "    for item in list:\n",
    "        if condition:\n",
    "            continue\n",
    "        #  this code will be skipped for the current item if the condition is true\n",
    "        \n",
    "If `condition` is true, the `continue` is executed, and `item` right away takes the next available value without executing the rest of the code."
   ]
  },
  {
   "cell_type": "code",
   "execution_count": 9,
   "metadata": {},
   "outputs": [
    {
     "name": "stdout",
     "output_type": "stream",
     "text": [
      "Number 1 is odd\n",
      "Number 3 is odd\n",
      "Number 5 is odd\n",
      "Number 7 is odd\n",
      "Number 9 is odd\n",
      "Number 11 is odd\n"
     ]
    }
   ],
   "source": [
    "numbers = [1, 3, 5, 7, 8, 9, 10, 11]\n",
    "for number in numbers:\n",
    "    if number % 2 == 0:\n",
    "        continue\n",
    "    print(\"Number\", number, \"is odd\")"
   ]
  },
  {
   "cell_type": "code",
   "execution_count": 10,
   "metadata": {},
   "outputs": [
    {
     "name": "stdout",
     "output_type": "stream",
     "text": [
      "Number 1 is odd\n",
      "Number 3 is odd\n",
      "Number 5 is odd\n",
      "Number 7 is odd\n"
     ]
    }
   ],
   "source": [
    "numbers = [1, 3, 5, 7, 8, 9, 10, 11]\n",
    "for number in numbers:\n",
    "    if number % 2 == 0:\n",
    "        break\n",
    "    print(\"Number\", number, \"is odd\")"
   ]
  },
  {
   "cell_type": "code",
   "execution_count": null,
   "metadata": {},
   "outputs": [],
   "source": [
    "numbers = [1, 3, 4, 5, 7, 8, 9, 11]\n",
    "\n",
    "for number in numbers:\n",
    "    if number % 2 == 0:\n",
    "        continue\n",
    "    print(\"Number\", number, \"is odd\")"
   ]
  },
  {
   "cell_type": "markdown",
   "metadata": {},
   "source": [
    "**Question.** Is the difference between `break` and `continue` clear? If not, compare the different ways the code above behaves if you switch one for the other very carefully.\n",
    "\n",
    "**Practice.** The code below asks user for a word. For every consonant in this word, print its index in the alphabet."
   ]
  },
  {
   "cell_type": "code",
   "execution_count": 11,
   "metadata": {},
   "outputs": [
    {
     "name": "stdout",
     "output_type": "stream",
     "text": [
      "The consonant is b and its index is 1\n",
      "The consonant is n and its index is 13\n",
      "The consonant is n and its index is 13\n"
     ]
    }
   ],
   "source": [
    "alphabet = \"abcdefghijklmnopqrstuvwxyz\"\n",
    "consonants = \"bcdfghjklmnpqrstvwxz\"\n",
    "\n",
    "word = input(\"Word: \")\n",
    "for s in word:\n",
    "    if s in consonants:\n",
    "        index = alphabet.find(s)\n",
    "        print(\"The consonant is\", s, \"and its index is\", index)"
   ]
  },
  {
   "cell_type": "markdown",
   "metadata": {},
   "source": [
    "Rewrite the code above using the `continue` statement. We want to skip the rest of the code within the loop if `s` is not a consonant!"
   ]
  },
  {
   "cell_type": "code",
   "execution_count": 12,
   "metadata": {},
   "outputs": [
    {
     "name": "stdout",
     "output_type": "stream",
     "text": [
      "The consonant is b and its index is 1\n",
      "The consonant is n and its index is 13\n",
      "The consonant is n and its index is 13\n"
     ]
    }
   ],
   "source": [
    "alphabet = \"abcdefghijklmnopqrstuvwxyz\"\n",
    "consonants = \"bcdfghjklmnpqrstvwxz\"\n",
    "\n",
    "word = input(\"Word: \")\n",
    "for s in word:\n",
    "    if s not in consonants:\n",
    "        continue\n",
    "    index = alphabet.find(s)\n",
    "    print(\"The consonant is\", s, \"and its index is\", index)"
   ]
  },
  {
   "cell_type": "markdown",
   "metadata": {},
   "source": [
    "The code that uses `continue` statement in the beginning of the code block is easy to read and understand: it works as a \"pre-condition\" while helping us to avoid excessive indentation."
   ]
  },
  {
   "cell_type": "markdown",
   "metadata": {},
   "source": [
    "## `while` loops\n",
    "\n",
    "While `for` loops allow us to iterate over a container and access its values one-by-one, `while` loops help us to keep executing some code block until a certain condition is true.\n",
    "\n",
    "    while condition:\n",
    "        # code that will be executed while condition is true\n",
    "        \n",
    "The code below prints numbers from 0 to $10$."
   ]
  },
  {
   "cell_type": "code",
   "execution_count": 13,
   "metadata": {},
   "outputs": [
    {
     "name": "stdout",
     "output_type": "stream",
     "text": [
      "0 1 2 3 4 5 6 7 8 9 10 "
     ]
    }
   ],
   "source": [
    "number = 0\n",
    "while number <= 10:\n",
    "    print(number, end=\" \")\n",
    "    number += 1"
   ]
  },
  {
   "cell_type": "code",
   "execution_count": 14,
   "metadata": {},
   "outputs": [],
   "source": [
    "fruits = [\"lemon\",\"melon\",\"strawberry\"]\n",
    "fruit = input(\"What's your fav fruit? \")\n",
    "\n",
    "while fruit in fruits:\n",
    "    print(\"That's a bad fruit!\")\n",
    "    if fruit == \"potato\":\n",
    "        print(\"That is not a fruit!\")\n",
    "        break"
   ]
  },
  {
   "cell_type": "code",
   "execution_count": null,
   "metadata": {},
   "outputs": [],
   "source": [
    "fruit = input(\"What's your fav fruit? \")\n",
    "\n",
    "\n",
    "    #fruit = input(\"What's your fav fruit?! \")"
   ]
  },
  {
   "cell_type": "markdown",
   "metadata": {},
   "source": [
    "**Warning:** if you are writing a code that includes a `while` loop, _always_ make sure that it will eventually finish. I.e. Will the condition you are using ever become false? If NOT, it is wrong! You never want yur code to execute infinitely!\n",
    "\n",
    "**Question:** what is wrong with the following code?\n",
    "\n",
    "    number = 0\n",
    "    while number <= 10:\n",
    "        print(number)\n",
    "        \n",
    "Consider now another example: we can write a code that asks a user to provide a unique words. We will stop asking the user for the words as soon as they repeated themselves."
   ]
  },
  {
   "cell_type": "code",
   "execution_count": null,
   "metadata": {},
   "outputs": [],
   "source": [
    "words = []\n",
    "new_word = input(\"Give me a unique word: \")\n",
    "\n",
    "while new_word not in words:\n",
    "    word.append(new_word)\n",
    "\n",
    "    new_word = input(\"Give me another unique word: \")\n",
    "print(\"You are repeating yourself\")"
   ]
  },
  {
   "cell_type": "markdown",
   "metadata": {},
   "source": [
    "**Question 1.** What is wrong with this code?\n",
    "\n",
    "    words = []\n",
    "    new_word = input(\"Give me a unique word: \")\n",
    "    while new_word not in words:\n",
    "        words.append(new_word)\n",
    "        user_input = input(\"Give me a unique word: \")\n",
    "    print(\"You are repeating yourself!\")\n",
    "    \n",
    "**Question 2.** What is wrong with this code?\n",
    "\n",
    "    words = []\n",
    "    new_word = input(\"Give me a unique word: \")\n",
    "    words.append(new_word)\n",
    "    while new_word not in words:\n",
    "        new_word = input(\"Give me a unique word: \")\n",
    "        words.append(new_word)\n",
    "    print(\"You are repeating yourself!\")"
   ]
  },
  {
   "cell_type": "markdown",
   "metadata": {},
   "source": [
    "**Practice.** Using a `while` loop, write a code that will print symbols of a given word and its indices.\n",
    "\n",
    "    input:   sky\n",
    "    output:  s 0\n",
    "             k 1\n",
    "             y 2"
   ]
  },
  {
   "cell_type": "code",
   "execution_count": 16,
   "metadata": {},
   "outputs": [
    {
     "name": "stdout",
     "output_type": "stream",
     "text": [
      "s 0\n",
      "k 1\n",
      "y 2\n"
     ]
    }
   ],
   "source": [
    "word = input(\"Input: \")\n",
    "counter = 0\n",
    "while counter < len(word):\n",
    "    print(f\"{word[counter]} {counter}\")\n",
    "    counter += 1"
   ]
  },
  {
   "cell_type": "markdown",
   "metadata": {},
   "source": [
    "It is possible to use `break` and `continue` in `while` loops as well. The logic is exactly as it was before:\n",
    "  * `break` breaks out of the loop;\n",
    "  * `continue` will skip the rest of the code in the current state of the loop and will directly go to its beginning."
   ]
  },
  {
   "cell_type": "code",
   "execution_count": 1,
   "metadata": {},
   "outputs": [
    {
     "name": "stdout",
     "output_type": "stream",
     "text": [
      "You are repeating yourself\n"
     ]
    }
   ],
   "source": [
    "words = []\n",
    "\n",
    "while True:\n",
    "    w = input(\"Give me a word: \")\n",
    "    if w not in words:\n",
    "        words.append(w)\n",
    "    else:\n",
    "        print(\"You are repeating yourself\")\n",
    "        break"
   ]
  },
  {
   "cell_type": "code",
   "execution_count": 2,
   "metadata": {},
   "outputs": [
    {
     "name": "stdout",
     "output_type": "stream",
     "text": [
      "Consonant is  b and its index is 1\n",
      "Consonant is  n and its index is 13\n",
      "Consonant is  n and its index is 13\n"
     ]
    }
   ],
   "source": [
    "alphabet = \"abcdefghijklmnopqrstuvwxyz\"\n",
    "consonants = \"bcdfghjklmnpqrstvwxz\"\n",
    "\n",
    "word = input(\"Word: \")\n",
    "n = 0\n",
    "\n",
    "while n < len(word):\n",
    "    if word[n] not in consonants:\n",
    "        n += 1\n",
    "        continue\n",
    "\n",
    "    index = alphabet.find(word[n])\n",
    "    print(\"Consonant is \", word[n], \"and its index is\", index)\n",
    "    n += 1"
   ]
  },
  {
   "cell_type": "markdown",
   "metadata": {},
   "source": [
    "**Question:** In the code cell above, why do we need the `n += 1` statement right before `continue`? What would happen if we put it after?\n",
    "\n",
    "**Practice:** for a given number, keep substracting $0.5$ from it and printing the result on the screen until that number reaches $0$."
   ]
  },
  {
   "cell_type": "code",
   "execution_count": 3,
   "metadata": {},
   "outputs": [
    {
     "name": "stdout",
     "output_type": "stream",
     "text": [
      "5.5\n",
      "5.0\n",
      "4.5\n",
      "4.0\n",
      "3.5\n",
      "3.0\n",
      "2.5\n",
      "2.0\n",
      "1.5\n",
      "1.0\n",
      "0.5\n",
      "0.0\n"
     ]
    }
   ],
   "source": [
    "n = float(input(\"Give me a positive number: \"))\n",
    "while n > 0:\n",
    "    print(f\"{n - 0.5}\")\n",
    "    n -= 0.5"
   ]
  },
  {
   "cell_type": "markdown",
   "metadata": {},
   "source": [
    "## A Case Study: Text generation with bigrams\n",
    "\n",
    "This is an extended practice exercise. You are given a text, and your goal is to learn **word-based bigrams** of that text. Then we want to generate new sentences based on the ones extracted from the text.\n",
    "\n",
    "_Step 1._ You are given the following text. (The only punctuation used there is `.`.)"
   ]
  },
  {
   "cell_type": "code",
   "execution_count": 5,
   "metadata": {},
   "outputs": [
    {
     "name": "stdout",
     "output_type": "stream",
     "text": [
      "You look wonderful today. The sky is blue and the sun is shining. I look at you. Look at these trees. There are birds and butterflies here.\n"
     ]
    }
   ],
   "source": [
    "text = \"You look wonderful today. The sky is blue and the sun is shining. I look at you. Look at these trees. There are birds and butterflies here.\"\n",
    "print(text)\n"
   ]
  },
  {
   "cell_type": "markdown",
   "metadata": {},
   "source": [
    "_Step 2._ Create a list of words and punctuations (separately!) of `text`.\n",
    "\n",
    "    Expected output: ['you', 'look', 'wonderful', 'today', '.', 'the', 'sky', 'is', 'blue', 'and', 'the', \n",
    "                      'sun', 'is', 'shining', '.', 'i', 'look', 'at', 'you', '.', 'look', 'at', 'these', \n",
    "                      'trees', '.', 'there', 'are', 'birds', 'and', 'butterflies', 'here', '.']"
   ]
  },
  {
   "cell_type": "code",
   "execution_count": 10,
   "metadata": {},
   "outputs": [
    {
     "data": {
      "text/plain": [
       "['you',\n",
       " 'look',\n",
       " 'wonderful',\n",
       " 'today',\n",
       " '.',\n",
       " 'the',\n",
       " 'sky',\n",
       " 'is',\n",
       " 'blue',\n",
       " 'and',\n",
       " 'the',\n",
       " 'sun',\n",
       " 'is',\n",
       " 'shining',\n",
       " '.',\n",
       " 'i',\n",
       " 'look',\n",
       " 'at',\n",
       " 'you',\n",
       " '.',\n",
       " 'look',\n",
       " 'at',\n",
       " 'these',\n",
       " 'trees',\n",
       " '.',\n",
       " 'there',\n",
       " 'are',\n",
       " 'birds',\n",
       " 'and',\n",
       " 'butterflies',\n",
       " 'here',\n",
       " '.']"
      ]
     },
     "execution_count": 10,
     "metadata": {},
     "output_type": "execute_result"
    }
   ],
   "source": [
    "words = []\n",
    "for word in text.split():\n",
    "    words.append(word.strip(\".,\").lower())\n",
    "    if word.strip().endswith((\".\", \",\")):\n",
    "        words.append(word.strip()[-1])\n",
    "words"
   ]
  },
  {
   "cell_type": "markdown",
   "metadata": {},
   "source": [
    "_Step 3._ Based on the previous output, create a list of bigrams of that text.\n",
    "\n",
    "    Expected output: [['you', 'look'], ['look', 'wonderful'], ['wonderful', 'today'], ['today', '.'], \n",
    "                      ['.', 'the'], ['the', 'sky'], ['sky', 'is'], ['is', 'blue'], ['blue', 'and'],\n",
    "                      ['and', 'the'], ['the', 'sun'], ['sun', 'is'], ['is', 'shining'], ['shining', '.'], \n",
    "                      ['.', 'i'], ['i', 'look'], ['look', 'at'], ['at', 'you'], ['you', '.'], ['.', 'look'], \n",
    "                      ['at', 'these'], ['these', 'trees'], ['trees', '.'], ['.', 'there'], ['there', 'are'], \n",
    "                      ['are', 'birds'], ['birds', 'and'], ['and', 'butterflies'], ['butterflies', 'here'], \n",
    "                      ['here', '.']]"
   ]
  },
  {
   "cell_type": "code",
   "execution_count": 11,
   "metadata": {},
   "outputs": [
    {
     "data": {
      "text/plain": [
       "[['you', 'look'],\n",
       " ['look', 'wonderful'],\n",
       " ['wonderful', 'today'],\n",
       " ['today', '.'],\n",
       " ['.', 'the'],\n",
       " ['the', 'sky'],\n",
       " ['sky', 'is'],\n",
       " ['is', 'blue'],\n",
       " ['blue', 'and'],\n",
       " ['and', 'the'],\n",
       " ['the', 'sun'],\n",
       " ['sun', 'is'],\n",
       " ['is', 'shining'],\n",
       " ['shining', '.'],\n",
       " ['.', 'i'],\n",
       " ['i', 'look'],\n",
       " ['look', 'at'],\n",
       " ['at', 'you'],\n",
       " ['you', '.'],\n",
       " ['.', 'look'],\n",
       " ['look', 'at'],\n",
       " ['at', 'these'],\n",
       " ['these', 'trees'],\n",
       " ['trees', '.'],\n",
       " ['.', 'there'],\n",
       " ['there', 'are'],\n",
       " ['are', 'birds'],\n",
       " ['birds', 'and'],\n",
       " ['and', 'butterflies'],\n",
       " ['butterflies', 'here'],\n",
       " ['here', '.']]"
      ]
     },
     "execution_count": 11,
     "metadata": {},
     "output_type": "execute_result"
    }
   ],
   "source": [
    "bigrams = [[x,y] for x, y in zip(words[:-1], words[1:])]"
   ]
  },
  {
   "cell_type": "code",
   "execution_count": null,
   "metadata": {},
   "outputs": [],
   "source": []
  },
  {
   "cell_type": "markdown",
   "metadata": {},
   "source": [
    "_Step 4._ A function `choice` from the package `random` takes a non-empty list as input and returns a random item from this list as the output"
   ]
  },
  {
   "cell_type": "code",
   "execution_count": null,
   "metadata": {},
   "outputs": [],
   "source": [
    "from random import choice\n",
    "\n",
    "choice([\"A\", \"B\", \"C\"])"
   ]
  },
  {
   "cell_type": "markdown",
   "metadata": {},
   "source": [
    "Let us then pick a random bigram as the beginning of the sentence, and then keep adding words to that sentence depending on its last word. The sentence is finished if we encountered `.`."
   ]
  },
  {
   "cell_type": "code",
   "execution_count": null,
   "metadata": {},
   "outputs": [],
   "source": []
  },
  {
   "cell_type": "markdown",
   "metadata": {},
   "source": [
    "**Question:** will there be any difference in the \"quality\" of the generated sentences if we use the same code, but _keep duplicate bigrams?_\n",
    "\n",
    "**Extension:** modify the code above above so that it's not a _bigram_ based sentence generator, but rather an _n-gram_ based."
   ]
  },
  {
   "cell_type": "code",
   "execution_count": null,
   "metadata": {},
   "outputs": [],
   "source": []
  }
 ],
 "metadata": {
  "colab": {
   "collapsed_sections": [],
   "name": "Notebook_6.ipynb",
   "provenance": []
  },
  "kernelspec": {
   "display_name": "Python 3",
   "language": "python",
   "name": "python3"
  },
  "language_info": {
   "codemirror_mode": {
    "name": "ipython",
    "version": 3
   },
   "file_extension": ".py",
   "mimetype": "text/x-python",
   "name": "python",
   "nbconvert_exporter": "python",
   "pygments_lexer": "ipython3",
   "version": "3.11.1"
  },
  "vscode": {
   "interpreter": {
    "hash": "aee8b7b246df8f9039afb4144a1f6fd8d2ca17a180786b69acc140d282b71a49"
   }
  }
 },
 "nbformat": 4,
 "nbformat_minor": 1
}
