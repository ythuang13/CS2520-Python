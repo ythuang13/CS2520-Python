{
 "cells": [
  {
   "attachments": {},
   "cell_type": "markdown",
   "metadata": {},
   "source": [
    "<div style=\"text-align: right\">\n",
    "    <i>\n",
    "        CS2520: Fundamentals of Python <br>\n",
    "        Spring 2023 <br>\n",
    "        Anuar Assamidanov\n",
    "    </i>\n",
    "</div>\n",
    "\n",
    "# Notebook 2: Control flow and indexing\n",
    "\n",
    "This notebook explains how to change and control the flow of the program using `if`, `elif` and `else` and boolean expressions. We will also discuss indexing, and data types that can be indexed, negative indexing, slices and steps."
   ]
  },
  {
   "cell_type": "code",
   "execution_count": null,
   "metadata": {},
   "outputs": [],
   "source": []
  },
  {
   "cell_type": "markdown",
   "metadata": {},
   "source": [
    "## 1. Flow control\n",
    "\n",
    "So far, we have only seen code that works deterministically and sequentially: every line of code gets executed, in the order you wrote them.\n",
    "In most of the cases though, we want to be flexible and only execute some code if certain conditions are met. For example, voice assistants gets triggered only after a specific phrase is pronounced.\n",
    "\n",
    "### `if`-statement\n",
    "\n",
    "In Python, the conditional operator `if` introuces a block of code that is executed *only if* some condition is met.\n",
    "Here is an abstract pseudo-code chunck representing this concept:\n",
    "\n",
    "```\n",
    "if condition:\n",
    "    code that is executed only if the condition is True\n",
    "```\n",
    "\n",
    "Note that *indentation* is crucial here: the indentation of the second line shows which code is tied to the boolean expression in `if` being True.\n",
    "Consider the code below:"
   ]
  },
  {
   "cell_type": "code",
   "execution_count": 1,
   "metadata": {},
   "outputs": [],
   "source": [
    "user_1_age = 26\n",
    "user_2_age = 99\n"
   ]
  },
  {
   "cell_type": "markdown",
   "metadata": {},
   "source": [
    "The indented code is executed only when the corresponding condition is True, whereas non-indented code does not depend on any condition and it is always executed."
   ]
  },
  {
   "cell_type": "code",
   "execution_count": null,
   "metadata": {},
   "outputs": [],
   "source": [
    "talkative = True\n",
    "#talkative = False\n",
    "\n"
   ]
  },
  {
   "cell_type": "markdown",
   "metadata": {},
   "source": [
    "In the example above, the variable _talkative_ is used as a *flag*. We can define the flag to be dependent on the user input, or on some other part of the code."
   ]
  },
  {
   "cell_type": "code",
   "execution_count": 13,
   "metadata": {},
   "outputs": [
    {
     "name": "stdout",
     "output_type": "stream",
     "text": [
      "Are you talkative?\n",
      "no\n",
      "Nice meeting you anyway.\n"
     ]
    }
   ],
   "source": [
    "talkative = False\n",
    "\n",
    "print(\"Are you talkative?\")\n",
    "answer = input()\n",
    "\n"
   ]
  },
  {
   "cell_type": "markdown",
   "metadata": {},
   "source": [
    "The code above is slightly *redundant*: it has more code than needed for what it does. But it should help clarify the idea of how we can make some code dependent on whatever the user inputs.\n",
    "\n",
    "**Practice** Can you simplify the code above so that it works exacly the same (gives the same output for the same user input), but it is shorter and/or involves less operations? You can try it in the cell below:"
   ]
  },
  {
   "cell_type": "code",
   "execution_count": 15,
   "metadata": {},
   "outputs": [
    {
     "name": "stdout",
     "output_type": "stream",
     "text": [
      "Are you talkative?\n",
      "no\n",
      "Nice meeting you anyway.\n"
     ]
    }
   ],
   "source": [
    "talkative = False\n",
    "\n",
    "print(\"Are you talkative?\")\n",
    "answer = input()\n",
    "\n"
   ]
  },
  {
   "cell_type": "markdown",
   "metadata": {},
   "source": [
    "Note that so far we have only seen one line of code immediatelly follow an if statement. Can we have longer pieces of code depend of a condition? We can! Consider the code below:"
   ]
  },
  {
   "cell_type": "code",
   "execution_count": 1,
   "metadata": {},
   "outputs": [
    {
     "name": "stdout",
     "output_type": "stream",
     "text": [
      "Are you talkative?\n"
     ]
    }
   ],
   "source": [
    "print(\"Are you talkative?\")\n",
    "answer = input()\n",
    "\n"
   ]
  },
  {
   "cell_type": "markdown",
   "metadata": {},
   "source": [
    "As you can see, we can have code of any length **nested within** an if-statement. In fact, we can also have multiple ifs nested within other ifs.\n",
    "How does Python figure out which code depend on which condition? It is all thanks to how each line is indented!\n",
    "Indentation turns out to play a very important role in the syntax Python, and we will get back to this concept multiple times. \n",
    "\n",
    "**Practice** Run the code above a few times, trying different answers to question 1 and question 2. Do you understand why each statement gets printed when it does? If not, write down your hypotheses/questions to discuss in class."
   ]
  },
  {
   "cell_type": "markdown",
   "metadata": {},
   "source": [
    "**Practice** Can we have an if statement without a condition? What about an if statement without any code indented after it? Try these different options in the cell below, and come up with possible conditions on how if-statements need to be written."
   ]
  },
  {
   "cell_type": "code",
   "execution_count": null,
   "metadata": {},
   "outputs": [],
   "source": []
  },
  {
   "cell_type": "markdown",
   "metadata": {},
   "source": [
    "### `else`\n",
    "\n",
    "Consider the code above once again.\n",
    "In the second if, we ask the user a yes/no question. But then we only have code that is executed based on \"no\". What if we want to add some code to be executed only when the user answers \"yes\"?\n",
    "One way to do this is as follows:\n"
   ]
  },
  {
   "cell_type": "code",
   "execution_count": null,
   "metadata": {},
   "outputs": [],
   "source": [
    "print(\"Do you like cake? Yes or No?\")\n",
    "\n",
    "answer = input()\n"
   ]
  },
  {
   "cell_type": "markdown",
   "metadata": {},
   "source": [
    "However, consider this: when we check the first time  whether `answer` is equal to \"No\", we also implicitly realize whether if is equal to \"Yes\" or not.\n",
    "So checking `answer == \"Yes\"` is somewhat redundant. Remember that evaluating conditions is an expensive operation for Python.\n",
    "It would be nice to be able to tell the code that, if the first condition is False, then it should print \"Ok that's a good take!\".\n",
    "This is exactly what `else` does.\n",
    "\n",
    "`else` is used if we want some code to be executed when the conditions associated to `if` were  False. \n",
    "As a linguist, you might be reminded of _elsewhere_ conditions in phonology/morphology. \n",
    "\n",
    "\n",
    "```\n",
    "if condition1:\n",
    "    code that is executed only if condition1 is True\n",
    "   \n",
    "else:\n",
    "    code that is executed only if condition1 is False\n",
    "```\n",
    "\n",
    "Because it is implicitly linked to the condition in the preceding if-statement,  `else` does not permit a condition. For the same reason, while we can have `if` without `else`, we cannot have `else` without `if`."
   ]
  },
  {
   "cell_type": "code",
   "execution_count": 17,
   "metadata": {},
   "outputs": [
    {
     "ename": "SyntaxError",
     "evalue": "invalid syntax (<ipython-input-17-7b61b2b4cccc>, line 4)",
     "output_type": "error",
     "traceback": [
      "\u001b[0;36m  File \u001b[0;32m\"<ipython-input-17-7b61b2b4cccc>\"\u001b[0;36m, line \u001b[0;32m4\u001b[0m\n\u001b[0;31m    else:\u001b[0m\n\u001b[0m    ^\u001b[0m\n\u001b[0;31mSyntaxError\u001b[0m\u001b[0;31m:\u001b[0m invalid syntax\n"
     ]
    }
   ],
   "source": [
    "sentence = \"colorless green ideas sleep furiously\"\n",
    "\n",
    "\n",
    "else:\n",
    "    print(\"stuff\")"
   ]
  },
  {
   "cell_type": "markdown",
   "metadata": {},
   "source": [
    "Importantly, `else` is bound only to the `if` **immediately preceding** it!"
   ]
  },
  {
   "cell_type": "code",
   "execution_count": null,
   "metadata": {},
   "outputs": [],
   "source": [
    "sentence = \"colorless green ideas sleep furiously\"\n",
    "\n"
   ]
  },
  {
   "cell_type": "markdown",
   "metadata": {},
   "source": [
    "\n",
    "\n",
    "### `elif`-statement\n",
    "\n",
    "`if` and `else` allow us a lot of flexibility in how we structure our code, expecially when interacting with users.\n",
    "As we saw above, different if-statements can be nested in each other to create a cascade of conditions.\n",
    "Consider now the cade in which we would like to check a second condition, but only if a first condition was False.\n",
    "How can we do it? The simplest way is to employ a combination of `if` and `else`  statements."
   ]
  },
  {
   "cell_type": "code",
   "execution_count": null,
   "metadata": {},
   "outputs": [],
   "source": [
    "sentence = \"colorless green ideas sleep furiously\"\n",
    "\n"
   ]
  },
  {
   "cell_type": "markdown",
   "metadata": {},
   "source": [
    "However, the code above is once again a bit redundant. There is a better way!\n",
    "\n",
    "If a 2nd (or 3rd, 4th, etc.) condition depends on an earlier condition being False, the former can be introduced using the `elif` statement. The `elif` code block is executed only if the condition of previous `if` turned out to be False (even the name is, in fact, a combination of `else` and `if`).\n",
    "\n",
    "```\n",
    "if condition1:\n",
    "    code that is executed only if condition1 is True\n",
    "    \n",
    "elif condition2:\n",
    "    code that is executed only if condition2 is True and condition1 is False\n",
    "    \n",
    "elif condition3:\n",
    "    code that is executed only if condition3 is True and condition1 and condition2 are False\n",
    "```"
   ]
  },
  {
   "cell_type": "code",
   "execution_count": null,
   "metadata": {},
   "outputs": [],
   "source": [
    "sentence = \"colorless green ideas sleep furiously\"\n",
    "\n"
   ]
  },
  {
   "cell_type": "markdown",
   "metadata": {},
   "source": [
    "However, you can use `elif` only if you are sure that the conditions are dependent on each other. \n",
    "If you want to simply check if these words can be found in the sentence independently, we will need to use several independent `if`-statements."
   ]
  },
  {
   "cell_type": "code",
   "execution_count": null,
   "metadata": {},
   "outputs": [],
   "source": [
    "sentence = \"colorless green ideas sleep furiously\"\n",
    "\n"
   ]
  },
  {
   "cell_type": "markdown",
   "metadata": {},
   "source": [
    "Finally, `else` can be used at the end of a sequence of `elif`, once again filling the role of the elsewhere condition."
   ]
  },
  {
   "cell_type": "code",
   "execution_count": null,
   "metadata": {},
   "outputs": [],
   "source": [
    "sentence = \"colorless green ideas sleep furiously\"\n",
    "\n"
   ]
  },
  {
   "cell_type": "markdown",
   "metadata": {},
   "source": [
    "### Nested conditions in detail\n",
    "\n",
    "As we saw before with simple sequences of `if`s, a block of `if`-`elif`-`else` statements can be embedded inside another block:\n",
    "\n",
    "```\n",
    "if condition1:\n",
    "\n",
    "    code that is executed if condition1 is True\n",
    "    \n",
    "    if condition2:\n",
    "        code that is executed if condition1 and condition2 are True\n",
    "    else:\n",
    "        code that is executed if condition1 is True and condition2 is False\n",
    "        \n",
    "else:\n",
    "    code that is executed if condition1 is False\n",
    "```"
   ]
  },
  {
   "cell_type": "code",
   "execution_count": null,
   "metadata": {},
   "outputs": [],
   "source": [
    "user_mood = input(\"Enter your mood: \")\n",
    "\n"
   ]
  },
  {
   "cell_type": "markdown",
   "metadata": {},
   "source": [
    "**Practice:** rewrite the code above using the `elif` statement and complex boolean expressions."
   ]
  },
  {
   "cell_type": "code",
   "execution_count": null,
   "metadata": {},
   "outputs": [],
   "source": []
  },
  {
   "cell_type": "markdown",
   "metadata": {},
   "source": [
    "**Warning:** be careful when combining boolean expressions."
   ]
  },
  {
   "cell_type": "code",
   "execution_count": 2,
   "metadata": {},
   "outputs": [],
   "source": [
    "sentence = \"bad and horrible\"\n",
    "if \"good\" or \"awesome\" in sentence:\n",
    "    print(\"Happy to hear!\")"
   ]
  },
  {
   "cell_type": "markdown",
   "metadata": {},
   "source": [
    "Remember, that the operator `or` combines boolean expression together:\n",
    "\n",
    "            expression1 and expression2\n",
    "\n",
    "The `if`-statement above depends on two expressions: ``''good''`` and ``''awesome'' in sentence``. In fact, in Python, strings have truth values: non-empty string evaluates to True, whereas the empty one evaluates to False."
   ]
  },
  {
   "cell_type": "code",
   "execution_count": 3,
   "metadata": {},
   "outputs": [
    {
     "name": "stdout",
     "output_type": "stream",
     "text": [
      "Non-empty strings evaluate to True.\n"
     ]
    }
   ],
   "source": [
    "if \"string is non-empty\":\n",
    "    print(\"Non-empty strings evaluate to True.\")\n",
    "\n",
    "if \"\":\n",
    "    print(\"Nothing to be seen here.\")"
   ]
  },
  {
   "cell_type": "markdown",
   "metadata": {},
   "source": [
    "### Practice: a simple chatbot\n",
    "\n",
    "Ask the user if they are in a chatty mood. If the user said something apart from \"yes\", wish them a good day. Otherwise ask them how they are doing. Have different responses for the cases when the sentence contains\n",
    " -  \"nice\" or \"good\"\n",
    " -  \"bad\" or \"horrible\"\n",
    " -   anything else."
   ]
  },
  {
   "cell_type": "code",
   "execution_count": null,
   "metadata": {},
   "outputs": [],
   "source": []
  },
  {
   "cell_type": "markdown",
   "metadata": {},
   "source": [
    "## 2. Indexing\n",
    "\n",
    "Let's not take a break from the flow of the program, and talk about a core property of several data types in Python: **indexing**.\n",
    "\n",
    "Indexing is a way of assigning order to elements in some container. \n",
    "**Containers** are objects that can contain an arbitrary number of other objects within themselves.\n",
    "So far, we have encountered one instance of a container data type: strings.\n",
    "Strings are containers, because they can consist of any numbers of characters. \n",
    "As we know, the order of symbols in a string matters (\"lived\" is not the same as \"devil\"), this is the fundamental intuition about indexing: each element in a container is assigned a position!\n",
    "\n",
    "As a notational peculiarity, indexing starts from $0$, and a symbol on the position $n$ can be accessed as ``string[n]``."
   ]
  },
  {
   "cell_type": "code",
   "execution_count": 18,
   "metadata": {},
   "outputs": [
    {
     "name": "stdout",
     "output_type": "stream",
     "text": [
      "h\n",
      "P\n"
     ]
    }
   ],
   "source": [
    "\n"
   ]
  },
  {
   "cell_type": "markdown",
   "metadata": {},
   "source": [
    "Integers, floats, and booleans are not indexed: they don't have any defined sub-objects (technically, they are not _subscriptable_)."
   ]
  },
  {
   "cell_type": "code",
   "execution_count": null,
   "metadata": {},
   "outputs": [],
   "source": []
  },
  {
   "cell_type": "markdown",
   "metadata": {},
   "source": [
    "Finally, recall that a variable is just a referent to whatever object it contains!"
   ]
  },
  {
   "cell_type": "code",
   "execution_count": null,
   "metadata": {},
   "outputs": [],
   "source": [
    "str1 = \"happy\"\n"
   ]
  },
  {
   "cell_type": "markdown",
   "metadata": {},
   "source": [
    "### Slices\n",
    "\n",
    "Slices are subparts of the original string. They can be accessed as:\n",
    "\n",
    "            string[start:end]\n",
    "\n",
    "The ``start`` argument is the first index _included_ in the slice, and the ``end`` is the first index _not included_ in it."
   ]
  },
  {
   "cell_type": "code",
   "execution_count": null,
   "metadata": {},
   "outputs": [],
   "source": []
  },
  {
   "cell_type": "markdown",
   "metadata": {},
   "source": [
    "If the value of `start` is $0$, or if the value of `end` is larger then the last available index in the string, the corresponding argument can be ommitted."
   ]
  },
  {
   "cell_type": "code",
   "execution_count": null,
   "metadata": {},
   "outputs": [],
   "source": []
  },
  {
   "cell_type": "code",
   "execution_count": null,
   "metadata": {},
   "outputs": [],
   "source": []
  },
  {
   "cell_type": "code",
   "execution_count": null,
   "metadata": {},
   "outputs": [],
   "source": []
  },
  {
   "cell_type": "markdown",
   "metadata": {},
   "source": [
    "**Practice** Ask the user for a word, and print the last available index in the string corresponding to that word."
   ]
  },
  {
   "cell_type": "code",
   "execution_count": null,
   "metadata": {},
   "outputs": [],
   "source": [
    "word = input()\n",
    "\n",
    "#add here some code to find the value for the last index\n",
    "# Store it in the \"index\" variable below so that it gets printed.\n",
    "# Hint: you know how to find out how long a string is...\n",
    "\n",
    "index = \"TBD\"\n",
    "print(\"The last index is\", index)"
   ]
  },
  {
   "cell_type": "markdown",
   "metadata": {},
   "source": [
    "Apart from the `start` and `end` parameters, there is an optional one: `step`. The **step** of the slice is the difference of the current and the following elements of the slice in the original string. This is useful if, for example, only every third item needs to be included in the slice."
   ]
  },
  {
   "cell_type": "code",
   "execution_count": null,
   "metadata": {},
   "outputs": [],
   "source": []
  },
  {
   "cell_type": "code",
   "execution_count": null,
   "metadata": {},
   "outputs": [],
   "source": []
  },
  {
   "cell_type": "markdown",
   "metadata": {},
   "source": [
    "The distance can be negative, and in this case, the selected positions start from the bigger indecies and go down to the smaller ones, therefore the `start` argument is bigger than the `end` one."
   ]
  },
  {
   "cell_type": "code",
   "execution_count": null,
   "metadata": {},
   "outputs": [],
   "source": []
  },
  {
   "cell_type": "markdown",
   "metadata": {},
   "source": [
    "**Practice** Can you think of how to reverse a string (e.g. \"lived\" -> \"devil\") using slicing?"
   ]
  },
  {
   "cell_type": "code",
   "execution_count": null,
   "metadata": {},
   "outputs": [],
   "source": []
  },
  {
   "cell_type": "markdown",
   "metadata": {},
   "source": [
    "### Negative indexing\n",
    "\n",
    "Python supports negative indexing. In this case, _the index of the final element_ is $-1$, pre-final one is $-2$, and so on."
   ]
  },
  {
   "cell_type": "code",
   "execution_count": null,
   "metadata": {},
   "outputs": [],
   "source": []
  },
  {
   "cell_type": "code",
   "execution_count": null,
   "metadata": {},
   "outputs": [],
   "source": []
  },
  {
   "cell_type": "code",
   "execution_count": null,
   "metadata": {},
   "outputs": [],
   "source": [
    "\"antidisestablishmentarianism\"[]"
   ]
  },
  {
   "cell_type": "markdown",
   "metadata": {},
   "source": [
    "Here, the first included index is $-3$. The second is $-3-3$, or $-6$. Then $-9$ and $-12$, and $-15$ is not included because it is bigger than $-13$."
   ]
  },
  {
   "cell_type": "markdown",
   "metadata": {},
   "source": [
    "### The `find` method\n",
    "\n",
    "`str.find(string, substring)` returns the index of the string where the given substring starts, or `-1` if the substring is not found."
   ]
  },
  {
   "cell_type": "code",
   "execution_count": null,
   "metadata": {},
   "outputs": [],
   "source": []
  },
  {
   "cell_type": "code",
   "execution_count": null,
   "metadata": {},
   "outputs": [],
   "source": []
  },
  {
   "cell_type": "markdown",
   "metadata": {},
   "source": [
    "However, if the substring is found more then once, `find` returns the starting index only of its first occurrence."
   ]
  },
  {
   "cell_type": "code",
   "execution_count": null,
   "metadata": {},
   "outputs": [],
   "source": []
  },
  {
   "cell_type": "markdown",
   "metadata": {},
   "source": [
    "A more precise name for functions such as `find`, `upper`, `lower`, etc. are **methods**. Methods are defined for specific types of objects, and they can be called either by the full reference, as `str.upper(some_string)`, or by the short one as `some_string.upper()`.\n",
    "\n",
    "Intuitively, **methods** depend on the type of the object they operate with. For example, the definition of the object `str` includes the definition of the method `upper`.\n",
    "**Functions** operate with objects, but they are defined independently of those objects.\n",
    "\n",
    "If this is a bit too much, don't worry! We will come back to these concepts in the future.\n",
    "For now, try to remember that specific data types have some properties that are unique to them (kind of a special attack for a subtype of Pokemons)."
   ]
  },
  {
   "cell_type": "code",
   "execution_count": null,
   "metadata": {},
   "outputs": [],
   "source": []
  },
  {
   "cell_type": "code",
   "execution_count": null,
   "metadata": {},
   "outputs": [],
   "source": []
  },
  {
   "cell_type": "markdown",
   "metadata": {},
   "source": [
    "### Practice: calculating initial and final indexes\n",
    "\n",
    "Write a program that asks the user for a string and its substring. It then prints the initial and final indexes of the substring in that string in positive and in negative representations. For example:\n",
    "\n",
    "    String: subsequential\n",
    "    Substring: quen\n",
    "    \n",
    "    The non-negative slice is [5:9].\n",
    "    The negative slice is [-8:-4]."
   ]
  },
  {
   "cell_type": "code",
   "execution_count": 2,
   "metadata": {},
   "outputs": [
    {
     "name": "stdout",
     "output_type": "stream",
     "text": [
      "The non-negative slice is [5:9]\n",
      "The negative slice is [-8:-4]\n"
     ]
    }
   ],
   "source": [
    "string_input = input(\"Enter a string: \")\n",
    "substring_input = input(\"Enter a substring: \")\n",
    "\n",
    "starting_index = string_input.find(substring_input)\n",
    "string_len = len(string_input)\n",
    "substring_len = len(substring_input)\n",
    "print(f\"The non-negative slice is [{starting_index}:{starting_index + substring_len}]\")\n",
    "print(f\"The negative slice is [{starting_index - string_len}:{starting_index - string_len + substring_len}]\")\n"
   ]
  }
 ],
 "metadata": {
  "kernelspec": {
   "display_name": "Python 3",
   "language": "python",
   "name": "python3"
  },
  "language_info": {
   "codemirror_mode": {
    "name": "ipython",
    "version": 3
   },
   "file_extension": ".py",
   "mimetype": "text/x-python",
   "name": "python",
   "nbconvert_exporter": "python",
   "pygments_lexer": "ipython3",
   "version": "3.11.1"
  },
  "vscode": {
   "interpreter": {
    "hash": "aee8b7b246df8f9039afb4144a1f6fd8d2ca17a180786b69acc140d282b71a49"
   }
  }
 },
 "nbformat": 4,
 "nbformat_minor": 2
}
