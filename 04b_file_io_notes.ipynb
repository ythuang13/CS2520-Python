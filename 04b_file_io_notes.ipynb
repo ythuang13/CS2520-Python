{
 "cells": [
  {
   "cell_type": "markdown",
   "metadata": {
    "colab_type": "text",
    "id": "Gq6R7EDUcZrL"
   },
   "source": [
    "## \\[Locally\\] Opening files\n",
    "\n",
    "There are two files in the folder `files`: `novartis_microsoft.txt` and `grades.csv`. To open or create a file, we will use the following syntax:\n",
    "\n",
    "    with open(path_to_file, mode) as name_of_open_file:\n",
    "        # code where the open file is referred to as name_of_open_file\n",
    "        \n",
    "`path_to_file` is a string that points to the file that we want to open or create. The current notebook is in the `notebooks` repository, and therefore in order to give the adress of, for example,  `novartis_microsoft.txt`, we need to provide the following path: `'files/novartis_microsoft.txt'`.\n",
    "\n",
    "`mode` is a string that defined the mode in which you are going to work with the file. The main modes are the following ones:\n",
    "  * `'r'` (read): in this case we expect the file with the indicated name to already exist, and we are going to read the file line-by-line, where lines are separated by a new line character from each other;\n",
    "  * `'w'` (write): opening a file with a writing mode will _create_ that file on the computer and will allow us to write strings into that file;\n",
    "  * `'a'` (append): opens an already existent files and allows to add new lines to the end of that file.\n",
    "  \n",
    "There are many other modes in which it is possible to open a file, but you can read about them on your own [here](https://stackabuse.com/file-handling-in-python/)."
   ]
  },
  {
   "cell_type": "code",
   "execution_count": null,
   "metadata": {
    "colab": {
     "base_uri": "https://localhost:8080/",
     "height": 208
    },
    "colab_type": "code",
    "id": "b1tt0pllZ7Ix",
    "outputId": "5962ba78-ef8a-49fc-9959-69af0abd07fc"
   },
   "outputs": [],
   "source": []
  },
  {
   "cell_type": "markdown",
   "metadata": {
    "colab_type": "text",
    "id": "dkzP1X86Z7I2"
   },
   "source": [
    "The variable `file` is a name for the .txt file when it is loaded in the memory and ready to be processed. Its type is `<class '_io.TextIOWrapper'>` and it is an iterable that contains ordered strings."
   ]
  },
  {
   "cell_type": "code",
   "execution_count": null,
   "metadata": {
    "colab": {},
    "colab_type": "code",
    "id": "XlOO_r8TZ7I3"
   },
   "outputs": [],
   "source": []
  },
  {
   "cell_type": "markdown",
   "metadata": {
    "colab_type": "text",
    "id": "aefoj0fkZ7I7"
   },
   "source": [
    "Every line in a text file ends with a new line character `\\n` -- this is how we know when a new line starts! However, if you want to avoid printing a new line every time you are displaying the line, we can use the string method `strip`."
   ]
  },
  {
   "cell_type": "code",
   "execution_count": null,
   "metadata": {
    "colab": {},
    "colab_type": "code",
    "id": "_I8HgERqZ7I8"
   },
   "outputs": [],
   "source": []
  },
  {
   "cell_type": "markdown",
   "metadata": {
    "colab_type": "text",
    "id": "Jv7P6ItIZ7JA"
   },
   "source": [
    "If instead of iterating through the lines of the file you want to get access to all of them at once, we can read all the lines of it into some variable by using `readlines` method: it creates a list of strings, where every string is a separate line of the file."
   ]
  },
  {
   "cell_type": "code",
   "execution_count": null,
   "metadata": {
    "colab": {},
    "colab_type": "code",
    "id": "DastaeBgZ7JB"
   },
   "outputs": [],
   "source": []
  },
  {
   "cell_type": "markdown",
   "metadata": {
    "colab_type": "text",
    "id": "qUtfpnY6Z7JE"
   },
   "source": [
    "Another way to avoid overt iteration and to get lines one by one, is to read them in memory one after another by using the `readline` method."
   ]
  },
  {
   "cell_type": "code",
   "execution_count": null,
   "metadata": {
    "colab": {},
    "colab_type": "code",
    "id": "nCqL1vTzZ7JF"
   },
   "outputs": [],
   "source": []
  },
  {
   "cell_type": "markdown",
   "metadata": {
    "colab_type": "text",
    "id": "WH9GKjI-Z7JI"
   },
   "source": [
    "Notice, that every time you execute `readline`, it moves the the next line of the file. We need to use `seek` method that goes to the bite indicated of the file, and therefore using `seek(0)` will move us back to the very beginning of the file."
   ]
  },
  {
   "cell_type": "code",
   "execution_count": null,
   "metadata": {
    "colab": {},
    "colab_type": "code",
    "id": "66ir6sq_Z7JK"
   },
   "outputs": [],
   "source": []
  },
  {
   "cell_type": "markdown",
   "metadata": {
    "colab_type": "text",
    "id": "yEuM1dM8Z7JN"
   },
   "source": [
    "If you are using the `with open(filepath, mode)` syntax, the file is being open in the memory only while the indented code is being executed. As soon as we finished executing the code within the `with` codeblock, the variable `file` becomes unavailable."
   ]
  },
  {
   "cell_type": "code",
   "execution_count": null,
   "metadata": {
    "colab": {},
    "colab_type": "code",
    "id": "64ZjAr6XZ7JO"
   },
   "outputs": [],
   "source": []
  },
  {
   "cell_type": "markdown",
   "metadata": {
    "colab_type": "text",
    "id": "3TuKjBbmZ7JR"
   },
   "source": [
    "Another way to open the file and keep it in memory _until explicitly closed_, is to create the `open(file)` object in memory. Then, after the file was processed, it needs to be closed using the `close` method.\n",
    "\n",
    "    file = open(filepath, mode)\n",
    "    # code \n",
    "    file.close()\n",
    "    \n",
    "**Warning:** if the file is open in the `w` mode, i.e. if the file is being created, failure to close the file will result in losing all the information that we intended to write in that file. In other modes, it can result in file damage as well."
   ]
  },
  {
   "cell_type": "code",
   "execution_count": null,
   "metadata": {
    "colab": {},
    "colab_type": "code",
    "id": "UfWRvG0IZ7JS"
   },
   "outputs": [],
   "source": []
  },
  {
   "cell_type": "markdown",
   "metadata": {
    "colab_type": "text",
    "id": "ECKQDKbMZ7JW"
   },
   "source": [
    "Even though the file is closed, the variable `lines` is still active: `readlines` loaded all the lines from the file into `lines` before we closed the file."
   ]
  },
  {
   "cell_type": "code",
   "execution_count": null,
   "metadata": {
    "colab": {},
    "colab_type": "code",
    "id": "smFqR5F9Z7JX"
   },
   "outputs": [],
   "source": []
  },
  {
   "cell_type": "markdown",
   "metadata": {
    "colab_type": "text",
    "id": "trCorysfZ7Ja"
   },
   "source": [
    "## \\[Locally\\] Writing files\n",
    "\n",
    "As I mentioned before, the mode `w` opens the files in the writing mode, i.e. creates the files.\n",
    "\n",
    "* `readline` reads a line and returns a _string_ containing that line;\n",
    "* `readlines` reads all lines and returns a _list of strings_.\n",
    "\n",
    "In the writing mode, there are methods that write line or lines in a similar manner:\n",
    "\n",
    "* `writeline` takes a _string_ as its argument and writes it to the newly created file;\n",
    "* `writelines` takes a _list of strings_ as its argument and writes all of them to the newly created file."
   ]
  },
  {
   "cell_type": "code",
   "execution_count": null,
   "metadata": {
    "colab": {},
    "colab_type": "code",
    "id": "mguJa1WVZ7Jb"
   },
   "outputs": [],
   "source": []
  },
  {
   "cell_type": "markdown",
   "metadata": {
    "colab_type": "text",
    "id": "4oPUNG_sZ7Jk"
   },
   "source": [
    "**Warning:** it is possible to write only lists of strings. If the data that needs to be written contains other data types, make sure to convert them to strings!"
   ]
  },
  {
   "cell_type": "code",
   "execution_count": null,
   "metadata": {
    "colab": {},
    "colab_type": "code",
    "id": "aeeAzKqSZ7Jl"
   },
   "outputs": [],
   "source": []
  },
  {
   "cell_type": "markdown",
   "metadata": {
    "colab_type": "text",
    "id": "b27V4fsSZ7Jo"
   },
   "source": [
    "The usual `str` function takes care of converting nearly any datatype to its string representation."
   ]
  },
  {
   "cell_type": "code",
   "execution_count": null,
   "metadata": {
    "colab": {},
    "colab_type": "code",
    "id": "Tthwy7__Z7Jp"
   },
   "outputs": [],
   "source": []
  },
  {
   "cell_type": "markdown",
   "metadata": {
    "colab_type": "text",
    "id": "1O3D8EbcZ7Js"
   },
   "source": [
    "## \\[Locally\\] Working with CSV files\n",
    "\n",
    "It is in fact possible to engineer a way to work with csv files using the same methods we already discussed."
   ]
  },
  {
   "cell_type": "code",
   "execution_count": null,
   "metadata": {
    "colab": {},
    "colab_type": "code",
    "id": "os_gGSUrZ7Jt"
   },
   "outputs": [],
   "source": []
  },
  {
   "cell_type": "markdown",
   "metadata": {
    "colab_type": "text",
    "id": "dK-AVa3jZ7Jw"
   },
   "source": [
    "Every line of the file is still a string, and therefore to represent them as a list of values, we will need to split them."
   ]
  },
  {
   "cell_type": "code",
   "execution_count": null,
   "metadata": {
    "colab": {},
    "colab_type": "code",
    "id": "ImcrtAolZ7Jx"
   },
   "outputs": [],
   "source": []
  },
  {
   "cell_type": "markdown",
   "metadata": {
    "colab_type": "text",
    "id": "x3reFlpLZ7J0"
   },
   "source": [
    "A simpler way to read csv files in Python is to use `csv` or `pandas` packages."
   ]
  },
  {
   "cell_type": "markdown",
   "metadata": {
    "colab_type": "text",
    "id": "qF_PPTisZ7J1"
   },
   "source": [
    "### \\[Locally\\] Working with csv through `csv` package"
   ]
  },
  {
   "cell_type": "code",
   "execution_count": null,
   "metadata": {
    "colab": {},
    "colab_type": "code",
    "id": "qczUhedFZ7J2"
   },
   "outputs": [],
   "source": [
    "import csv"
   ]
  },
  {
   "cell_type": "markdown",
   "metadata": {
    "colab_type": "text",
    "id": "9o1grchpZ7J6"
   },
   "source": [
    "In order to read a csv file using the `csv` package, right after opening the file, we need to define a `csv.reader` for it. It will parse the rows automatically!"
   ]
  },
  {
   "cell_type": "code",
   "execution_count": null,
   "metadata": {
    "colab": {},
    "colab_type": "code",
    "id": "LbQDwEfzZ7J8"
   },
   "outputs": [],
   "source": []
  },
  {
   "cell_type": "markdown",
   "metadata": {
    "colab_type": "text",
    "id": "c0PCZkaJZ7J_"
   },
   "source": [
    "Similarly, to write files, we want to define a `scv.writer` and change the editing mode to `w`. Then we will be able to write rows of the csv one-by-one by applying `writerow` method to the `csv.writer` object."
   ]
  },
  {
   "cell_type": "code",
   "execution_count": null,
   "metadata": {
    "colab": {},
    "colab_type": "code",
    "id": "xHwck3viZ7KA"
   },
   "outputs": [],
   "source": [
    "with open() as file:\n",
    "    csvwriter = csv.writer(file)\n",
    "    csvwriter.writerow([\"Hello\", \"World!\"])"
   ]
  },
  {
   "cell_type": "markdown",
   "metadata": {
    "colab_type": "text",
    "id": "cGJ3x6JxZ7KD"
   },
   "source": [
    "You can read more about the functionality of the `csv` package [here](https://docs.python.org/3/library/csv.html).\n",
    "\n",
    "However, frequently we want to extract the values from a particular _column_ and this might be slightly trickier then extracting a row."
   ]
  },
  {
   "attachments": {},
   "cell_type": "markdown",
   "metadata": {
    "colab_type": "text",
    "id": "Vmz1Sfw6Z7KD"
   },
   "source": [
    "### \\[Locally\\] Working with csv through `pandas` package\n",
    "\n",
    " It is a package that has a wide variety of uses, and one of them is the easy way to extract a column from a csv file. Here, we see a new way to import a package:\n",
    "\n",
    "    import pandas as pd\n",
    "\n",
    "It means that you are importing `pandas`, but instead of the full name, you are going to refer to the package as `pd` further in the code."
   ]
  },
  {
   "attachments": {},
   "cell_type": "markdown",
   "metadata": {},
   "source": [
    "Read [here](https://medium.com/dunder-data/selecting-subsets-of-data-in-pandas-6fcd0170be9c) more on the data processing with pandas."
   ]
  },
  {
   "cell_type": "code",
   "execution_count": null,
   "metadata": {
    "colab": {},
    "colab_type": "code",
    "id": "0XSTSdm4Z7KE"
   },
   "outputs": [],
   "source": [
    "import pandas as pd"
   ]
  },
  {
   "cell_type": "markdown",
   "metadata": {
    "colab_type": "text",
    "id": "LMLm7st_Z7KI"
   },
   "source": [
    "We can then use `pd.read_csv(filepath)` in order to import the csv file. And then the columns can be simply referred to by their names!"
   ]
  },
  {
   "cell_type": "code",
   "execution_count": null,
   "metadata": {
    "colab": {},
    "colab_type": "code",
    "id": "WqYciJqNZ7KJ"
   },
   "outputs": [],
   "source": []
  },
  {
   "cell_type": "code",
   "execution_count": null,
   "metadata": {},
   "outputs": [],
   "source": []
  }
 ],
 "metadata": {
  "colab": {
   "collapsed_sections": [],
   "name": "Notebook_6.ipynb",
   "provenance": []
  },
  "kernelspec": {
   "display_name": "Python 3",
   "language": "python",
   "name": "python3"
  },
  "language_info": {
   "codemirror_mode": {
    "name": "ipython",
    "version": 3
   },
   "file_extension": ".py",
   "mimetype": "text/x-python",
   "name": "python",
   "nbconvert_exporter": "python",
   "pygments_lexer": "ipython3",
   "version": "3.11.1"
  },
  "vscode": {
   "interpreter": {
    "hash": "aee8b7b246df8f9039afb4144a1f6fd8d2ca17a180786b69acc140d282b71a49"
   }
  }
 },
 "nbformat": 4,
 "nbformat_minor": 1
}
