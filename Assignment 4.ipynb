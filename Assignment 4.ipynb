{
 "cells": [
  {
   "cell_type": "markdown",
   "metadata": {},
   "source": [
    "# Homework 4\n",
    "\n",
    "**Due on Thursday, March 7, 11.59pm**\n",
    "\n",
    "Your submission will be a pdf of your Jupyter notebook which would have already ran"
   ]
  },
  {
   "cell_type": "code",
   "execution_count": 1,
   "metadata": {},
   "outputs": [
    {
     "name": "stdout",
     "output_type": "stream",
     "text": [
      "You look wonderful today. The sky is blue and the sun is shining. I look at you. Look at these trees. There are birds and butterflies here.\n"
     ]
    }
   ],
   "source": [
    "text = \"You look wonderful today. The sky is blue and the sun is shining. I look at you. Look at these trees. There are birds and butterflies here.\"\n",
    "print(text)"
   ]
  },
  {
   "cell_type": "markdown",
   "metadata": {},
   "source": [
    "_Step 2._ Create a list of words and punctuations (separately!) of `text`.\n",
    "\n",
    "    Expected output: ['you', 'look', 'wonderful', 'today', '.', 'the', 'sky', 'is', 'blue', 'and', 'the', \n",
    "                      'sun', 'is', 'shining', '.', 'i', 'look', 'at', 'you', '.', 'look', 'at', 'these', \n",
    "                      'trees', '.', 'there', 'are', 'birds', 'and', 'butterflies', 'here', '.']"
   ]
  },
  {
   "cell_type": "code",
   "execution_count": 2,
   "metadata": {},
   "outputs": [
    {
     "data": {
      "text/plain": [
       "['you',\n",
       " 'look',\n",
       " 'wonderful',\n",
       " 'today',\n",
       " '.',\n",
       " 'the',\n",
       " 'sky',\n",
       " 'is',\n",
       " 'blue',\n",
       " 'and',\n",
       " 'the',\n",
       " 'sun',\n",
       " 'is',\n",
       " 'shining',\n",
       " '.',\n",
       " 'i',\n",
       " 'look',\n",
       " 'at',\n",
       " 'you',\n",
       " '.',\n",
       " 'look',\n",
       " 'at',\n",
       " 'these',\n",
       " 'trees',\n",
       " '.',\n",
       " 'there',\n",
       " 'are',\n",
       " 'birds',\n",
       " 'and',\n",
       " 'butterflies',\n",
       " 'here',\n",
       " '.']"
      ]
     },
     "execution_count": 2,
     "metadata": {},
     "output_type": "execute_result"
    }
   ],
   "source": [
    "words = []\n",
    "for word in text.split():\n",
    "    words.append(word.strip(\".,\").lower())\n",
    "    if word.strip().endswith((\".\", \",\")):\n",
    "        words.append(word.strip()[-1])\n",
    "words"
   ]
  },
  {
   "cell_type": "markdown",
   "metadata": {},
   "source": [
    "_Step 3._ Based on the previous output, create a list of bigrams of that text.\n",
    "\n",
    "    Expected output: [['you', 'look'], ['look', 'wonderful'], ['wonderful', 'today'], ['today', '.'], \n",
    "                      ['.', 'the'], ['the', 'sky'], ['sky', 'is'], ['is', 'blue'], ['blue', 'and'],\n",
    "                      ['and', 'the'], ['the', 'sun'], ['sun', 'is'], ['is', 'shining'], ['shining', '.'], \n",
    "                      ['.', 'i'], ['i', 'look'], ['look', 'at'], ['at', 'you'], ['you', '.'], ['.', 'look'], \n",
    "                      ['at', 'these'], ['these', 'trees'], ['trees', '.'], ['.', 'there'], ['there', 'are'], \n",
    "                      ['are', 'birds'], ['birds', 'and'], ['and', 'butterflies'], ['butterflies', 'here'], \n",
    "                      ['here', '.']]"
   ]
  },
  {
   "cell_type": "code",
   "execution_count": 3,
   "metadata": {},
   "outputs": [
    {
     "data": {
      "text/plain": [
       "[['you', 'look'],\n",
       " ['look', 'wonderful'],\n",
       " ['wonderful', 'today'],\n",
       " ['today', '.'],\n",
       " ['.', 'the'],\n",
       " ['the', 'sky'],\n",
       " ['sky', 'is'],\n",
       " ['is', 'blue'],\n",
       " ['blue', 'and'],\n",
       " ['and', 'the'],\n",
       " ['the', 'sun'],\n",
       " ['sun', 'is'],\n",
       " ['is', 'shining'],\n",
       " ['shining', '.'],\n",
       " ['.', 'i'],\n",
       " ['i', 'look'],\n",
       " ['look', 'at'],\n",
       " ['at', 'you'],\n",
       " ['you', '.'],\n",
       " ['.', 'look'],\n",
       " ['look', 'at'],\n",
       " ['at', 'these'],\n",
       " ['these', 'trees'],\n",
       " ['trees', '.'],\n",
       " ['.', 'there'],\n",
       " ['there', 'are'],\n",
       " ['are', 'birds'],\n",
       " ['birds', 'and'],\n",
       " ['and', 'butterflies'],\n",
       " ['butterflies', 'here'],\n",
       " ['here', '.']]"
      ]
     },
     "execution_count": 3,
     "metadata": {},
     "output_type": "execute_result"
    }
   ],
   "source": [
    "bigrams = [[words[i], words[i+1]] for i in range(len(words) - 1)]\n",
    "bigrams"
   ]
  },
  {
   "cell_type": "markdown",
   "metadata": {},
   "source": [
    "_Step 4._ A function `choice` from the package `random` takes a non-empty list as input and returns a random item from this list as the output"
   ]
  },
  {
   "cell_type": "code",
   "execution_count": 4,
   "metadata": {},
   "outputs": [
    {
     "data": {
      "text/plain": [
       "'C'"
      ]
     },
     "execution_count": 4,
     "metadata": {},
     "output_type": "execute_result"
    }
   ],
   "source": [
    "from random import choice\n",
    "\n",
    "choice([\"A\", \"B\", \"C\"])"
   ]
  },
  {
   "cell_type": "markdown",
   "metadata": {},
   "source": [
    "Let us then pick a random bigram as the beginning of the sentence, and then keep adding words to that sentence depending on its last word. The sentence is finished if we encountered `.`."
   ]
  },
  {
   "cell_type": "code",
   "execution_count": 5,
   "metadata": {},
   "outputs": [
    {
     "name": "stdout",
     "output_type": "stream",
     "text": [
      "[['at', 'these'], ['you', '.']]\n",
      "at these you .\n"
     ]
    }
   ],
   "source": [
    "random_bigram = choice(bigrams)\n",
    "sentence = [random_bigram]\n",
    "\n",
    "while random_bigram[1] != \".\" and random_bigram[0] != \".\":\n",
    "    random_bigram = choice(bigrams)\n",
    "    if random_bigram not in sentence:\n",
    "        sentence.append(random_bigram)\n",
    "\n",
    "print(sentence)\n",
    "for gram in sentence:\n",
    "    for word in gram:\n",
    "        if word == \".\":\n",
    "            print(\".\")\n",
    "            break\n",
    "        print(word, end=\" \")"
   ]
  },
  {
   "cell_type": "markdown",
   "metadata": {},
   "source": [
    "**Question:** will there be any difference in the \"quality\" of the generated sentences if we use the same code, but _keep duplicate bigrams?_\n",
    "\n",
    "**Extension:** modify the code above above so that it's not a _bigram_ based sentence generator, but rather an _n-gram_ based."
   ]
  },
  {
   "cell_type": "code",
   "execution_count": 6,
   "metadata": {},
   "outputs": [
    {
     "name": "stdout",
     "output_type": "stream",
     "text": [
      "[['look', 'at', 'you'], ['you', 'look', 'wonderful'], ['wonderful', 'today', '.']]\n",
      "look at you you look wonderful wonderful today .\n"
     ]
    }
   ],
   "source": [
    "n_gram = int(input(\"Enter a positive integr for n-gram: \"))\n",
    "n_gram_list = [words[i:i + n_gram] for i in range(len(words) - n_gram + 1)]\n",
    "\n",
    "random_ngram = choice(n_gram_list)\n",
    "sentence = [random_ngram]\n",
    "\n",
    "while \".\" not in random_ngram:\n",
    "    random_ngram = choice(n_gram_list)\n",
    "    sentence.append(random_ngram)\n",
    "\n",
    "print(sentence)\n",
    "\n",
    "for gram in sentence:\n",
    "    for word in gram:\n",
    "        if word == \".\":\n",
    "            print(\".\")\n",
    "            break\n",
    "        print(word, end=\" \")"
   ]
  },
  {
   "cell_type": "markdown",
   "metadata": {},
   "source": []
  },
  {
   "cell_type": "markdown",
   "metadata": {},
   "source": [
    "**Problem 2.** To get a random integer from some interval, we can use the `randint` function from the package `random`. To test how it works, run the following cell several times."
   ]
  },
  {
   "cell_type": "code",
   "execution_count": 7,
   "metadata": {},
   "outputs": [
    {
     "data": {
      "text/plain": [
       "5"
      ]
     },
     "execution_count": 7,
     "metadata": {},
     "output_type": "execute_result"
    }
   ],
   "source": [
    "import random\n",
    "random.randint(4, 8)"
   ]
  },
  {
   "cell_type": "markdown",
   "metadata": {},
   "source": [
    "Your task: Ask the user for an integer from $1$ to $10$. Write code that will keep guessing the number that the user had in mind, stop when the guessed number is the same as the number provided by the user. Your output should look somehow like this:\n",
    "\n",
    "    Give me a number from 1 to 10: 9\n",
    "    Is 10 the number?\n",
    "    No...\n",
    "    Is 10 the number?\n",
    "    No...\n",
    "    Is 7 the number?\n",
    "    No...\n",
    "    Is 10 the number?\n",
    "    No...\n",
    "    Is 6 the number?\n",
    "    No...\n",
    "    Is 9 the number?\n",
    "    Cool, 9 is the number!"
   ]
  },
  {
   "cell_type": "code",
   "execution_count": 8,
   "metadata": {},
   "outputs": [
    {
     "name": "stdout",
     "output_type": "stream",
     "text": [
      "Is 1 the number?\n",
      "No...\n",
      "Is 5 the number?\n",
      "No...\n",
      "Is 3 the number?\n",
      "No...\n",
      "Is 6 the number?\n",
      "Cool, 6 is the number!\n"
     ]
    }
   ],
   "source": [
    "#Write you code here\n",
    "user_number = int(input(\"Give me a number from 1 to 10: \"))\n",
    "random_number = random.randint(1, 10)\n",
    "print(f\"Is {random_number} the number?\")\n",
    "\n",
    "while random_number != user_number:\n",
    "    print(\"No...\")\n",
    "    random_number = random.randint(1, 10)\n",
    "    print(f\"Is {random_number} the number?\")\n",
    "\n",
    "print(f\"Cool, {random_number} is the number!\")"
   ]
  },
  {
   "cell_type": "markdown",
   "metadata": {},
   "source": [
    "#### `all` and `any`\n",
    "\n",
    "For the next exercise you might find useful the functions `all` and `any`.\n",
    "\n",
    "`all` takes a list of booleans as input and returns True if all those booleans are True. Intuitively, you can think of `all` as the operator that puts `and` in-between all those booleans and evaluates the result."
   ]
  },
  {
   "cell_type": "code",
   "execution_count": 9,
   "metadata": {},
   "outputs": [
    {
     "name": "stdout",
     "output_type": "stream",
     "text": [
      "[True, True, True]    -> True\n",
      "[True, False, True]   -> False\n",
      "[False, False, False] -> False\n"
     ]
    }
   ],
   "source": [
    "print([True, True, True], \"   ->\", all([True, True, True]))\n",
    "print([True, False, True], \"  ->\", all([True, False, True]))\n",
    "print([False, False, False], \"->\", all([False, False, False]))"
   ]
  },
  {
   "cell_type": "markdown",
   "metadata": {},
   "source": [
    "`any` takes a list of booleans as input and returns True if at least one of those booleans is True. Intuitively, you can think of `any` as the operator that puts `or` in-between all those booleans and evaluates the result."
   ]
  },
  {
   "cell_type": "code",
   "execution_count": 10,
   "metadata": {},
   "outputs": [
    {
     "name": "stdout",
     "output_type": "stream",
     "text": [
      "[True, True, True]    -> True\n",
      "[True, False, True]   -> True\n",
      "[False, False, False] -> False\n"
     ]
    }
   ],
   "source": [
    "print([True, True, True], \"   ->\", any([True, True, True]))\n",
    "print([True, False, True], \"  ->\", any([True, False, True]))\n",
    "print([False, False, False], \"->\", any([False, False, False]))"
   ]
  },
  {
   "cell_type": "markdown",
   "metadata": {},
   "source": [
    "**Problem 3.** The task of this exercise is to evaluate strings from the Fake Turkish language and tell if the harmony rule is violated or not.\n",
    "\n",
    "In Fake Turkish, vowels can be front or back."
   ]
  },
  {
   "cell_type": "code",
   "execution_count": 11,
   "metadata": {},
   "outputs": [],
   "source": [
    "front = [\"e\", \"i\", \"ö\", \"ü\"]\n",
    "back = [\"a\", \"ı\", \"o\", \"u\"]"
   ]
  },
  {
   "cell_type": "markdown",
   "metadata": {},
   "source": [
    "Within the same word, all vowels must be either all front or all back.\n",
    "\n",
    "    nekilüm -> good\n",
    "    almırdum -> good\n",
    "    özkanım -> bad\n",
    "    \n",
    "You are given the following list of Fake Turkish words."
   ]
  },
  {
   "cell_type": "code",
   "execution_count": 12,
   "metadata": {},
   "outputs": [],
   "source": [
    "fake_turkish = [\"nekilüm\", \"almırdum\", \"özkanım\", \"karokum\", \"almalar\", \"dökulön\"]"
   ]
  },
  {
   "cell_type": "markdown",
   "metadata": {},
   "source": [
    "Write a code that scans the `fake_turkish` list, and generates a dictionary where each key is a word in the list, and each value is True or False depending on whether the word follows the harmony rule or not.\n",
    "\n",
    "    Expected output:\n",
    "    {'nekilüm': True, 'almırdum': True, 'özkanım': False, 'karokum': True, 'almalar': True, 'dökulön': False}\n",
    "    \n",
    "Remember: Your code must be generalizable beyond this specific example! I.e. I might test it on a different list of words and it should still work!"
   ]
  },
  {
   "cell_type": "code",
   "execution_count": 13,
   "metadata": {},
   "outputs": [
    {
     "name": "stdout",
     "output_type": "stream",
     "text": [
      "{'nekilüm': True, 'almırdum': True, 'özkanım': False, 'karokum': True, 'almalar': True, 'dökulön': False}\n"
     ]
    }
   ],
   "source": [
    "result = {}\n",
    "\n",
    "for word in fake_turkish:\n",
    "    good = True\n",
    "    front_flag = False\n",
    "    back_flag = False\n",
    "    for c in word:\n",
    "        if c in front:\n",
    "            front_flag = True\n",
    "            if back_flag:\n",
    "                good = False\n",
    "                break\n",
    "        elif c in back:\n",
    "            back_flag = True\n",
    "            if front_flag:\n",
    "                good = False\n",
    "                break\n",
    "    result[word] = good\n",
    "\n",
    "print(result)"
   ]
  },
  {
   "cell_type": "markdown",
   "metadata": {},
   "source": [
    "**Problem 4.** Write a code that asks user for a word and tells if that word is a palindrome. _Palindrome_ is a word that reads the same backwards as forwards, for example, \"rotator\", \"kayak\", \"mom\", \"level\"."
   ]
  },
  {
   "cell_type": "code",
   "execution_count": 14,
   "metadata": {},
   "outputs": [
    {
     "name": "stdout",
     "output_type": "stream",
     "text": [
      "tenet is a palindrome\n"
     ]
    }
   ],
   "source": [
    "user_input = input(\"Enter a word: \")\n",
    "\n",
    "if user_input == user_input[::-1]:\n",
    "    print(f\"{user_input} is a palindrome\")\n",
    "else:\n",
    "    print(f\"{user_input} is not a palindrome\")"
   ]
  }
 ],
 "metadata": {
  "colab": {
   "collapsed_sections": [],
   "name": "Notebook_6.ipynb",
   "provenance": []
  },
  "kernelspec": {
   "display_name": "Python 3 (ipykernel)",
   "language": "python",
   "name": "python3"
  },
  "language_info": {
   "codemirror_mode": {
    "name": "ipython",
    "version": 3
   },
   "file_extension": ".py",
   "mimetype": "text/x-python",
   "name": "python",
   "nbconvert_exporter": "python",
   "pygments_lexer": "ipython3",
   "version": "3.11.1"
  },
  "vscode": {
   "interpreter": {
    "hash": "aee8b7b246df8f9039afb4144a1f6fd8d2ca17a180786b69acc140d282b71a49"
   }
  }
 },
 "nbformat": 4,
 "nbformat_minor": 1
}
