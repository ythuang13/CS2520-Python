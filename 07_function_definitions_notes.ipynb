{
 "cells": [
  {
   "cell_type": "markdown",
   "metadata": {},
   "source": [
    "## `def` to define a custom function\n",
    "\n",
    "In the previous notebook, we wrote a code that detects if a given integer is prime or not. \n",
    "\n",
    "One of the ways to do it is to define the following two cases:\n",
    "  * `not n % d` is true every time when `n % d` gives `0`, i.e. when `n` is divisible by `d`. In this case, we announce that the number is not prime, and break out of the loop;\n",
    "  * (`not n % d` and) `d == n - 1` is true only when we are currently checking the last possible diviser, and none of them was able to divide `n` without a remainder."
   ]
  },
  {
   "cell_type": "code",
   "execution_count": 1,
   "metadata": {},
   "outputs": [
    {
     "name": "stdout",
     "output_type": "stream",
     "text": [
      "34  is not prime\n"
     ]
    }
   ],
   "source": [
    "n = 34\n",
    "\n",
    "for d in range(2, n):\n",
    "    if not n % d:\n",
    "        print(n, \" is not prime\")\n",
    "        break\n",
    "    elif d == n - 1:\n",
    "        print(n, \"is prime\")\n"
   ]
  },
  {
   "cell_type": "markdown",
   "metadata": {},
   "source": [
    "If we have a list of numbers and we want to test if these numbers are prime or not, we would need to copy and paste the same code."
   ]
  },
  {
   "cell_type": "code",
   "execution_count": 2,
   "metadata": {},
   "outputs": [
    {
     "name": "stdout",
     "output_type": "stream",
     "text": [
      "44  is not prime\n",
      "29 is prime\n",
      "8881  is not prime\n",
      "305  is not prime\n",
      "17 is prime\n"
     ]
    }
   ],
   "source": [
    "numbers = [44, 29, 8881, 305, 17]\n",
    "\n",
    "for n in numbers:\n",
    "    for d in range(2, n):\n",
    "        if not n % d:\n",
    "            print(n, \" is not prime\")\n",
    "            break\n",
    "        elif d == n - 1:\n",
    "            print(n, \"is prime\")\n"
   ]
  },
  {
   "cell_type": "markdown",
   "metadata": {},
   "source": [
    "If we wanted to do it again alter on in the notebook, we would need to once again copy and paste.\n",
    "In general, it would be nice to have a way to **reuse** some code that we wrote over and over, just changing what we want that code to execute over (it's **input parameters**).\n",
    "\n",
    "Note that we have already seen examples of this. When we use `print()` we know exactly what that is coing to do, depending on what we pass as it's **argument**: the value in the parenthesis.\n",
    "\n",
    "We now want a way to do this, but with code written by us directly: this is what custm functions are for."
   ]
  },
  {
   "cell_type": "markdown",
   "metadata": {},
   "source": [
    "**Defining custom functions** allows to \"pack\" some code in a function, assign it a name, and then call it by its name instead of repeating the same code in several places.\n",
    "\n",
    "    def function_name(argument_1, argument_2, <...>, argument_n):\n",
    "        # body of the function\n",
    "        \n",
    "`def` is the operator \"saving\" the function definition. `function_name` stands for a **name** that is assigned to the function. For example, we can define a function `is_prime`. After the name of the function, we list **arguments** that this function will be taking. Only one argument is needed for the `is_prime` function, an integer `n`. Th body of the function then will contain the code telling if `n` is prime or not."
   ]
  },
  {
   "cell_type": "code",
   "execution_count": 16,
   "metadata": {},
   "outputs": [],
   "source": [
    "def is_prime(n):\n",
    "    for d in range(2, n):\n",
    "        if not n % d:\n",
    "            print(n, \"is not prime\")\n",
    "            break\n",
    "        elif d == n - 1:\n",
    "            print(n, \"is prime\")"
   ]
  },
  {
   "cell_type": "code",
   "execution_count": 4,
   "metadata": {},
   "outputs": [
    {
     "name": "stdout",
     "output_type": "stream",
     "text": [
      "10 is not prime\n"
     ]
    }
   ],
   "source": [
    "n = int(input())\n",
    "is_prime(n)"
   ]
  },
  {
   "cell_type": "markdown",
   "metadata": {},
   "source": [
    "The previous cell did not produce any output. The function was _defined,_ but _not ran._ \n",
    "This is because the fucntion definition is like an empty template: we know what the code is supposed to do given n, but we don't know what n is yet!\n",
    "\n",
    "In order to run a function, we need to **call it** by its name and provide the needed arguments. In this case, we can directly provide an integer instead of the `n`: that argument was a\"placeholder\" used earlier in the function definition."
   ]
  },
  {
   "cell_type": "code",
   "execution_count": null,
   "metadata": {},
   "outputs": [],
   "source": []
  },
  {
   "cell_type": "code",
   "execution_count": 5,
   "metadata": {},
   "outputs": [
    {
     "name": "stdout",
     "output_type": "stream",
     "text": [
      "44 is not prime\n",
      "29 is prime\n",
      "8881 is not prime\n",
      "305 is not prime\n",
      "17 is prime\n"
     ]
    }
   ],
   "source": [
    "numbers = [44, 29, 8881, 305, 17]\n",
    "for n in numbers:\n",
    "    is_prime(n)\n"
   ]
  },
  {
   "cell_type": "markdown",
   "metadata": {},
   "source": [
    "**Example** As an example of a very simple function, we can define a function that adds two numbers together."
   ]
  },
  {
   "cell_type": "code",
   "execution_count": 6,
   "metadata": {},
   "outputs": [],
   "source": [
    "def add_numbers(n1, n2):\n",
    "    print(f\"{n1} + {n2} = {n1 + n2}\")"
   ]
  },
  {
   "cell_type": "code",
   "execution_count": 7,
   "metadata": {},
   "outputs": [
    {
     "name": "stdout",
     "output_type": "stream",
     "text": [
      "45 + 87 = 132\n"
     ]
    }
   ],
   "source": [
    "add_numbers(45, 87)"
   ]
  },
  {
   "cell_type": "markdown",
   "metadata": {},
   "source": [
    "It is also possible to define a function that takes $0$ arguments."
   ]
  },
  {
   "cell_type": "code",
   "execution_count": 8,
   "metadata": {},
   "outputs": [
    {
     "name": "stdout",
     "output_type": "stream",
     "text": [
      "This function has no arguments\n",
      "It just greets the user whenever it is executed.\n",
      "Hello :)\n"
     ]
    }
   ],
   "source": [
    "def greetings():\n",
    "    print(\"This function has no arguments\")\n",
    "    print(\"It just greets the user whenever it is executed.\")\n",
    "    print(\"Hello :)\")\n",
    "\n",
    "greetings()"
   ]
  },
  {
   "cell_type": "markdown",
   "metadata": {},
   "source": [
    "**Practice 1.** Define a function `greet_user` that greets a person whose name is given to the function as argument.\n",
    "\n",
    "    Function call: greet_user(\"Olga\")\n",
    "    Output:        Hello, Olga!\n",
    "    \n",
    "    \n",
    "    Function call: greet_user(\"Jim\")\n",
    "    Output:        Hello, Jim!"
   ]
  },
  {
   "cell_type": "code",
   "execution_count": 9,
   "metadata": {},
   "outputs": [
    {
     "name": "stdout",
     "output_type": "stream",
     "text": [
      "Hello, Jim!\n"
     ]
    }
   ],
   "source": [
    "def greet_user(name):\n",
    "    print(f\"Hello, {name}!\")\n",
    "\n",
    "greet_user(\"Jim\")"
   ]
  },
  {
   "cell_type": "markdown",
   "metadata": {},
   "source": [
    "**Practice 2.** Define a function `greet_team` that takes a list of names as input and greets every user from that list by their name."
   ]
  },
  {
   "cell_type": "code",
   "execution_count": 10,
   "metadata": {},
   "outputs": [
    {
     "name": "stdout",
     "output_type": "stream",
     "text": [
      "Hello, John!\n",
      "Hello, Emily!\n"
     ]
    }
   ],
   "source": [
    "def greet_team(names):\n",
    "    for name in names:\n",
    "        print(f\"Hello, {name}!\")\n",
    "\n",
    "greet_team([\"John\", \"Emily\"])"
   ]
  },
  {
   "cell_type": "markdown",
   "metadata": {},
   "source": [
    "**Example** As an example of a slightly more complex dependencies in functions, consider the code below. `leap_year` is a function telling if the given `year` is a leap year or not. Then, the `year_info` function takes a year as argument and runs two functions: first, it checks if `year` is leap by running the `leap_year` function, and then it also tests if that number is prime by calling the `is_prime` function defined earlier."
   ]
  },
  {
   "cell_type": "code",
   "execution_count": 11,
   "metadata": {},
   "outputs": [
    {
     "name": "stdout",
     "output_type": "stream",
     "text": [
      "The year is leap\n",
      "2004 is not prime\n"
     ]
    }
   ],
   "source": [
    "def year_info(year):\n",
    "    \"\"\"This function determines whether the year is prime and a leap year\"\"\"\n",
    "    leap_year(year)\n",
    "    is_prime(year)\n",
    "\n",
    "def leap_year(year):\n",
    "    if year % 4 == 0 and (year % 100 != 0 or year % 400 == 0):\n",
    "        print(\"The year is leap\")\n",
    "    else:\n",
    "        print(\"The year it not leap\")\n",
    "\n",
    "year_info(2004)\n"
   ]
  },
  {
   "cell_type": "markdown",
   "metadata": {},
   "source": [
    "It is a common practice to add a couple of informational lines explaining what the function does. Strings like those are called **docstrings** and are added right after the function definition line. They are surrounded by triple quotation marks.\n",
    "\n",
    "    def function_name(argument_1, argument_2, <...>, argument_n):\n",
    "        \"\"\" Docstring \"\"\"\n",
    "        \n",
    "        # body of the function"
   ]
  },
  {
   "cell_type": "code",
   "execution_count": null,
   "metadata": {},
   "outputs": [],
   "source": [
    "\n",
    "    "
   ]
  },
  {
   "cell_type": "markdown",
   "metadata": {},
   "source": [
    "## `return` statement\n",
    "\n",
    "We can define a function that prints first `n` prime numbers."
   ]
  },
  {
   "cell_type": "code",
   "execution_count": 17,
   "metadata": {},
   "outputs": [],
   "source": [
    "def add_numbers(n1, n2):\n",
    "    return n1 + n2\n",
    "\n",
    "def add_numbers1(n1, n2):\n",
    "    print(n1, \"+\", n2, \"=\", n1 + n2)"
   ]
  },
  {
   "cell_type": "code",
   "execution_count": 20,
   "metadata": {},
   "outputs": [
    {
     "data": {
      "text/plain": [
       "11"
      ]
     },
     "execution_count": 20,
     "metadata": {},
     "output_type": "execute_result"
    }
   ],
   "source": [
    "s = add_numbers(4, 7)\n",
    "s"
   ]
  },
  {
   "cell_type": "code",
   "execution_count": 19,
   "metadata": {},
   "outputs": [
    {
     "name": "stdout",
     "output_type": "stream",
     "text": [
      "4 + 7 = 11\n",
      "None\n"
     ]
    }
   ],
   "source": [
    "p = add_numbers1(4, 7)\n",
    "print(p)"
   ]
  },
  {
   "cell_type": "code",
   "execution_count": 24,
   "metadata": {},
   "outputs": [
    {
     "name": "stdout",
     "output_type": "stream",
     "text": [
      "True\n"
     ]
    }
   ],
   "source": [
    "def is_prime(n):\n",
    "    for d in range(2, n):\n",
    "        if not n % d:\n",
    "            return False\n",
    "    return True\n",
    "\n",
    "print(is_prime(2))"
   ]
  },
  {
   "cell_type": "markdown",
   "metadata": {},
   "source": [
    "However, this code simply _prints_ first `n` prime numbers on the screen. It does not allow us to create a list with `n` first prime numbers.\n",
    "\n",
    "The ``return`` statement allows a function to **return** a value instead of printing it on the screen."
   ]
  },
  {
   "cell_type": "code",
   "execution_count": null,
   "metadata": {},
   "outputs": [],
   "source": [
    "def is_prime(n):\n",
    "    for d in range(2, n):\n",
    "        if not n % d:\n",
    "            return False\n",
    "    return True\n",
    "\n",
    "print(is_prime(2))"
   ]
  },
  {
   "cell_type": "markdown",
   "metadata": {},
   "source": [
    "As another example, consider a function that extracts bigrams from a given word."
   ]
  },
  {
   "cell_type": "code",
   "execution_count": null,
   "metadata": {},
   "outputs": [],
   "source": []
  },
  {
   "cell_type": "code",
   "execution_count": null,
   "metadata": {},
   "outputs": [],
   "source": []
  },
  {
   "cell_type": "code",
   "execution_count": null,
   "metadata": {},
   "outputs": [],
   "source": []
  },
  {
   "cell_type": "markdown",
   "metadata": {},
   "source": [
    "**Question** What happens if we replace `return` with `print()` in the definition of bigramize? Would the function still work as expected? Why/Why not? (You can experiment with this!)"
   ]
  },
  {
   "cell_type": "markdown",
   "metadata": {},
   "source": [
    "**The `return` statement marks the point in which a function stops executing**: no code after the `return` statement can be ran.\n",
    "\n",
    "The code below shows that the `print` defined after the `return` is not executed."
   ]
  },
  {
   "cell_type": "code",
   "execution_count": null,
   "metadata": {},
   "outputs": [],
   "source": []
  },
  {
   "cell_type": "code",
   "execution_count": null,
   "metadata": {},
   "outputs": [],
   "source": []
  },
  {
   "cell_type": "code",
   "execution_count": null,
   "metadata": {},
   "outputs": [],
   "source": []
  },
  {
   "cell_type": "markdown",
   "metadata": {},
   "source": [
    "The code below is the modified `is_prime` function. It returns True if the number is prime, and False otherwise."
   ]
  },
  {
   "cell_type": "code",
   "execution_count": null,
   "metadata": {},
   "outputs": [],
   "source": []
  },
  {
   "cell_type": "markdown",
   "metadata": {},
   "source": [
    "Note that you can have multiple return statements in a function, but they are conditionally exclusive: there is no instance in which they both gets executed!\n",
    "\n",
    "Using `break` is excessive: the function stops its execution when it returns some value, so `break` is not needed at all."
   ]
  },
  {
   "cell_type": "code",
   "execution_count": null,
   "metadata": {},
   "outputs": [],
   "source": []
  },
  {
   "cell_type": "markdown",
   "metadata": {},
   "source": [
    "When the `for` loop finishes and we did not encounter any `return` statements, we can safely assume that the number is prime: no other number was able to divide it without a non-zero remainder. Therefore, we can re-write the code and simplify it even more."
   ]
  },
  {
   "cell_type": "code",
   "execution_count": null,
   "metadata": {},
   "outputs": [],
   "source": []
  },
  {
   "cell_type": "markdown",
   "metadata": {},
   "source": [
    "**Question 1.** In what configurations can the body of the function have more than just a single `return` statement?\n",
    "\n",
    "**Question 2.** If a body of the function has no `return` statement, what does that function return? Experiment, try to print that value."
   ]
  },
  {
   "cell_type": "code",
   "execution_count": 25,
   "metadata": {},
   "outputs": [
    {
     "name": "stdout",
     "output_type": "stream",
     "text": [
      "5.0\n"
     ]
    }
   ],
   "source": [
    "def find_mean(n1, n2):\n",
    "    x = n1 + n2\n",
    "    print(x / 2)\n",
    "\n",
    "find_mean(4, 6)"
   ]
  },
  {
   "cell_type": "markdown",
   "metadata": {},
   "source": [
    "**Practice.** The following function prints the first `n` prime numbers."
   ]
  },
  {
   "cell_type": "code",
   "execution_count": 26,
   "metadata": {},
   "outputs": [],
   "source": [
    "def first_n_primes(n):\n",
    "\n",
    "    current_number = 2\n",
    "    primes_produced = 0\n",
    "\n",
    "    while primes_produced < n:\n",
    "        if is_prime(current_number):\n",
    "            print(\"Prime number:\", current_number)\n",
    "            primes_produced += 1\n",
    "        current_number += 1"
   ]
  },
  {
   "cell_type": "markdown",
   "metadata": {},
   "source": [
    "Re-write the function such that it returns a list of the first `n` prime numbers.\n",
    "\n",
    "    Function call:   first_n_primes(5)\n",
    "    Function output: [2, 3, 5, 7, 11]"
   ]
  },
  {
   "cell_type": "code",
   "execution_count": 28,
   "metadata": {},
   "outputs": [
    {
     "name": "stdout",
     "output_type": "stream",
     "text": [
      "[2, 3, 5, 7, 11]\n"
     ]
    }
   ],
   "source": [
    "def first_n_primes(n):\n",
    "\n",
    "    result = []\n",
    "\n",
    "    current_number = 2\n",
    "    primes_produced = 0\n",
    "\n",
    "    while primes_produced < n:\n",
    "        if is_prime(current_number):\n",
    "            result.append(current_number)\n",
    "            primes_produced += 1\n",
    "        current_number += 1\n",
    "    \n",
    "    return result\n",
    "\n",
    "print(first_n_primes(5))"
   ]
  }
 ],
 "metadata": {
  "kernelspec": {
   "display_name": "Python 3",
   "language": "python",
   "name": "python3"
  },
  "language_info": {
   "codemirror_mode": {
    "name": "ipython",
    "version": 3
   },
   "file_extension": ".py",
   "mimetype": "text/x-python",
   "name": "python",
   "nbconvert_exporter": "python",
   "pygments_lexer": "ipython3",
   "version": "3.11.1"
  },
  "vscode": {
   "interpreter": {
    "hash": "b0fa6594d8f4cbf19f97940f81e996739fb7646882a419484c72d19e05852a7e"
   }
  }
 },
 "nbformat": 4,
 "nbformat_minor": 2
}
