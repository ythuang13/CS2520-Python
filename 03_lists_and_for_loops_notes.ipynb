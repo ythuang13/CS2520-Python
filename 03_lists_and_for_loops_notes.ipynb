{
 "cells": [
  {
   "cell_type": "markdown",
   "metadata": {},
   "source": [
    "<div style=\"text-align: right\">\n",
    "    <i>\n",
    "        LING 5981/6080: Fundamentals of Python <br>\n",
    "        Fall 2020 <br>\n",
    "        Aniello De Santo\n",
    "    </i>\n",
    "</div>\n",
    "\n",
    "# Notebook 3: lists and for loops\n",
    "\n",
    "This notebook introduces a new data type, `list`. It explains what methods are defined for lists (`append`, `extend`, `insert`, and others) and what issues appear when the lists are copied. Then it shows the way to access sub-elements of larger elements individually via a `for-loop`."
   ]
  },
  {
   "cell_type": "markdown",
   "metadata": {},
   "source": [
    "## Lists\n",
    "\n",
    "A `list` is a collection of items."
   ]
  },
  {
   "cell_type": "code",
   "execution_count": null,
   "metadata": {},
   "outputs": [],
   "source": []
  },
  {
   "cell_type": "code",
   "execution_count": null,
   "metadata": {},
   "outputs": [],
   "source": []
  },
  {
   "cell_type": "markdown",
   "metadata": {},
   "source": [
    "Elements in a list can be of different types: integers, strings, booleans, floats, and even other lists. \n",
    "For instance, the list below contains another list as its sub-list:"
   ]
  },
  {
   "cell_type": "code",
   "execution_count": null,
   "metadata": {},
   "outputs": [],
   "source": []
  },
  {
   "cell_type": "markdown",
   "metadata": {},
   "source": [
    "Note that each elemenent in the list is separated by a comma: `1` is an element, `\"a\"` is an element, and `[\"cab\", True]` is an element.\n",
    "\n",
    "Recall that characters in strings are ordered --- a simple reminder is that\"devil\" and \"lived\" are different strins even though they contain the same characters. Items in a list are similarly ordered: `[1, 2, 3]` is not the same as `[3, 1, 2]`."
   ]
  },
  {
   "cell_type": "code",
   "execution_count": null,
   "metadata": {},
   "outputs": [],
   "source": []
  },
  {
   "cell_type": "markdown",
   "metadata": {},
   "source": [
    "Therefore we can use indexing with lists and access each element individually. Be careful! As for strings, the first element in a list is at position `[0]`, not `[1]`."
   ]
  },
  {
   "cell_type": "code",
   "execution_count": null,
   "metadata": {},
   "outputs": [],
   "source": []
  },
  {
   "cell_type": "code",
   "execution_count": null,
   "metadata": {},
   "outputs": [],
   "source": []
  },
  {
   "cell_type": "markdown",
   "metadata": {},
   "source": [
    "Now, if a list contains more complex elements (as another list), we can access an element of the sublist via a recursive application of indexing:"
   ]
  },
  {
   "cell_type": "code",
   "execution_count": null,
   "metadata": {},
   "outputs": [],
   "source": []
  },
  {
   "cell_type": "markdown",
   "metadata": {},
   "source": [
    "Where the index in the first position is the address in the external list, and the index in second position is the address in the internal list. \n",
    "\n",
    "It might not be clear why now, but soon we will encounter problems for which it might be useful to instantiate an empty list:"
   ]
  },
  {
   "cell_type": "code",
   "execution_count": null,
   "metadata": {},
   "outputs": [],
   "source": []
  },
  {
   "cell_type": "markdown",
   "metadata": {},
   "source": [
    "### Modifying lists\n",
    "\n",
    "You can add new elements to lists by using the methods `append`, `extend` and `insert`.\n",
    "\n",
    "#### `append`\n",
    "\n",
    "This method appends a new item to an already existing list and uses the following syntax, `list_to_append_to.append(what_to_append)`."
   ]
  },
  {
   "cell_type": "code",
   "execution_count": null,
   "metadata": {},
   "outputs": [],
   "source": []
  },
  {
   "cell_type": "markdown",
   "metadata": {},
   "source": [
    "However, this is a way to add only one item, and it cannot be used directly if we want to add all items from one list to another."
   ]
  },
  {
   "cell_type": "code",
   "execution_count": null,
   "metadata": {},
   "outputs": [],
   "source": []
  },
  {
   "cell_type": "code",
   "execution_count": null,
   "metadata": {},
   "outputs": [],
   "source": []
  },
  {
   "cell_type": "markdown",
   "metadata": {},
   "source": [
    "#### `extend`\n",
    "\n",
    "The `extend` method adds the element from the second list in a _flat_ way:"
   ]
  },
  {
   "cell_type": "code",
   "execution_count": null,
   "metadata": {},
   "outputs": [],
   "source": []
  },
  {
   "cell_type": "code",
   "execution_count": null,
   "metadata": {},
   "outputs": [],
   "source": []
  },
  {
   "cell_type": "markdown",
   "metadata": {},
   "source": [
    "#### `insert`\n",
    "\n",
    "If an element needs to be inserted in a specific position, `insert` can be used with the specified index:"
   ]
  },
  {
   "cell_type": "code",
   "execution_count": null,
   "metadata": {},
   "outputs": [],
   "source": []
  },
  {
   "cell_type": "markdown",
   "metadata": {},
   "source": [
    "#### `remove` and `del`\n",
    "\n",
    "The method `remove` removes a specific item from the list."
   ]
  },
  {
   "cell_type": "code",
   "execution_count": null,
   "metadata": {},
   "outputs": [],
   "source": []
  },
  {
   "cell_type": "markdown",
   "metadata": {},
   "source": [
    "However, notice that `remove` only removes the first instance of the item:"
   ]
  },
  {
   "cell_type": "code",
   "execution_count": null,
   "metadata": {},
   "outputs": [],
   "source": []
  },
  {
   "cell_type": "markdown",
   "metadata": {},
   "source": [
    "If an item needs to be removed by position, one should use `del` operator. Notice its unusual syntax!"
   ]
  },
  {
   "cell_type": "code",
   "execution_count": null,
   "metadata": {},
   "outputs": [],
   "source": []
  },
  {
   "cell_type": "markdown",
   "metadata": {},
   "source": [
    "Rewriting an element of a list by some other element can be done directly by accessing that element by index and changing it."
   ]
  },
  {
   "cell_type": "code",
   "execution_count": null,
   "metadata": {},
   "outputs": [],
   "source": []
  },
  {
   "cell_type": "markdown",
   "metadata": {},
   "source": [
    "**Practice.** You are given the following list of letters."
   ]
  },
  {
   "cell_type": "code",
   "execution_count": null,
   "metadata": {},
   "outputs": [],
   "source": [
    "letters = [\"d\", \"b\", \"c\", \"n\"]"
   ]
  },
  {
   "cell_type": "markdown",
   "metadata": {},
   "source": [
    "Insert \"x\" at the position 3 in the list `letters`. Then remove \"c\" from it. Append \"e\". Delete the element at the index 2, and, finally, rewrite the letter at the position 1 as 'o'. Print `letters`."
   ]
  },
  {
   "cell_type": "code",
   "execution_count": null,
   "metadata": {},
   "outputs": [],
   "source": []
  },
  {
   "cell_type": "markdown",
   "metadata": {},
   "source": [
    "**Important** Differenlty from what we learned in order to modify, list methods modify the undelying list directly, so be careful!\n",
    "Compare the following:"
   ]
  },
  {
   "cell_type": "code",
   "execution_count": null,
   "metadata": {},
   "outputs": [],
   "source": []
  },
  {
   "cell_type": "markdown",
   "metadata": {},
   "source": [
    "## Copying lists\n",
    "\n",
    "One needs to be careful when copying lists because the way Python handles references to memory is a bit tricky. Consider the following code and its behavior."
   ]
  },
  {
   "cell_type": "code",
   "execution_count": null,
   "metadata": {},
   "outputs": [],
   "source": [
    "states_1 = [\"California\", \"New York\", \"Arizona\"]\n"
   ]
  },
  {
   "attachments": {},
   "cell_type": "markdown",
   "metadata": {},
   "source": [
    "All variables are stored in memory. When you are running the cell that initializes a variable, it reseves a spot in memory for that variable, or it _allocates_ memory for that variable. **Memory allocation** is the process of reserving space in memory for some object.\n",
    "\n",
    "\n",
    "If a list contains another list (i.e. if the list is _nested_), then the \"main\" and the \"internal\" lists are contained in different memory positions. The \"main\" list contains information on where to look for the \"internal\" list, and this indicator is called a **pointer**.\n",
    "\n",
    "\n",
    "\n",
    "Examples of pointers in real life:\n",
    "  * address written on an envelope (address is a string that points to your apartment);\n",
    "  * your debit card (it doesn't have money, it points to an account with your money);\n",
    "  * URL (it doesn't have any info _inside_ it, it points to a source of that information), etc."
   ]
  },
  {
   "cell_type": "markdown",
   "metadata": {},
   "source": [
    "### \"Straightforward\" copy"
   ]
  },
  {
   "cell_type": "code",
   "execution_count": null,
   "metadata": {},
   "outputs": [],
   "source": [
    "states_1 = [\"California\", \"New York\", \"Arizona\"]\n"
   ]
  },
  {
   "attachments": {},
   "cell_type": "markdown",
   "metadata": {},
   "source": [
    "When we copy a list by just assigning its value to another list, i.e. as `list_2 = list_1`, what happens in memory is the following:\n",
    "\n",
    "\n",
    "\n",
    "The new list is now _pointing to the same slot in memory_ as the old one, i.e. they are linked.\n",
    "\n",
    "**Analogy:** Mary and Jack have a shared bank account. Even though they have separate debit cards, they still point to the same bank account!"
   ]
  },
  {
   "cell_type": "code",
   "execution_count": null,
   "metadata": {},
   "outputs": [],
   "source": [
    "states_1 = [\"California\", \"New York\", \"Arizona\"]\n"
   ]
  },
  {
   "cell_type": "markdown",
   "metadata": {},
   "source": [
    "Even though we removed \"Arizona\" from the copy of the list, the original list was modified! It happens because if you copy a list in this direct way, the copy and the original list share the same _reference_, or, in other words, they occupy the same location in the memory."
   ]
  },
  {
   "cell_type": "markdown",
   "metadata": {},
   "source": [
    "### Shallow copy\n",
    "\n",
    "One way to copy the list and to avoid that problem, is to take a full slice of that list, it will create a **shallow copy**."
   ]
  },
  {
   "cell_type": "code",
   "execution_count": null,
   "metadata": {},
   "outputs": [],
   "source": [
    "states_1 = [\"California\", \"New York\", \"Arizona\"]\n"
   ]
  },
  {
   "attachments": {},
   "cell_type": "markdown",
   "metadata": {},
   "source": [
    "The state of memory now looks different than before. These two lists are not linked anymore:\n",
    "\n",
    "However, this will work if we have _flat_ lists (lists without other lists embedded in them). Let's try to do a shallow copy of a nested list."
   ]
  },
  {
   "cell_type": "code",
   "execution_count": null,
   "metadata": {},
   "outputs": [],
   "source": [
    "states_1 = [\"CA\", [\"NY\", \"NV\"]]\n"
   ]
  },
  {
   "attachments": {},
   "cell_type": "markdown",
   "metadata": {},
   "source": [
    "Remember that a \"nested\" list has a different location in memory than the \"main\" list:\n",
    "\n",
    "When we create a shallow copy of a nested list, we are reserving a separate memory location for the \"main\" list, but the pointers for the \"nested\" lists are still pointing to the same locations as in the original list!\n",
    "\n",
    "**Analogy:** Mary and Jack have different bank accounts, but they are still sharing a sub-account."
   ]
  },
  {
   "cell_type": "markdown",
   "metadata": {},
   "source": [
    "### Deep copy\n",
    "\n",
    "**Deep copy** copies references to all elements and sub-elements of the original list. However, to access this function (`deepcopy`), we need to import it from **a library** for copying different data structures called `copy`."
   ]
  },
  {
   "cell_type": "code",
   "execution_count": null,
   "metadata": {},
   "outputs": [],
   "source": [
    "# The following command maked \"deepcopy\" availabe to be used\n",
    "from copy import deepcopy"
   ]
  },
  {
   "cell_type": "markdown",
   "metadata": {},
   "source": [
    "After `from` write the name of the library, and after `import` we name the function that is being imported."
   ]
  },
  {
   "cell_type": "code",
   "execution_count": null,
   "metadata": {},
   "outputs": [],
   "source": [
    "states_1 = [\"CA\", \"CO\", [\"NY\", \"NV\"], \"RI\"]\n"
   ]
  },
  {
   "attachments": {},
   "cell_type": "markdown",
   "metadata": {},
   "source": [
    "In this case, we are copying the architecture of the list we had originally, and allocating different memory locations for every single sub-list of the original list.\n",
    "\n",
    "**Analogy:** Mary and Jack have completely separate bank accounts and have nothing to do with each other."
   ]
  },
  {
   "cell_type": "markdown",
   "metadata": {},
   "source": [
    "**Question:** why does the following slightly modified code produce an error message?"
   ]
  },
  {
   "cell_type": "code",
   "execution_count": null,
   "metadata": {},
   "outputs": [],
   "source": [
    "states_1 = [\"CA\", \"CO\", [\"NY\", \"NV\"], \"RI\"]\n"
   ]
  },
  {
   "cell_type": "markdown",
   "metadata": {},
   "source": [
    "## For-loops\n",
    "\n",
    "For loops allow us to _iterate_ over elements of containers such as lists or strings, and to access items of those containers individually, in order. The syntax is following:\n",
    "\n",
    "     for item in container:\n",
    "            # the variable \"item\" now refers to the next item of the container\n",
    "           "
   ]
  },
  {
   "cell_type": "code",
   "execution_count": null,
   "metadata": {},
   "outputs": [],
   "source": [
    "\n",
    "    "
   ]
  },
  {
   "cell_type": "code",
   "execution_count": null,
   "metadata": {},
   "outputs": [],
   "source": []
  },
  {
   "cell_type": "markdown",
   "metadata": {},
   "source": [
    "The code withing the for-loop will be executed for as many times as there are items in the container! This will turn out to be very useful!\n",
    "For instance, we can combine `if`-`elif`-`else` statements and `for` loops."
   ]
  },
  {
   "cell_type": "code",
   "execution_count": null,
   "metadata": {},
   "outputs": [],
   "source": [
    "vowels = [\"a\", \"e\", \"i\", \"o\", \"u\"]\n"
   ]
  },
  {
   "cell_type": "markdown",
   "metadata": {},
   "source": [
    "Of course, `for` loops can be contained within `for` loops."
   ]
  },
  {
   "cell_type": "code",
   "execution_count": null,
   "metadata": {},
   "outputs": [],
   "source": [
    "cities = [\"NYC\", \"LA\", \"SF\"]\n",
    "\n"
   ]
  },
  {
   "cell_type": "markdown",
   "metadata": {},
   "source": [
    "**Practice.** We are given lists of questions and possible answers."
   ]
  },
  {
   "cell_type": "code",
   "execution_count": null,
   "metadata": {},
   "outputs": [],
   "source": [
    "questions = [\"How are you?\", \"What are you doing?\", \"What's your name?\"]\n",
    "answers = [\"Fine!\", \"Nothing much\", \"Jen\"]"
   ]
  },
  {
   "cell_type": "markdown",
   "metadata": {},
   "source": [
    "Ask user every one of these questions, and if that answer is present in our list of answers, print \"I knew it!\"."
   ]
  },
  {
   "cell_type": "code",
   "execution_count": null,
   "metadata": {},
   "outputs": [],
   "source": []
  },
  {
   "cell_type": "markdown",
   "metadata": {},
   "source": [
    "**Practice.** You are given the following two lists."
   ]
  },
  {
   "cell_type": "code",
   "execution_count": 2,
   "metadata": {},
   "outputs": [],
   "source": [
    "cities = [\"NYC\", \"LA\", \"SF\"]\n",
    "small_cities = [\"Stony Brook\", \"Provo\"]"
   ]
  },
  {
   "cell_type": "markdown",
   "metadata": {},
   "source": [
    "Add cities from `small_cities` to `cities` using the `append` method and a `for` loop, so that it would yield the following list:\n",
    "\n",
    "    [\"NYC\", \"LA\", \"SF\", \"Stony Brook\", \"Provo\"]"
   ]
  },
  {
   "cell_type": "code",
   "execution_count": 3,
   "metadata": {},
   "outputs": [
    {
     "name": "stdout",
     "output_type": "stream",
     "text": [
      "['NYC', 'LA', 'SF', 'Stony Brook', 'Provo']\n"
     ]
    }
   ],
   "source": [
    "cities = cities + small_cities\n",
    "print(cities)"
   ]
  }
 ],
 "metadata": {
  "kernelspec": {
   "display_name": "Python 3",
   "language": "python",
   "name": "python3"
  },
  "language_info": {
   "codemirror_mode": {
    "name": "ipython",
    "version": 3
   },
   "file_extension": ".py",
   "mimetype": "text/x-python",
   "name": "python",
   "nbconvert_exporter": "python",
   "pygments_lexer": "ipython3",
   "version": "3.11.1"
  },
  "vscode": {
   "interpreter": {
    "hash": "aee8b7b246df8f9039afb4144a1f6fd8d2ca17a180786b69acc140d282b71a49"
   }
  }
 },
 "nbformat": 4,
 "nbformat_minor": 2
}
