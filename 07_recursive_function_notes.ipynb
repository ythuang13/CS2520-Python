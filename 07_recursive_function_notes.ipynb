{
 "cells": [
  {
   "attachments": {},
   "cell_type": "markdown",
   "metadata": {},
   "source": [
    "## Recursive function definition\n",
    "\n",
    "A recursive function is a function that calls itself repeatedly to solve a problem. It breaks down a problem into smaller and simpler subproblems until a base case is reached. The base case is the simplest version of the problem that can be solved directly, without further recursion.\n",
    "\n",
    "Recursive functions are useful in situations where a problem can be broken down into smaller and simpler subproblems, and where the solution to the overall problem depends on the solution to these subproblems. Recursive functions can help to make code more concise and easier to read, and can also make it easier to solve certain types of problems.\n",
    "\n",
    "Some specific use cases for recursive functions include:\n",
    "\n",
    "1. Tree and graph traversal: Recursive functions can be used to traverse tree and graph structures, where each node has zero or more children nodes. The recursive function can be designed to visit each node and then recursively call itself on each of the node's children.\n",
    "2. Sorting and searching: Recursive functions can be used to implement sorting and searching algorithms, such as quicksort and binary search. In these cases, the function repeatedly divides the input data into smaller subproblems until the base case is reached, at which point it can return a result.\n",
    "3. Mathematical problems: Recursive functions can be used to solve mathematical problems that involve breaking down a complex problem into smaller subproblems. For example, the \n",
    "Fibonacci sequence is defined recursively, and can be easily calculated using a recursive function.\n",
    "\n",
    "Overall, recursive functions can be a powerful tool for solving certain types of problems, and can make code more elegant and readable. However, it's important to use them judiciously, as they can be less efficient than iterative solutions for certain types of problems, and can also be prone to stack overflow errors if the recursion depth becomes too large.\n",
    "\n",
    "**[Fibonacci numbers](https://en.wikipedia.org/wiki/Fibonacci_number)** The Fibonacci sequence is a well known mathmatical concept, with surprising appereances in nature. Watch [this TED talk](https://www.youtube.com/watch?v=SjSHVDfXHQ4)!\n",
    "The first two numbers of the Fibonacci sequence are $1$ and $1$. Every following number is defined as a sum of the two previous ones:\n",
    "\n",
    "    F[n] = F[n-2] + F[n-1]\n",
    "    \n",
    "The beginning of the Fibonacci sequence looks as follows:\n",
    "\n",
    "    1 1 2 3 5 8 13 21 34 55 89 <...>\n",
    "\n",
    "Below, there is a function generating the `n`th Fibonacci number. Take your time to undestand how exactly the function works to achieve its goal."
   ]
  },
  {
   "cell_type": "code",
   "execution_count": 7,
   "metadata": {},
   "outputs": [],
   "source": [
    "def fibonacci(n):\n",
    "\n",
    "    previous = [1, 1]\n",
    "\n",
    "    while len(previous) < n:\n",
    "        new = previous[-2] + previous[-1]\n",
    "        previous.append(new)\n",
    "\n",
    "    return previous[-1]"
   ]
  },
  {
   "cell_type": "code",
   "execution_count": 8,
   "metadata": {},
   "outputs": [
    {
     "data": {
      "text/plain": [
       "354224848179261915075"
      ]
     },
     "execution_count": 8,
     "metadata": {},
     "output_type": "execute_result"
    }
   ],
   "source": [
    "fibonacci(100)"
   ]
  },
  {
   "cell_type": "code",
   "execution_count": 1,
   "metadata": {},
   "outputs": [],
   "source": [
    "#don't forget to call the function!\n"
   ]
  },
  {
   "cell_type": "markdown",
   "metadata": {},
   "source": [
    "The same task can be solved by defining the function _recursively_: the function has implements a simple base case, and then builds towards the more complex goal by calling itself over and over.\n",
    "We can simply define the **basic return** cases initially, and then buld the **recursive returns** such that they will always boil down to the basic cases."
   ]
  },
  {
   "cell_type": "code",
   "execution_count": 11,
   "metadata": {},
   "outputs": [],
   "source": [
    "def recursive_fibonacci(n):\n",
    "\n",
    "    if n in [1, 2]:\n",
    "        return 1\n",
    "\n",
    "    return recursive_fibonacci(n - 2) + recursive_fibonacci(n - 1)"
   ]
  },
  {
   "cell_type": "code",
   "execution_count": 12,
   "metadata": {},
   "outputs": [
    {
     "data": {
      "text/plain": [
       "13"
      ]
     },
     "execution_count": 12,
     "metadata": {},
     "output_type": "execute_result"
    }
   ],
   "source": [
    "recursive_fibonacci(7)"
   ]
  },
  {
   "cell_type": "code",
   "execution_count": 36,
   "metadata": {},
   "outputs": [
    {
     "data": {
      "text/plain": [
       "13"
      ]
     },
     "execution_count": 36,
     "metadata": {},
     "output_type": "execute_result"
    }
   ],
   "source": [
    "def better_rec_fib(n):\n",
    "\n",
    "    if n in [1, 2]:\n",
    "        return 1, 1\n",
    "    \n",
    "    temp = better_rec_fib(n - 1)\n",
    "    return temp[1], temp[0] + temp[1]\n",
    "\n",
    "def wrapper(n):\n",
    "    return better_rec_fib(n)[1]\n",
    "\n",
    "wrapper(7)"
   ]
  },
  {
   "cell_type": "markdown",
   "metadata": {},
   "source": [
    "For example, consider the way the $7$th Fibonacci member is calculated. Calculating the $7$th member is the same as calculating the sum of the $5$th and $6$th members. Calculating the $5$th member is the sum of the $3$rd and the $4$th, and so on.\n",
    "This can be exemplified with the following tree. The basic return cases are marked in green (\"leaf\" computations\"), whereas the recursive steps are colored in blue (\"nodes\" requiring the additional depth)."
   ]
  },
  {
   "cell_type": "markdown",
   "metadata": {},
   "source": [
    "<img src=\"images/8_1.png\" width=\"550\">"
   ]
  },
  {
   "cell_type": "markdown",
   "metadata": {},
   "source": [
    "**Timing the code.** Let us now compare the performance of these two functions by _timing_ them."
   ]
  },
  {
   "cell_type": "code",
   "execution_count": 13,
   "metadata": {},
   "outputs": [],
   "source": [
    "from time import time"
   ]
  },
  {
   "cell_type": "markdown",
   "metadata": {},
   "source": [
    "The function `time` from the package `time` returns the number of seconds that passed since the beginning of the **Unix time** (also known as _epoch)._ It started on the **1st of January, 12:00 am, 1970**."
   ]
  },
  {
   "cell_type": "code",
   "execution_count": 14,
   "metadata": {},
   "outputs": [
    {
     "name": "stdout",
     "output_type": "stream",
     "text": [
      "Current time: 1678229587.4900422\n"
     ]
    }
   ],
   "source": [
    "print(\"Current time:\", time())"
   ]
  },
  {
   "cell_type": "markdown",
   "metadata": {},
   "source": [
    "It is possible to time the code by \"saving\" the start and end times, and then substracting the start time from the end time, therefore yielding the number of seconds the code was running."
   ]
  },
  {
   "cell_type": "code",
   "execution_count": 39,
   "metadata": {},
   "outputs": [
    {
     "data": {
      "text/plain": [
       "3.7670135498046875e-05"
      ]
     },
     "execution_count": 39,
     "metadata": {},
     "output_type": "execute_result"
    }
   ],
   "source": [
    "previous_time = time()\n",
    "fibonacci(25)\n",
    "current_time = time()\n",
    "runtime = current_time - previous_time\n",
    "runtime\n"
   ]
  },
  {
   "cell_type": "code",
   "execution_count": 44,
   "metadata": {},
   "outputs": [
    {
     "data": {
      "text/plain": [
       "3.504753112792969e-05"
      ]
     },
     "execution_count": 44,
     "metadata": {},
     "output_type": "execute_result"
    }
   ],
   "source": [
    "previous_time = time()\n",
    "wrapper(25)\n",
    "current_time = time()\n",
    "runtime_r = current_time - previous_time\n",
    "runtime_r\n"
   ]
  },
  {
   "cell_type": "code",
   "execution_count": 45,
   "metadata": {},
   "outputs": [
    {
     "data": {
      "text/plain": [
       "0.930379746835443"
      ]
     },
     "execution_count": 45,
     "metadata": {},
     "output_type": "execute_result"
    }
   ],
   "source": [
    "runtime_r/runtime"
   ]
  },
  {
   "cell_type": "markdown",
   "metadata": {},
   "source": [
    "**Question:** What code runs slower? Why?\n",
    "\n",
    "**Note** Since we executing this functions on a server and not on our local machines, if you execute time() multiple times you might notice slight differences, due to the execution time of the coe through the notebook. However, since we are interested in execution times comparatevely, these minor differences don't matter."
   ]
  },
  {
   "attachments": {},
   "cell_type": "markdown",
   "metadata": {},
   "source": [
    "### Problem Set\n",
    "\n",
    "\n",
    "One good example of a recursive function is the factorial function. The factorial of a non-negative integer n, denoted as n!, is the product of all positive integers less than or equal to n. For example, 5! = 5 * 4 * 3 * 2 * 1 = 120. The recursive definition of the factorial function is:\n",
    "\n",
    "\n",
    "n! = n * (n-1) * (n-2) * ... * 1\n",
    "\n",
    "n! = n * (n-1)!\n",
    "Using this definition, write a recursive function to compute the factorial of a number:"
   ]
  },
  {
   "cell_type": "code",
   "execution_count": 47,
   "metadata": {},
   "outputs": [
    {
     "data": {
      "text/plain": [
       "120"
      ]
     },
     "execution_count": 47,
     "metadata": {},
     "output_type": "execute_result"
    }
   ],
   "source": [
    "def factorial(n):\n",
    "    if n == 0 or n == 1:\n",
    "        return 1\n",
    "    return n * factorial(n - 1)\n",
    "\n",
    "factorial(5)"
   ]
  },
  {
   "cell_type": "markdown",
   "metadata": {},
   "source": [
    "## Optional: lambda functions\n",
    "\n",
    "Sometimes, the body of the function contains only a return followed by a simple expression."
   ]
  },
  {
   "cell_type": "code",
   "execution_count": 48,
   "metadata": {},
   "outputs": [],
   "source": [
    "def square(number):\n",
    "    return number ** 2"
   ]
  },
  {
   "cell_type": "markdown",
   "metadata": {},
   "source": [
    "In such cases, we can use a special type of functions called **lambda functions**. They can be defined in the following manner:\n",
    "\n",
    "    function_name = lambda arg_1, arg_2, <...>, arg_n: what_needs_to_be_returned\n",
    "\n",
    "Consider the previously defined function `square` re-defined as a lambda function."
   ]
  },
  {
   "cell_type": "code",
   "execution_count": 49,
   "metadata": {},
   "outputs": [
    {
     "data": {
      "text/plain": [
       "4"
      ]
     },
     "execution_count": 49,
     "metadata": {},
     "output_type": "execute_result"
    }
   ],
   "source": [
    "square = lambda n : n ** 2\n",
    "square(2)"
   ]
  },
  {
   "cell_type": "code",
   "execution_count": 50,
   "metadata": {},
   "outputs": [
    {
     "data": {
      "text/plain": [
       "10"
      ]
     },
     "execution_count": 50,
     "metadata": {},
     "output_type": "execute_result"
    }
   ],
   "source": [
    "multiply = lambda x, y: x * y\n",
    "multiply(2, 5)"
   ]
  },
  {
   "cell_type": "code",
   "execution_count": 55,
   "metadata": {},
   "outputs": [
    {
     "data": {
      "text/plain": [
       "['hello', 'good', 'morning']"
      ]
     },
     "execution_count": 55,
     "metadata": {},
     "output_type": "execute_result"
    }
   ],
   "source": [
    "clean_split = lambda text : \"\".join([i for i in text if i not in [\",\", \":\", \"!\"]]).lower().split()\n",
    "clean_split('Hello, Good morning!')"
   ]
  },
  {
   "cell_type": "markdown",
   "metadata": {},
   "source": [
    "**Question:** is it possible to define a `lambda` function that takes $0$ arguments?"
   ]
  },
  {
   "cell_type": "code",
   "execution_count": 51,
   "metadata": {},
   "outputs": [
    {
     "data": {
      "text/plain": [
       "5"
      ]
     },
     "execution_count": 51,
     "metadata": {},
     "output_type": "execute_result"
    }
   ],
   "source": [
    "#try it out\n",
    "zero_arg = lambda : 5\n",
    "zero_arg()"
   ]
  },
  {
   "cell_type": "markdown",
   "metadata": {},
   "source": [
    "The function `map` takes a function and a list as arguments, and applies that function to every item of that list."
   ]
  },
  {
   "cell_type": "code",
   "execution_count": 58,
   "metadata": {},
   "outputs": [
    {
     "data": {
      "text/plain": [
       "[5, 6, 9]"
      ]
     },
     "execution_count": 58,
     "metadata": {},
     "output_type": "execute_result"
    }
   ],
   "source": [
    "strings = [\"apple\", \"banana\", \"pineapple\"]\n",
    "list(map(len, strings))"
   ]
  },
  {
   "cell_type": "markdown",
   "metadata": {},
   "source": [
    "Functions and lambda functions in particular can be used by `map`."
   ]
  },
  {
   "cell_type": "code",
   "execution_count": 56,
   "metadata": {},
   "outputs": [
    {
     "data": {
      "text/plain": [
       "[2, 4, 6, 8, 10]"
      ]
     },
     "execution_count": 56,
     "metadata": {},
     "output_type": "execute_result"
    }
   ],
   "source": [
    "double = lambda n : n * 2\n",
    "numbers = [1,2,3,4,5]\n",
    "doubled = list(map(double, numbers))\n",
    "doubled"
   ]
  },
  {
   "cell_type": "markdown",
   "metadata": {},
   "source": [
    "One of the most frequent uses of a lambda function is to define a very simple function _on the fly_. In this case, instead of defining the function previously and then calling it by its name, we define the function **anonymously**, i.e. without assigning a name to it."
   ]
  },
  {
   "cell_type": "code",
   "execution_count": 61,
   "metadata": {},
   "outputs": [
    {
     "data": {
      "text/plain": [
       "[2, 4, 6, 8, 10]"
      ]
     },
     "execution_count": 61,
     "metadata": {},
     "output_type": "execute_result"
    }
   ],
   "source": [
    "numbers = [1,2,3,4,5]\n",
    "doubled = list(map(lambda n : n*2, numbers))\n",
    "doubled"
   ]
  },
  {
   "cell_type": "markdown",
   "metadata": {},
   "source": [
    "**Practice.** Using `map` and an anonymous `lambda` function, make a copy of `words` where only the first half of every word will be preserved.\n",
    "\n",
    "    words = ['linguistics', 'syntax', 'morphology', 'phonology']\n",
    "    short = ['lingu', 'syn', 'morph', 'phon']"
   ]
  },
  {
   "cell_type": "code",
   "execution_count": 64,
   "metadata": {},
   "outputs": [
    {
     "data": {
      "text/plain": [
       "['lingu', 'syn', 'morph', 'phon']"
      ]
     },
     "execution_count": 64,
     "metadata": {},
     "output_type": "execute_result"
    }
   ],
   "source": [
    "words = [\"linguistics\", \"syntax\", \"morphology\", \"phonology\"]\n",
    "\n",
    "# your code here\n",
    "short = list(map(lambda w: w[:len(w)//2],words))\n",
    "short"
   ]
  },
  {
   "cell_type": "code",
   "execution_count": null,
   "metadata": {},
   "outputs": [],
   "source": []
  },
  {
   "attachments": {},
   "cell_type": "markdown",
   "metadata": {},
   "source": [
    "**Practice.** You have a list of integers, and you want to create a new list that contains only the even numbers in the original list. Write a Python program that uses lambda functions to accomplish this task."
   ]
  },
  {
   "cell_type": "code",
   "execution_count": 67,
   "metadata": {},
   "outputs": [
    {
     "data": {
      "text/plain": [
       "[0, 2, 4, 6, 8]"
      ]
     },
     "execution_count": 67,
     "metadata": {},
     "output_type": "execute_result"
    }
   ],
   "source": [
    "numbers = range(10)\n",
    "\n",
    "even = lambda n : [x for x in n if x % 2 == 0]\n",
    "even(numbers)"
   ]
  },
  {
   "cell_type": "code",
   "execution_count": 68,
   "metadata": {},
   "outputs": [
    {
     "data": {
      "text/plain": [
       "[0, 2, 4, 6, 8]"
      ]
     },
     "execution_count": 68,
     "metadata": {},
     "output_type": "execute_result"
    }
   ],
   "source": [
    "numbers = range(10)\n",
    "is_even = lambda x : x % 2 == 0\n",
    "[i for i in numbers if is_even(i)]"
   ]
  },
  {
   "cell_type": "code",
   "execution_count": 69,
   "metadata": {},
   "outputs": [
    {
     "data": {
      "text/plain": [
       "[0, 2, 4, 6, 8]"
      ]
     },
     "execution_count": 69,
     "metadata": {},
     "output_type": "execute_result"
    }
   ],
   "source": [
    "list(filter(is_even, numbers))"
   ]
  },
  {
   "cell_type": "code",
   "execution_count": null,
   "metadata": {},
   "outputs": [],
   "source": []
  }
 ],
 "metadata": {
  "kernelspec": {
   "display_name": "Python 3",
   "language": "python",
   "name": "python3"
  },
  "language_info": {
   "codemirror_mode": {
    "name": "ipython",
    "version": 3
   },
   "file_extension": ".py",
   "mimetype": "text/x-python",
   "name": "python",
   "nbconvert_exporter": "python",
   "pygments_lexer": "ipython3",
   "version": "3.11.1"
  },
  "vscode": {
   "interpreter": {
    "hash": "b0fa6594d8f4cbf19f97940f81e996739fb7646882a419484c72d19e05852a7e"
   }
  }
 },
 "nbformat": 4,
 "nbformat_minor": 2
}
